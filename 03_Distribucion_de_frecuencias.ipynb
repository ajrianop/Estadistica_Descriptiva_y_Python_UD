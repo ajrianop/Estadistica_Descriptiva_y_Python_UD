{
  "nbformat": 4,
  "nbformat_minor": 0,
  "metadata": {
    "colab": {
      "provenance": [],
      "authorship_tag": "ABX9TyPWv7Wb7QKv+7hav0tGdnLt",
      "include_colab_link": true
    },
    "kernelspec": {
      "name": "python3",
      "display_name": "Python 3"
    },
    "language_info": {
      "name": "python"
    }
  },
  "cells": [
    {
      "cell_type": "markdown",
      "metadata": {
        "id": "view-in-github",
        "colab_type": "text"
      },
      "source": [
        "<a href=\"https://colab.research.google.com/github/ajrianop/Estadistica_Descriptiva_y_Python_UD2023-3/blob/main/03_Distribucion_de_frecuencias.ipynb\" target=\"_parent\"><img src=\"https://colab.research.google.com/assets/colab-badge.svg\" alt=\"Open In Colab\"/></a>"
      ]
    },
    {
      "cell_type": "markdown",
      "source": [
        "# **Distribución de frecuencias**"
      ],
      "metadata": {
        "id": "azBl33O3-ZBi"
      }
    },
    {
      "cell_type": "markdown",
      "source": [
        "Las medidas de tendencia central y medidas de dispersión resumen los datos planteados para el estudio, al ser algunos valores fijos, estos no describen en su totalidad una buena descripción de la forma como se distribuyen los datos o están organizados a un nivel más global. De este modo, este problema se solventa al considerar númerica y gráficamente la forma como se agrupan el conjunto de datos. De este modo la distribución de frecuencias se puede realizar para una o varias variables. De este modo tenemos una clasificación, se dice :\n",
        "1. una distribución univariada, si la distribución de frecuencias se realiza para una variable.\n",
        "2. una distribución bivariada, si la distribución de frecuencias se realiza para dos variable.\n",
        "3. una distribución multivariada, si la distribución de frecuencias se realiza para varias variables.\n",
        "**Nota:** Es importante tener en cuenta que si tenemos una gran cantidad de datos para realizar la distribución de frecuencias, va a ser un proceso tedioso realizar de manera manual el estudio gráfico y númerico. De este modo vamos a implementar algunas herramientas para facilitar el computo de la información obtenida a partir de los diferentes datos."
      ],
      "metadata": {
        "id": "7eO4g_laKQIT"
      }
    },
    {
      "cell_type": "markdown",
      "source": [
        "## **Distribución de frecuencias univariadas**"
      ],
      "metadata": {
        "id": "h4lEI_Vh1z9G"
      }
    },
    {
      "cell_type": "markdown",
      "source": [
        "## **Distribución de frecuencias bidimensionales de frecuencias**"
      ],
      "metadata": {
        "id": "-hNqNzQh130H"
      }
    },
    {
      "cell_type": "markdown",
      "source": [],
      "metadata": {
        "id": "RpEwiy_wVdBH"
      }
    }
  ]
}