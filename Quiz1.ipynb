{
  "nbformat": 4,
  "nbformat_minor": 0,
  "metadata": {
    "colab": {
      "provenance": [],
      "authorship_tag": "ABX9TyNmdxkw/VUhMrlHCD5NEW29",
      "include_colab_link": true
    },
    "kernelspec": {
      "name": "python3",
      "display_name": "Python 3"
    },
    "language_info": {
      "name": "python"
    }
  },
  "cells": [
    {
      "cell_type": "markdown",
      "metadata": {
        "id": "view-in-github",
        "colab_type": "text"
      },
      "source": [
        "<a href=\"https://colab.research.google.com/github/ajrianop/Estadistica_Descriptiva_y_Python_UD2023-3/blob/main/Quiz1.ipynb\" target=\"_parent\"><img src=\"https://colab.research.google.com/assets/colab-badge.svg\" alt=\"Open In Colab\"/></a>"
      ]
    },
    {
      "cell_type": "markdown",
      "source": [
        "# **Quiz 1**"
      ],
      "metadata": {
        "id": "K2MwAtxmwa3w"
      }
    },
    {
      "cell_type": "markdown",
      "source": [
        "1. Explique los pasos para realizar un buen análisis de datos.\n",
        "2. Escriba tres tipos de datos con los que trabajaremos en Python."
      ],
      "metadata": {
        "id": "sTRv3r1owh3S"
      }
    },
    {
      "cell_type": "code",
      "execution_count": null,
      "metadata": {
        "id": "jAT-7nIZwaIQ"
      },
      "outputs": [],
      "source": []
    }
  ]
}