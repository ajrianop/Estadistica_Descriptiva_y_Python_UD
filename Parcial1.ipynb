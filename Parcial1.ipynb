{
  "nbformat": 4,
  "nbformat_minor": 0,
  "metadata": {
    "colab": {
      "provenance": [],
      "authorship_tag": "ABX9TyMcoyOVDctxGGO2KJDckTbv",
      "include_colab_link": true
    },
    "kernelspec": {
      "name": "python3",
      "display_name": "Python 3"
    },
    "language_info": {
      "name": "python"
    }
  },
  "cells": [
    {
      "cell_type": "markdown",
      "metadata": {
        "id": "view-in-github",
        "colab_type": "text"
      },
      "source": [
        "<a href=\"https://colab.research.google.com/github/ajrianop/Estadistica_Descriptiva_y_Python_UD2023-3/blob/main/Parcial1.ipynb\" target=\"_parent\"><img src=\"https://colab.research.google.com/assets/colab-badge.svg\" alt=\"Open In Colab\"/></a>"
      ]
    },
    {
      "cell_type": "markdown",
      "source": [
        "# **Parcial 1**"
      ],
      "metadata": {
        "id": "Qq81qUmASNH_"
      }
    },
    {
      "cell_type": "code",
      "execution_count": null,
      "metadata": {
        "id": "5d79Jd8nR-c8"
      },
      "outputs": [],
      "source": [
        "# Funciones a utilizar\n",
        "\n",
        "def arithmetic_mean(values : list):\n",
        "  '''\n",
        "  Función que permite calcular la media aritmética\n",
        "  values --> list\n",
        "  '''\n",
        "  _sum = 0\n",
        "  n = len(values)\n",
        "\n",
        "  for value in values:\n",
        "      _sum += value  # _sum = _sum + value\n",
        "\n",
        "  return _sum / n\n",
        "\n",
        "\n",
        "def geometric_mean(values : list):\n",
        "  '''\n",
        "  Función que permite calcular la media geométrica\n",
        "  values --> list\n",
        "  '''\n",
        "  product = 1\n",
        "  n = len(values)\n",
        "\n",
        "  for value in values:\n",
        "      product *= value\n",
        "\n",
        "  return (product ** (1 / n))\n",
        "\n",
        "def harmonic_mean(values : list):\n",
        "  '''\n",
        "  Función que permite calcular la media armónica\n",
        "  values --> list\n",
        "  '''\n",
        "  _sum = 0\n",
        "  n = len(values)\n",
        "\n",
        "  for value in values:\n",
        "      _sum += 1/value  # Convierte el porcentaje a decimal\n",
        "\n",
        "  return n/_sum\n",
        "\n",
        "\n",
        "def quadratic_mean(values : list):\n",
        "  '''\n",
        "  Función que permite calcular la media cuadrática\n",
        "  values --> list\n",
        "  '''\n",
        "  _sum = 0\n",
        "  n = len(values)\n",
        "\n",
        "  for value in values:\n",
        "      _sum += value ** 2  # Convierte el porcentaje a decimal\n",
        "\n",
        "  return (_sum/n)** 0.5\n",
        "\n",
        "\n",
        "def mid_range(values : list):\n",
        "  '''\n",
        "  Función que permite calcular rango medio\n",
        "  values --> list\n",
        "  '''\n",
        "  _min = min(values)\n",
        "  _max = max(values)\n",
        "\n",
        "  return ( _min + _max )/2\n",
        "\n",
        "def median(values : list):\n",
        "  '''\n",
        "  Función que permite calcular la mediana\n",
        "  values --> list\n",
        "  '''\n",
        "  n = len(values)\n",
        "  if n % 2 == 1:\n",
        "      mediana = values[n // 2]\n",
        "  else:\n",
        "      mediana = (values[(n - 1) // 2] + values[n // 2]) / 2\n",
        "  return mediana\n",
        "\n",
        "from collections import Counter\n",
        "\n",
        "def mode(values : list):\n",
        "  '''\n",
        "  Función que permite calcular la moda\n",
        "  values --> list\n",
        "  '''\n",
        "  # Se genera la clase counter que tiene un diccionario organizado de mayor a menor por cantidad de votos\n",
        "  # {key : value}  ---> key : puntuacion ,  value: cantidad de veces repetida la puntuacion\n",
        "  contador_frecuencia = Counter(values)\n",
        "  # Generar una lista de tuplas (dato , votación de ese dato)\n",
        "  modas_resultados = contador_frecuencia.most_common()\n",
        "\n",
        "  # Obtener los valores de las modas y sus frecuencias\n",
        "  modas = [moda[0] for moda in modas_resultados if moda[1] == modas_resultados[0][1]]\n",
        "  frecuencia_maxima = modas_resultados[0][1]\n",
        "  return modas , frecuencia_maxima\n",
        "\n",
        "# Medidas de dispersión\n",
        "\n",
        "def range_func(values : list):\n",
        "  '''\n",
        "  Función rango de estadística, la cual consifera punto máximo y mínimo de\n",
        "  la lista y calcula su diferencia.\n",
        "  values ---> list\n",
        "  '''\n",
        "  return max(values)-min(values)\n",
        "\n",
        "def mean_deviation(values : list):\n",
        "  '''\n",
        "  Función desviación media, la cuál permite ver que tan dispersa esta la\n",
        "  información con respecto a la media (media aritmética)\n",
        "  values ---> list\n",
        "  '''\n",
        "  _sum = 0\n",
        "  _mean = arithmetic_mean(values)\n",
        "  n = len(values)\n",
        "  for value in values:\n",
        "    _sum += abs(value - _mean)\n",
        "  return _sum / n\n",
        "\n",
        "def variance(datos):\n",
        "  '''\n",
        "  Función varianza, la cuál permite ver que tan dispersa esta la\n",
        "  información con respecto a la media (media aritmética), en este caso con el\n",
        "  cuadrado de la diferencia.\n",
        "  values ---> list\n",
        "  '''\n",
        "  media = sum(datos) / len(datos)\n",
        "  varianza = sum((x - media) ** 2 for x in datos) / (len(datos) - 1)\n",
        "  return varianza\n",
        "\n",
        "def standard_deviation(values : list):\n",
        "  '''\n",
        "  Función desviación estándar, la cuál permite ver que tan dispersa esta la\n",
        "  información con respecto a la media (media aritmética).\n",
        "  values ---> list\n",
        "  '''\n",
        "  return variance(values) ** (1/2)\n",
        "\n",
        "def coefficient_of_variation(values : list):\n",
        "  '''\n",
        "  Función de coeficientes de variación dados unos valores iniciales.\n",
        "  Note que el resultado es un porcentaje.\n",
        "  values ---> list\n",
        "  '''\n",
        "  _mean = arithmetic_mean(values)\n",
        "  _std = standard_deviation(values)\n",
        "\n",
        "  return (_std  / _mean ) * 100"
      ]
    },
    {
      "cell_type": "code",
      "source": [
        "# Definimos una función con todas las medidas de tendencia central vistas en clase:\n",
        "\n",
        "def calculo_med_tend_central(values : list, comentario : str):\n",
        "  '''\n",
        "  Función que cálcula:\n",
        "  Media Aritmética\n",
        "  Media Geométrica\n",
        "  Media Armónica\n",
        "  Media Cuadrática\n",
        "  Rango Medio\n",
        "  Mediana\n",
        "  Moda\n",
        "  '''\n",
        "  _dict = dict()\n",
        "  ari_mean = arithmetic_mean(values)\n",
        "  geo_mean = geometric_mean(values)\n",
        "  har_mean = harmonic_mean(values)\n",
        "  qua_mean = quadratic_mean(values)\n",
        "  mid_range1 = mid_range(values)\n",
        "  _median = median(values)\n",
        "  _mode = mode(values)\n",
        "  _range_func = range_func(values)\n",
        "  _mean_deviation = mean_deviation(values)\n",
        "  _variance = variance(values)\n",
        "  _standard_deviation = standard_deviation(values)\n",
        "  coef_var = coefficient_of_variation(values)\n",
        "\n",
        "  dict_measures = {\"arithmetic_mean\" :ari_mean , \"geometric_mean\" : geo_mean, \"harmonic_mean\" : har_mean, \"quadratic_mean\" : qua_mean, \"mid_range\" : mid_range1, \"median\" : _median , \"mode = (mode , frequency)\" : _mode ,  \"range\" :  _range_func , \"mean deviation\" : _mean_deviation , \"variance\" : _variance , \"standard deviation\" : _standard_deviation , \"coefficient of variation\" : coef_var , \"comentario\" : comentario}\n",
        "  for i in dict_measures:\n",
        "    _dict[i] = dict_measures[i]\n",
        "\n",
        "  return _dict"
      ],
      "metadata": {
        "id": "tSVY8EwvSsHx"
      },
      "execution_count": null,
      "outputs": []
    },
    {
      "cell_type": "markdown",
      "source": [
        "## **Ejercicio 1**"
      ],
      "metadata": {
        "id": "J0-yzqaeSU2t"
      }
    },
    {
      "cell_type": "markdown",
      "source": [
        "Se esta realizando un estudio de resistencia de materiales en vigas de acero para un proyecto de construcción de puentes. Se te proporcionan los siguientes datos de resistencia a la tensión (en MPa) de 8 muestras de acero tomadas de diferentes partes de una viga de puente. Datos: $[450, 470, 480, 485, 490, 500, 510, 520].$\n",
        "\n",
        "Calcular las siguientes medidas:\n",
        "1. Media aritmética y media geométrica de los datos.\n",
        "2. Mediana y moda de los datos.\n",
        "3. Desviación estándar de los datos. ¿Para que es útil esta medida?"
      ],
      "metadata": {
        "id": "DK3kzJ5kW9Nv"
      }
    },
    {
      "cell_type": "code",
      "source": [
        "# Realizamos el cálculo de lista\n",
        "_list = [450, 470, 480, 485, 490, 500, 510, 520]\n",
        "\n",
        "_dict = calculo_med_tend_central(_list, 'Cálculo medidas parcial 1, punto 1.')"
      ],
      "metadata": {
        "id": "HAC4De3hSVx0"
      },
      "execution_count": null,
      "outputs": []
    },
    {
      "cell_type": "code",
      "source": [
        "import pandas as pd\n",
        "\n",
        "def dict_to_dataframe(_dict : dict):\n",
        "  for i in _dict:\n",
        "    _dict[i] = [_dict[i]]\n",
        "  df = pd.DataFrame(_dict)\n",
        "  return df\n",
        "\n",
        "# Generando la tabla en pandas\n",
        "dict_to_dataframe(_dict)"
      ],
      "metadata": {
        "colab": {
          "base_uri": "https://localhost:8080/",
          "height": 205
        },
        "id": "b58RGpb2W1SA",
        "outputId": "49ed220b-faba-4a3a-a8c4-48d833823907"
      },
      "execution_count": null,
      "outputs": [
        {
          "output_type": "execute_result",
          "data": {
            "text/plain": [
              "   arithmetic_mean  geometric_mean  harmonic_mean  quadratic_mean  mid_range  \\\n",
              "0          488.125      487.673457     487.218185      488.572538      485.0   \n",
              "\n",
              "   median                      mode = (mode , frequency)  range  \\\n",
              "0   487.5  ([450, 470, 480, 485, 490, 500, 510, 520], 1)     70   \n",
              "\n",
              "   mean deviation    variance  standard deviation  coefficient of variation  \\\n",
              "0          16.875  499.553571           22.350695                  4.578888   \n",
              "\n",
              "                            comentario  \n",
              "0  Cálculo medidas parcial 1, punto 1.  "
            ],
            "text/html": [
              "\n",
              "  <div id=\"df-e1631ce7-b055-479e-b718-80c2fc6d7ce8\" class=\"colab-df-container\">\n",
              "    <div>\n",
              "<style scoped>\n",
              "    .dataframe tbody tr th:only-of-type {\n",
              "        vertical-align: middle;\n",
              "    }\n",
              "\n",
              "    .dataframe tbody tr th {\n",
              "        vertical-align: top;\n",
              "    }\n",
              "\n",
              "    .dataframe thead th {\n",
              "        text-align: right;\n",
              "    }\n",
              "</style>\n",
              "<table border=\"1\" class=\"dataframe\">\n",
              "  <thead>\n",
              "    <tr style=\"text-align: right;\">\n",
              "      <th></th>\n",
              "      <th>arithmetic_mean</th>\n",
              "      <th>geometric_mean</th>\n",
              "      <th>harmonic_mean</th>\n",
              "      <th>quadratic_mean</th>\n",
              "      <th>mid_range</th>\n",
              "      <th>median</th>\n",
              "      <th>mode = (mode , frequency)</th>\n",
              "      <th>range</th>\n",
              "      <th>mean deviation</th>\n",
              "      <th>variance</th>\n",
              "      <th>standard deviation</th>\n",
              "      <th>coefficient of variation</th>\n",
              "      <th>comentario</th>\n",
              "    </tr>\n",
              "  </thead>\n",
              "  <tbody>\n",
              "    <tr>\n",
              "      <th>0</th>\n",
              "      <td>488.125</td>\n",
              "      <td>487.673457</td>\n",
              "      <td>487.218185</td>\n",
              "      <td>488.572538</td>\n",
              "      <td>485.0</td>\n",
              "      <td>487.5</td>\n",
              "      <td>([450, 470, 480, 485, 490, 500, 510, 520], 1)</td>\n",
              "      <td>70</td>\n",
              "      <td>16.875</td>\n",
              "      <td>499.553571</td>\n",
              "      <td>22.350695</td>\n",
              "      <td>4.578888</td>\n",
              "      <td>Cálculo medidas parcial 1, punto 1.</td>\n",
              "    </tr>\n",
              "  </tbody>\n",
              "</table>\n",
              "</div>\n",
              "    <div class=\"colab-df-buttons\">\n",
              "\n",
              "  <div class=\"colab-df-container\">\n",
              "    <button class=\"colab-df-convert\" onclick=\"convertToInteractive('df-e1631ce7-b055-479e-b718-80c2fc6d7ce8')\"\n",
              "            title=\"Convert this dataframe to an interactive table.\"\n",
              "            style=\"display:none;\">\n",
              "\n",
              "  <svg xmlns=\"http://www.w3.org/2000/svg\" height=\"24px\" viewBox=\"0 -960 960 960\">\n",
              "    <path d=\"M120-120v-720h720v720H120Zm60-500h600v-160H180v160Zm220 220h160v-160H400v160Zm0 220h160v-160H400v160ZM180-400h160v-160H180v160Zm440 0h160v-160H620v160ZM180-180h160v-160H180v160Zm440 0h160v-160H620v160Z\"/>\n",
              "  </svg>\n",
              "    </button>\n",
              "\n",
              "  <style>\n",
              "    .colab-df-container {\n",
              "      display:flex;\n",
              "      gap: 12px;\n",
              "    }\n",
              "\n",
              "    .colab-df-convert {\n",
              "      background-color: #E8F0FE;\n",
              "      border: none;\n",
              "      border-radius: 50%;\n",
              "      cursor: pointer;\n",
              "      display: none;\n",
              "      fill: #1967D2;\n",
              "      height: 32px;\n",
              "      padding: 0 0 0 0;\n",
              "      width: 32px;\n",
              "    }\n",
              "\n",
              "    .colab-df-convert:hover {\n",
              "      background-color: #E2EBFA;\n",
              "      box-shadow: 0px 1px 2px rgba(60, 64, 67, 0.3), 0px 1px 3px 1px rgba(60, 64, 67, 0.15);\n",
              "      fill: #174EA6;\n",
              "    }\n",
              "\n",
              "    .colab-df-buttons div {\n",
              "      margin-bottom: 4px;\n",
              "    }\n",
              "\n",
              "    [theme=dark] .colab-df-convert {\n",
              "      background-color: #3B4455;\n",
              "      fill: #D2E3FC;\n",
              "    }\n",
              "\n",
              "    [theme=dark] .colab-df-convert:hover {\n",
              "      background-color: #434B5C;\n",
              "      box-shadow: 0px 1px 3px 1px rgba(0, 0, 0, 0.15);\n",
              "      filter: drop-shadow(0px 1px 2px rgba(0, 0, 0, 0.3));\n",
              "      fill: #FFFFFF;\n",
              "    }\n",
              "  </style>\n",
              "\n",
              "    <script>\n",
              "      const buttonEl =\n",
              "        document.querySelector('#df-e1631ce7-b055-479e-b718-80c2fc6d7ce8 button.colab-df-convert');\n",
              "      buttonEl.style.display =\n",
              "        google.colab.kernel.accessAllowed ? 'block' : 'none';\n",
              "\n",
              "      async function convertToInteractive(key) {\n",
              "        const element = document.querySelector('#df-e1631ce7-b055-479e-b718-80c2fc6d7ce8');\n",
              "        const dataTable =\n",
              "          await google.colab.kernel.invokeFunction('convertToInteractive',\n",
              "                                                    [key], {});\n",
              "        if (!dataTable) return;\n",
              "\n",
              "        const docLinkHtml = 'Like what you see? Visit the ' +\n",
              "          '<a target=\"_blank\" href=https://colab.research.google.com/notebooks/data_table.ipynb>data table notebook</a>'\n",
              "          + ' to learn more about interactive tables.';\n",
              "        element.innerHTML = '';\n",
              "        dataTable['output_type'] = 'display_data';\n",
              "        await google.colab.output.renderOutput(dataTable, element);\n",
              "        const docLink = document.createElement('div');\n",
              "        docLink.innerHTML = docLinkHtml;\n",
              "        element.appendChild(docLink);\n",
              "      }\n",
              "    </script>\n",
              "  </div>\n",
              "\n",
              "    </div>\n",
              "  </div>\n"
            ]
          },
          "metadata": {},
          "execution_count": 4
        }
      ]
    },
    {
      "cell_type": "markdown",
      "source": [
        "1. La **media** es: 488,125. La **media geométrica** es: 487,67.\n",
        "2. La **mediana** es: 487.5 (note que se tomaron los dos valores centrales y se calculo el promedio ya que teniamos una lista (par) con 8 elementos). La **moda** no es representativa en este aspecto, por lo que todos los valores solo se repiten una sola vez. De este modo se podría decir que la moda es todo el conjunto.\n",
        "3. La **desviación estándar** es de 22.35, de este modo la información varia de acuerdo a este valor. Es decir que la forma como se dispersan los datos es cercana a las 22.35 unidades."
      ],
      "metadata": {
        "id": "socI0_TVXItX"
      }
    },
    {
      "cell_type": "markdown",
      "source": [
        "## **Ejercicio 2**"
      ],
      "metadata": {
        "id": "oj5nMD3cZGDu"
      }
    },
    {
      "cell_type": "markdown",
      "source": [
        "Se han entrevistado algunas personas de manera incógnita y se han registrado los datos de los salarios anuales que devengan en miles de dólares, salarios : [65, 72, 60, 58, 82, 50, 80, 68, 65, 80, 62, 950, 58, 85, 55, 820, 90, 230, 72, 100]. De este modo una persona considera que \\textbf{la media es el mejor valor para considerar un valor central} de toda la población entrevistada. ¿Es adecuado pensar que la mejor medida central para representar la población sea la media? (explique su respuesta, no es necesario hacer cálculos)"
      ],
      "metadata": {
        "id": "7X58q4K6ZOU4"
      }
    },
    {
      "cell_type": "markdown",
      "source": [
        "**Solución:** Se tiene que dada la información tiene las siguientes medidas centrales y de dispersión:"
      ],
      "metadata": {
        "id": "CxQoM1U-Z2ul"
      }
    },
    {
      "cell_type": "code",
      "source": [
        "# Realizamos el cálculo de lista\n",
        "_list2 = [65, 72, 60, 58, 82, 50, 80, 68, 65, 80, 62, 950, 58, 85, 55, 820, 90, 230, 72, 100]\n",
        "\n",
        "_dict2 = calculo_med_tend_central(_list2, 'Cálculo medidas parcial 1, punto 2.')"
      ],
      "metadata": {
        "id": "m4OJZCUoaAV0"
      },
      "execution_count": null,
      "outputs": []
    },
    {
      "cell_type": "code",
      "source": [
        "import pandas as pd\n",
        "\n",
        "def dict_to_dataframe(_dict : dict):\n",
        "  for i in _dict:\n",
        "    _dict[i] = [_dict[i]]\n",
        "  df = pd.DataFrame(_dict)\n",
        "  return df\n",
        "\n",
        "# Generando la tabla en pandas\n",
        "dict_to_dataframe(_dict2)"
      ],
      "metadata": {
        "colab": {
          "base_uri": "https://localhost:8080/",
          "height": 188
        },
        "id": "AJ-cS5YyaVI1",
        "outputId": "b44dac11-707f-4b09-9200-ea171b08bc45"
      },
      "execution_count": null,
      "outputs": [
        {
          "output_type": "execute_result",
          "data": {
            "text/plain": [
              "   arithmetic_mean  geometric_mean  harmonic_mean  quadratic_mean  mid_range  \\\n",
              "0            160.1       95.133317      78.307286      292.898276      500.0   \n",
              "\n",
              "   median mode = (mode , frequency)  range  mean deviation      variance  \\\n",
              "0    71.0     ([65, 72, 58, 80], 2)    900          151.97  63323.568421   \n",
              "\n",
              "   standard deviation  coefficient of variation  \\\n",
              "0          251.641746                157.177855   \n",
              "\n",
              "                            comentario  \n",
              "0  Cálculo medidas parcial 1, punto 2.  "
            ],
            "text/html": [
              "\n",
              "  <div id=\"df-981ad54c-0632-4c16-9ee1-8cafeb71317b\" class=\"colab-df-container\">\n",
              "    <div>\n",
              "<style scoped>\n",
              "    .dataframe tbody tr th:only-of-type {\n",
              "        vertical-align: middle;\n",
              "    }\n",
              "\n",
              "    .dataframe tbody tr th {\n",
              "        vertical-align: top;\n",
              "    }\n",
              "\n",
              "    .dataframe thead th {\n",
              "        text-align: right;\n",
              "    }\n",
              "</style>\n",
              "<table border=\"1\" class=\"dataframe\">\n",
              "  <thead>\n",
              "    <tr style=\"text-align: right;\">\n",
              "      <th></th>\n",
              "      <th>arithmetic_mean</th>\n",
              "      <th>geometric_mean</th>\n",
              "      <th>harmonic_mean</th>\n",
              "      <th>quadratic_mean</th>\n",
              "      <th>mid_range</th>\n",
              "      <th>median</th>\n",
              "      <th>mode = (mode , frequency)</th>\n",
              "      <th>range</th>\n",
              "      <th>mean deviation</th>\n",
              "      <th>variance</th>\n",
              "      <th>standard deviation</th>\n",
              "      <th>coefficient of variation</th>\n",
              "      <th>comentario</th>\n",
              "    </tr>\n",
              "  </thead>\n",
              "  <tbody>\n",
              "    <tr>\n",
              "      <th>0</th>\n",
              "      <td>160.1</td>\n",
              "      <td>95.133317</td>\n",
              "      <td>78.307286</td>\n",
              "      <td>292.898276</td>\n",
              "      <td>500.0</td>\n",
              "      <td>71.0</td>\n",
              "      <td>([65, 72, 58, 80], 2)</td>\n",
              "      <td>900</td>\n",
              "      <td>151.97</td>\n",
              "      <td>63323.568421</td>\n",
              "      <td>251.641746</td>\n",
              "      <td>157.177855</td>\n",
              "      <td>Cálculo medidas parcial 1, punto 2.</td>\n",
              "    </tr>\n",
              "  </tbody>\n",
              "</table>\n",
              "</div>\n",
              "    <div class=\"colab-df-buttons\">\n",
              "\n",
              "  <div class=\"colab-df-container\">\n",
              "    <button class=\"colab-df-convert\" onclick=\"convertToInteractive('df-981ad54c-0632-4c16-9ee1-8cafeb71317b')\"\n",
              "            title=\"Convert this dataframe to an interactive table.\"\n",
              "            style=\"display:none;\">\n",
              "\n",
              "  <svg xmlns=\"http://www.w3.org/2000/svg\" height=\"24px\" viewBox=\"0 -960 960 960\">\n",
              "    <path d=\"M120-120v-720h720v720H120Zm60-500h600v-160H180v160Zm220 220h160v-160H400v160Zm0 220h160v-160H400v160ZM180-400h160v-160H180v160Zm440 0h160v-160H620v160ZM180-180h160v-160H180v160Zm440 0h160v-160H620v160Z\"/>\n",
              "  </svg>\n",
              "    </button>\n",
              "\n",
              "  <style>\n",
              "    .colab-df-container {\n",
              "      display:flex;\n",
              "      gap: 12px;\n",
              "    }\n",
              "\n",
              "    .colab-df-convert {\n",
              "      background-color: #E8F0FE;\n",
              "      border: none;\n",
              "      border-radius: 50%;\n",
              "      cursor: pointer;\n",
              "      display: none;\n",
              "      fill: #1967D2;\n",
              "      height: 32px;\n",
              "      padding: 0 0 0 0;\n",
              "      width: 32px;\n",
              "    }\n",
              "\n",
              "    .colab-df-convert:hover {\n",
              "      background-color: #E2EBFA;\n",
              "      box-shadow: 0px 1px 2px rgba(60, 64, 67, 0.3), 0px 1px 3px 1px rgba(60, 64, 67, 0.15);\n",
              "      fill: #174EA6;\n",
              "    }\n",
              "\n",
              "    .colab-df-buttons div {\n",
              "      margin-bottom: 4px;\n",
              "    }\n",
              "\n",
              "    [theme=dark] .colab-df-convert {\n",
              "      background-color: #3B4455;\n",
              "      fill: #D2E3FC;\n",
              "    }\n",
              "\n",
              "    [theme=dark] .colab-df-convert:hover {\n",
              "      background-color: #434B5C;\n",
              "      box-shadow: 0px 1px 3px 1px rgba(0, 0, 0, 0.15);\n",
              "      filter: drop-shadow(0px 1px 2px rgba(0, 0, 0, 0.3));\n",
              "      fill: #FFFFFF;\n",
              "    }\n",
              "  </style>\n",
              "\n",
              "    <script>\n",
              "      const buttonEl =\n",
              "        document.querySelector('#df-981ad54c-0632-4c16-9ee1-8cafeb71317b button.colab-df-convert');\n",
              "      buttonEl.style.display =\n",
              "        google.colab.kernel.accessAllowed ? 'block' : 'none';\n",
              "\n",
              "      async function convertToInteractive(key) {\n",
              "        const element = document.querySelector('#df-981ad54c-0632-4c16-9ee1-8cafeb71317b');\n",
              "        const dataTable =\n",
              "          await google.colab.kernel.invokeFunction('convertToInteractive',\n",
              "                                                    [key], {});\n",
              "        if (!dataTable) return;\n",
              "\n",
              "        const docLinkHtml = 'Like what you see? Visit the ' +\n",
              "          '<a target=\"_blank\" href=https://colab.research.google.com/notebooks/data_table.ipynb>data table notebook</a>'\n",
              "          + ' to learn more about interactive tables.';\n",
              "        element.innerHTML = '';\n",
              "        dataTable['output_type'] = 'display_data';\n",
              "        await google.colab.output.renderOutput(dataTable, element);\n",
              "        const docLink = document.createElement('div');\n",
              "        docLink.innerHTML = docLinkHtml;\n",
              "        element.appendChild(docLink);\n",
              "      }\n",
              "    </script>\n",
              "  </div>\n",
              "\n",
              "    </div>\n",
              "  </div>\n"
            ]
          },
          "metadata": {},
          "execution_count": 6
        }
      ]
    },
    {
      "cell_type": "markdown",
      "source": [
        "Dados los salarios de las personas, observamos que hay dos quienes tienen salarios muy altos, por lo cual generaría cambios significativos a la hora de calcular una medida de tendencia central. De esta manera, se plantea que la media (media aritmética) no es un valor muy diciente a la hora de querer determinar un valor central adecuado. Recordamos que para tener una buena descripción de un valor promedio o media, es importante evitar aquellos outliers (valores atípicos)."
      ],
      "metadata": {
        "id": "6jVwAu7faaXN"
      }
    },
    {
      "cell_type": "markdown",
      "source": [
        "## **Ejercicio 3**"
      ],
      "metadata": {
        "id": "qiGwClWnZIoU"
      }
    },
    {
      "cell_type": "markdown",
      "source": [
        "¿Cual es la estructura de un diccionario en Python? De un ejemplo con pocos datos."
      ],
      "metadata": {
        "id": "DLsy9xc8ZSW8"
      }
    },
    {
      "cell_type": "markdown",
      "source": [
        "**Solución:** Se tiene que un diccionario está planteado mediante llaves \"keys\" y valores \"values\" (que es la información asociada a una llave).\n",
        "\n",
        "_dict = {\"keys\" : values}"
      ],
      "metadata": {
        "id": "yZRPURq4ZVfr"
      }
    },
    {
      "cell_type": "code",
      "source": [
        "_dict = {'nombre1' : [1,2,3,4] , 'nombre2' : (0,9,8,7) , 'nombre3' : \"pueden ser string\"}\n",
        "_dict"
      ],
      "metadata": {
        "colab": {
          "base_uri": "https://localhost:8080/"
        },
        "id": "xJWU4oV5ZnNy",
        "outputId": "ac6c7f08-a2cb-4bab-9eba-0f721f7ad621"
      },
      "execution_count": null,
      "outputs": [
        {
          "output_type": "execute_result",
          "data": {
            "text/plain": [
              "{'nombre1': [1, 2, 3, 4],\n",
              " 'nombre2': (0, 9, 8, 7),\n",
              " 'nombre3': 'pueden ser string'}"
            ]
          },
          "metadata": {},
          "execution_count": 7
        }
      ]
    }
  ]
}