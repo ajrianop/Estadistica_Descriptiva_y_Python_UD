{
  "nbformat": 4,
  "nbformat_minor": 0,
  "metadata": {
    "colab": {
      "provenance": [],
      "authorship_tag": "ABX9TyNMjWHgYZoIbunPeoUkERJO",
      "include_colab_link": true
    },
    "kernelspec": {
      "name": "python3",
      "display_name": "Python 3"
    },
    "language_info": {
      "name": "python"
    }
  },
  "cells": [
    {
      "cell_type": "markdown",
      "metadata": {
        "id": "view-in-github",
        "colab_type": "text"
      },
      "source": [
        "<a href=\"https://colab.research.google.com/github/ajrianop/Estadistica_Descriptiva_y_Python_UD2023-3/blob/main/Taller_media_ponderada.ipynb\" target=\"_parent\"><img src=\"https://colab.research.google.com/assets/colab-badge.svg\" alt=\"Open In Colab\"/></a>"
      ]
    },
    {
      "cell_type": "markdown",
      "source": [
        "# **Taller media ponderada**\n",
        "Entrega antes del viernes 4 de Abril de 2025, a las 11:59pm\n",
        "\n",
        "**Nombre estudiante:**"
      ],
      "metadata": {
        "id": "wG533Dbuu-pY"
      }
    },
    {
      "cell_type": "markdown",
      "source": [
        "Unos estudiante de ingenieria tiene una sabana de notas finales de sus cursos vistos durante los primeros 5 semestres de su carrera: para esto se genera una lista de créditos y sus respectivas notas durante los cinco semestres.\n",
        "\n",
        "La información esta guardada en diccionarios. Donde cada 'estudiante' tiene un diccionario asociado con una lista de créditos y una lista de notas.\n",
        "\n",
        "```sabana_notas = {'estudiante n' : info}```\n",
        "\n",
        "donde\n",
        "\n",
        "```info = {'creditos' : lista_creditos , 'notas' : lista_notas}```\n",
        "\n",
        "Calcular la media ponderada de las notas de cada estudiante.\n",
        "\n",
        "**Nota:** Recuerde que la lista de créditos y notas en el diccionario estan relacionadas con respecto a cada una de las entradas. Primera entrada de la lista de créditos, corresponde la primera nota en la lista de notas."
      ],
      "metadata": {
        "id": "KjVOsp6Iv2hd"
      }
    },
    {
      "cell_type": "code",
      "source": [
        "sabana_notas = {'Estudiante 1':\n",
        "  {'creditos': [4, 3, 1, 3, 3, 1, 4, 3, 1, 3, 2, 4],\n",
        "   'notas': [3.9, 2.5, 4.2, 4.0, 0.8, 1.0, 1.4, 4.6, 3.4, 0.6, 4.3, 1.5]},\n",
        " 'Estudiante 2':\n",
        "  {'creditos': [3, 2, 4, 3, 3, 3, 1, 4, 1, 3, 4, 1, 3],\n",
        "   'notas': [3.5, 2.7, 0.8, 2.0, 0.6, 0.6, 0.5, 2.8, 1.9, 1.4, 4.6, 1.9, 1.4]},\n",
        " 'Estudiante 3':\n",
        "  {'creditos': [1, 3, 3, 4, 4, 1, 2, 3, 4, 1, 2, 1, 2, 4],\n",
        "   'notas': [1.8, 2.0, 5.0, 0.8, 1.8, 5.0, 3.9, 1.3, 1.1, 1.8, 2.1, 2.8, 2.9, 2.4]},\n",
        " 'Estudiante 4':\n",
        "  {'creditos': [2, 2, 4, 2, 2, 1, 1, 4, 3, 3, 1, 2, 2, 1, 3, 1, 1, 1, 3, 1],\n",
        "   'notas': [0.9, 0.2, 4.6, 4.2, 1.8, 4.5, 0.2, 4.5, 3.8, 0.6, 0.2, 0.8, 2.2, 0.5, 0.9, 2.3, 4.9, 3.4, 4.4, 0.5]}}"
      ],
      "metadata": {
        "id": "_lL4ePVGw9Mh"
      },
      "execution_count": 7,
      "outputs": []
    },
    {
      "cell_type": "markdown",
      "source": [
        "## **Solución del taller**"
      ],
      "metadata": {
        "id": "bcL9NC4GzdE8"
      }
    },
    {
      "cell_type": "code",
      "source": [
        "# Agregar la solución del taller despues de estas líneas\n",
        "\n"
      ],
      "metadata": {
        "id": "aKjHi2U9yS4G"
      },
      "execution_count": null,
      "outputs": []
    },
    {
      "cell_type": "markdown",
      "source": [
        "## **Nota para experimentos autónomos:**\n",
        "\n",
        "En caso de querer experimentar con datos aleatorios de créditos y notas, se pueden utilizar las siguientes líneas de código para generar listas con n valores.\n",
        "```\n",
        "# Número de notas\n",
        "n = 20\n",
        "# Créditos de cada asignatura\n",
        "creditos = [random.randint(1, 4) for _ in range(n)]\n",
        "# Notas de cada asignatura\n",
        "notas = [round(random.uniform(0, 5), 1) for _ in range(n)]\n",
        "```"
      ],
      "metadata": {
        "id": "-X3_t_HCyUTH"
      }
    }
  ]
}