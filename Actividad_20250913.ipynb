{
  "nbformat": 4,
  "nbformat_minor": 0,
  "metadata": {
    "colab": {
      "provenance": [],
      "authorship_tag": "ABX9TyP5pgusUXIxn1BW2tQ41zyC",
      "include_colab_link": true
    },
    "kernelspec": {
      "name": "python3",
      "display_name": "Python 3"
    },
    "language_info": {
      "name": "python"
    }
  },
  "cells": [
    {
      "cell_type": "markdown",
      "metadata": {
        "id": "view-in-github",
        "colab_type": "text"
      },
      "source": [
        "<a href=\"https://colab.research.google.com/github/ajrianop/Estadistica_Descriptiva_y_Python_UD/blob/main/Actividad_20250913.ipynb\" target=\"_parent\"><img src=\"https://colab.research.google.com/assets/colab-badge.svg\" alt=\"Open In Colab\"/></a>"
      ]
    },
    {
      "cell_type": "markdown",
      "source": [
        "# Ejercicio (Entregar el sabado 20 de Septiembre)"
      ],
      "metadata": {
        "id": "hYQghxj3Cjn5"
      }
    },
    {
      "cell_type": "markdown",
      "source": [
        "Dado un ejercicio de energía renovable, se midio el porcentaje de eficiencia (%) de un panel solar en diferentes condiciones a lo largo de 100 pruebas.\n",
        "\n",
        "[73.13,\n",
        " 96.41,\n",
        " 64.68,\n",
        " 65.74,\n",
        " 72.48,\n",
        " 99.39,\n",
        " 84.86,\n",
        " 99.74,\n",
        " 97.26,\n",
        " 89.18,\n",
        " 72.78,\n",
        " 75.31,\n",
        " 86.78,\n",
        " 84.45,\n",
        " 84.64,\n",
        " 86.87,\n",
        " 79.83,\n",
        " 75.26,\n",
        " 96.12,\n",
        " 82.87,\n",
        " 76.17,\n",
        " 62.29,\n",
        " 78.49,\n",
        " 84.08,\n",
        " 89.25,\n",
        " 85.14,\n",
        " 73.89,\n",
        " 99.82,\n",
        " 85.73,\n",
        " 70.06,\n",
        " 63.2,\n",
        " 88.48,\n",
        " 89.81,\n",
        " 84.1,\n",
        " 63.0,\n",
        " 72.59,\n",
        " 70.15,\n",
        " 60.51,\n",
        " 98.48,\n",
        " 61.81,\n",
        " 74.84,\n",
        " 81.12,\n",
        " 75.11,\n",
        " 94.51,\n",
        " 74.85,\n",
        " 93.66,\n",
        " 83.52,\n",
        " 96.89,\n",
        " 69.7,\n",
        " 81.27,\n",
        " 93.06,\n",
        " 68.69,\n",
        " 72.18,\n",
        " 91.91,\n",
        " 86.22,\n",
        " 64.62,\n",
        " 68.97,\n",
        " 98.69,\n",
        " 75.53,\n",
        " 68.78,\n",
        " 93.96,\n",
        " 60.74,\n",
        " 98.61,\n",
        " 87.67,\n",
        " 97.97,\n",
        " 72.71,\n",
        " 69.07,\n",
        " 61.46,\n",
        " 69.37,\n",
        " 69.44,\n",
        " 60.55,\n",
        " 94.93,\n",
        " 72.19,\n",
        " 84.27,\n",
        " 67.28,\n",
        " 66.26,\n",
        " 78.47,\n",
        " 88.97,\n",
        " 71.61,\n",
        " 88.7,\n",
        " 95.03,\n",
        " 93.81,\n",
        " 98.45,\n",
        " 72.59,\n",
        " 94.42,\n",
        " 68.47,\n",
        " 79.98,\n",
        " 67.15,\n",
        " 88.1,\n",
        " 94.85,\n",
        " 72.57,\n",
        " 60.7,\n",
        " 98.44,\n",
        " 65.82,\n",
        " 77.87,\n",
        " 70.72,\n",
        " 76.44,\n",
        " 62.37,\n",
        " 96.57,\n",
        " 97.06]\n",
        "\n",
        " Calcular la media aritmetica, geometrica, armonica y cuadratica de los datos. Explicar como lo va a calcular. E imprima todos los resultados con el nombre de la media:\n",
        "```\n",
        " print(f'Media aritmetica {valor_media_aritmetica}')\n",
        " ```"
      ],
      "metadata": {
        "id": "V-6ngWhYAU1w"
      }
    },
    {
      "cell_type": "code",
      "source": [
        "eficiencias = [73.13, 96.41, 64.68, 65.74, 72.48, 99.39, 84.86, 99.74, 97.26, 89.18, 72.78, 75.31, 86.78, 84.45, 84.64, 86.87, 79.83, 75.26, 96.12, 82.87, 76.17, 62.29, 78.49, 84.08, 89.25, 85.14, 73.89, 99.82, 85.73, 70.06, 63.2, 88.48, 89.81, 84.1, 63.0, 72.59, 70.15, 60.51, 98.48, 61.81, 74.84, 81.12, 75.11, 94.51, 74.85, 93.66, 83.52, 96.89, 69.7, 81.27, 93.06, 68.69, 72.18, 91.91, 86.22, 64.62, 68.97, 98.69, 75.53, 68.78, 93.96, 60.74, 98.61, 87.67, 97.97, 72.71, 69.07, 61.46, 69.37, 69.44, 60.55, 94.93, 72.19, 84.27, 67.28, 66.26, 78.47, 88.97, 71.61, 88.7, 95.03, 93.81, 98.45, 72.59, 94.42, 68.47, 79.98, 67.15, 88.1, 94.85, 72.57, 60.7, 98.44, 65.82, 77.87, 70.72, 76.44, 62.37, 96.57, 97.06]\n",
        "len(eficiencias)"
      ],
      "metadata": {
        "colab": {
          "base_uri": "https://localhost:8080/"
        },
        "id": "wyJ9MtEDBPR8",
        "outputId": "e9477daf-d039-4bd6-cdc0-a83e66706cb4"
      },
      "execution_count": 5,
      "outputs": [
        {
          "output_type": "execute_result",
          "data": {
            "text/plain": [
              "100"
            ]
          },
          "metadata": {},
          "execution_count": 5
        }
      ]
    }
  ]
}