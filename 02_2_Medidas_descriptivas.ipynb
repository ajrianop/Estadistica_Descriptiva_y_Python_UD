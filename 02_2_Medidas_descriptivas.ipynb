{
  "nbformat": 4,
  "nbformat_minor": 0,
  "metadata": {
    "colab": {
      "provenance": [],
      "authorship_tag": "ABX9TyPlcTOHqOvaIDetOEwWPgQg",
      "include_colab_link": true
    },
    "kernelspec": {
      "name": "python3",
      "display_name": "Python 3"
    },
    "language_info": {
      "name": "python"
    }
  },
  "cells": [
    {
      "cell_type": "markdown",
      "metadata": {
        "id": "view-in-github",
        "colab_type": "text"
      },
      "source": [
        "<a href=\"https://colab.research.google.com/github/ajrianop/Estadistica_Descriptiva_y_Python_UD2023-3/blob/main/02_2_Medidas_descriptivas.ipynb\" target=\"_parent\"><img src=\"https://colab.research.google.com/assets/colab-badge.svg\" alt=\"Open In Colab\"/></a>"
      ]
    },
    {
      "cell_type": "markdown",
      "source": [
        "# **Medidas descriptivas**"
      ],
      "metadata": {
        "id": "nb29ShhTVSHf"
      }
    },
    {
      "cell_type": "markdown",
      "source": [
        "En el presente capítulo se plantearan las ideas de las medidad descriptivas de tendencia central y de dispersión, las cuales juegan un rol muy importante en el entendimiento de los datos.\n",
        "\n",
        "Las medida descriptivas que vamos a trabajar a continuación son:\n",
        "\n",
        "2. Medidas  de dispersión o variabilidad: son elementos que indican cuánto se extienden o dispersan los valores individuales en relación con la medida de tendencia central (como la media o la mediana) en un conjunto de datos. Estas medidas proporcionan información sobre la variabilidad y la dispersión de los datos alrededor de un valor central.\n",
        "\n",
        "  Algunos ejemplos:\n",
        "  * Rango.\n",
        "  * Desviación estándar.\n",
        "  * Varianza.\n",
        "  * Coeficiente de variación.\n",
        "  * Rango intercuartil."
      ],
      "metadata": {
        "id": "x51PsQsAVYl9"
      }
    },
    {
      "cell_type": "markdown",
      "source": [
        "## **2. Medidas de dispersión**"
      ],
      "metadata": {
        "id": "KnAEd2h9VNBU"
      }
    },
    {
      "cell_type": "markdown",
      "source": [],
      "metadata": {
        "id": "erR91N2MVj4X"
      }
    },
    {
      "cell_type": "code",
      "source": [],
      "metadata": {
        "id": "cRz5gl7ZVi_s"
      },
      "execution_count": null,
      "outputs": []
    },
    {
      "cell_type": "code",
      "source": [],
      "metadata": {
        "id": "9scBnzJCVX-p"
      },
      "execution_count": null,
      "outputs": []
    },
    {
      "cell_type": "code",
      "execution_count": null,
      "metadata": {
        "id": "fxcvrv9KVLxN"
      },
      "outputs": [],
      "source": []
    }
  ]
}