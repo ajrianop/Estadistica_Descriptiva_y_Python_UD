{
  "nbformat": 4,
  "nbformat_minor": 0,
  "metadata": {
    "colab": {
      "provenance": [],
      "authorship_tag": "ABX9TyPgQuyiDGSQNe1kjqXctUIt",
      "include_colab_link": true
    },
    "kernelspec": {
      "name": "python3",
      "display_name": "Python 3"
    },
    "language_info": {
      "name": "python"
    }
  },
  "cells": [
    {
      "cell_type": "markdown",
      "metadata": {
        "id": "view-in-github",
        "colab_type": "text"
      },
      "source": [
        "<a href=\"https://colab.research.google.com/github/ajrianop/Estadistica_Descriptiva_y_Python_UD2023-3/blob/main/02_2_Medidas_descriptivas.ipynb\" target=\"_parent\"><img src=\"https://colab.research.google.com/assets/colab-badge.svg\" alt=\"Open In Colab\"/></a>"
      ]
    },
    {
      "cell_type": "markdown",
      "source": [
        "# **Medidas descriptivas**"
      ],
      "metadata": {
        "id": "nb29ShhTVSHf"
      }
    },
    {
      "cell_type": "markdown",
      "source": [
        "En el presente capítulo se plantearan las ideas de las medidad descriptivas de tendencia central y de dispersión, las cuales juegan un rol muy importante en el entendimiento de los datos.\n",
        "\n",
        "Las medida descriptivas que vamos a trabajar a continuación son:\n",
        "\n",
        "2. Medidas  de dispersión o variabilidad: son elementos que indican cuánto se extienden o dispersan los valores individuales en relación con la medida de tendencia central (como la media o la mediana) en un conjunto de datos. Estas medidas proporcionan información sobre la variabilidad y la dispersión de los datos alrededor de un valor central.\n",
        "\n",
        "  Algunos ejemplos:\n",
        "  * Rango.\n",
        "  * Desviación estándar.\n",
        "  * Varianza.\n",
        "  * Coeficiente de variación.\n",
        "  * Rango intercuartil."
      ],
      "metadata": {
        "id": "x51PsQsAVYl9"
      }
    },
    {
      "cell_type": "markdown",
      "source": [
        "Antes de empezar con el desarrollo del curso, vamos a plantear algunas funciones que podrían ser de utilidad a lo largo del cuadernillo:"
      ],
      "metadata": {
        "id": "UhUTm7KWczsQ"
      }
    },
    {
      "cell_type": "code",
      "source": [
        "# Funciones importantes a tener en cuenta:\n",
        "\n",
        "def arithmetic_mean(values : list):\n",
        "  '''\n",
        "  Función que permite calcular la media aritmética\n",
        "  values --> list\n",
        "  '''\n",
        "  _sum = 0\n",
        "  n = len(values)\n",
        "\n",
        "  for value in values:\n",
        "      _sum += value  # _sum = _sum + value\n",
        "\n",
        "  return _sum / n"
      ],
      "metadata": {
        "id": "hBMCMejwc7mC"
      },
      "execution_count": 14,
      "outputs": []
    },
    {
      "cell_type": "markdown",
      "source": [
        "## **2. Medidas de dispersión**"
      ],
      "metadata": {
        "id": "KnAEd2h9VNBU"
      }
    },
    {
      "cell_type": "markdown",
      "source": [
        "Las medidas de dispersión o variabilidad permiten observar la homogeneidad o heterogeneidad de los conjuntos que se están analizando, usualmente estas medidas se miden en torno a las medidas ya planteadas llamadas de centralidad o netamente con respecto a la relación entre los mismos datos.\n",
        "\n",
        "Las medidas de dispersión más utilizadas son:\n",
        "* Rango,\n",
        "* Desviación media,\n",
        "* Varianza,\n",
        "* Desviación estándar,\n",
        "* Coeficiente de variación."
      ],
      "metadata": {
        "id": "erR91N2MVj4X"
      }
    },
    {
      "cell_type": "markdown",
      "source": [
        "### **Rango**"
      ],
      "metadata": {
        "id": "gOMkOXoSJtdV"
      }
    },
    {
      "cell_type": "markdown",
      "source": [
        "El *rango* esta definido como la diferencia entre el valor máximo y el valor mínimo del conjunto de datos. Si tenemos una mayor longitud, implica por lo general mayor dispersión de los datos. De este modo, es muy importante tener en cuenta las unidades con las cuales se estan registrando los datos.\n",
        "\n",
        "$$R= \\max\\{x_i \\mid i=1,2,\\ldots,n\\} - \\min\\{x_i \\mid i=1,2,\\ldots,n\\}$$"
      ],
      "metadata": {
        "id": "eT6FgkvGJ2Az"
      }
    },
    {
      "cell_type": "markdown",
      "source": [
        "<table>\n",
        "  <tbody>\n",
        "    <tr>\n",
        "      <td><strong>Ventajas</strong></td>\n",
        "      <td><strong>Desventajas</strong></td>\n",
        "    </tr>\n",
        "    <tr>\n",
        "      <td>\n",
        "        <ul>\n",
        "          <li>Es fácil de calcular y comprender.</li>\n",
        "          <li>Proporciona una medida simple de la dispersión de los datos.</li>\n",
        "          <li>Las unidades coinciden con las de la variable de análisis.</li>\n",
        "        </ul>\n",
        "      </td>\n",
        "      <td>\n",
        "        <ul>\n",
        "          <li>No tiene en cuenta la distribución de los datos entre los valores máximo y mínimo.</li>\n",
        "          <li>Es sensible a valores extremos o atípicos, lo que puede dar una idea errónea de la dispersión en presencia de estos valores.</li>\n",
        "          <li> Solo incluye dos datos para el cálculo, lo cual impide ver de manera más precisa los valores intermedios. </li>\n",
        "        </ul>\n",
        "      </td>\n",
        "    </tr>\n",
        "  </tbody>\n",
        "</table>\n"
      ],
      "metadata": {
        "id": "qE9A_eD1MBIq"
      }
    },
    {
      "cell_type": "markdown",
      "source": [
        "#### **Ejemplo:**"
      ],
      "metadata": {
        "id": "y2iKffoJNc3k"
      }
    },
    {
      "cell_type": "markdown",
      "source": [
        "En la aviación donde podría ser relevante es el análisis de la variabilidad de las velocidades de despegue y aterrizaje de una flota de aviones. De este modo, en este ejemplo, tenemos una lista de velocidades de despegue de una flota de aviones en nudos. Calculamos el rango de estas velocidades utilizando la diferencia entre el valor máximo y el valor mínimo en la lista. El rango nos dará una idea de la variabilidad de las velocidades de despegue en esta flota específica."
      ],
      "metadata": {
        "id": "yqbz_fv4NfJb"
      }
    },
    {
      "cell_type": "code",
      "source": [
        "def range_func(values : list):\n",
        "  '''\n",
        "  Función rango de estadística, la cual consifera punto máximo y mínimo de\n",
        "  la lista y calcula su diferencia.\n",
        "  '''\n",
        "  return max(values)-min(values)"
      ],
      "metadata": {
        "id": "cYClZa_9d-yN"
      },
      "execution_count": 4,
      "outputs": []
    },
    {
      "cell_type": "code",
      "source": [
        "# Velocidades de despegue de una flota de aviones en nudos\n",
        "velocidades_despegue = [160, 155, 162, 158, 168, 170, 155, 162, 163, 159]\n",
        "\n",
        "# Calcular el rango (diferencia entre la velocidad máxima y mínima)\n",
        "rango_velocidades = max(velocidades_despegue) - min(velocidades_despegue)\n",
        "\n",
        "# Imprimir el resultado\n",
        "print(\"Velocidades de despegue de la flota:\", velocidades_despegue)\n",
        "print(\"El rango de velocidades de despegue es:\", rango_velocidades, \"nudos\")\n",
        "print(\"El rango de velocidades de despegue utilizando la función range_func es:\", range_func(velocidades_despegue), \"nudos\")"
      ],
      "metadata": {
        "colab": {
          "base_uri": "https://localhost:8080/"
        },
        "id": "Df5qpI_aNoG4",
        "outputId": "ca7cb808-a92a-4af7-ffd6-ecadcc2ea427"
      },
      "execution_count": 7,
      "outputs": [
        {
          "output_type": "stream",
          "name": "stdout",
          "text": [
            "Velocidades de despegue de la flota: [160, 155, 162, 158, 168, 170, 155, 162, 163, 159]\n",
            "El rango de velocidades de despegue es: 15 nudos\n",
            "El rango de velocidades de despegue utilizando la función range_func es: 15 nudos\n"
          ]
        }
      ]
    },
    {
      "cell_type": "markdown",
      "source": [
        "### **Desviación media**"
      ],
      "metadata": {
        "id": "3owXsg_dJ3RG"
      }
    },
    {
      "cell_type": "markdown",
      "source": [
        "La *desviación media*, se define como la media aritmética de los valores absolutos de las desviaciones de los datos con respecto a la media (valor promedio).\n",
        "\n",
        "Para su cálculo, intervienen todos los datos ya sea de la muestra o de la población a considerar, de tal modo esta medida nos describe información relativa a la totalidad, y de este modo nos brinda información acerca de la variabilidad del problema (i.e. que tan dispersos estan los datos en la distribución con respecto a la media).\n",
        "\n",
        "De este modo, en términos matemáticos, dados $x_1 , x_2 , x_3, \\ldots , x_{n-1}, x_n$ valores de una muestra, entonces la *la desviación media* se calcula por medio de la ecuación\n",
        "\n",
        "$$dm=\\frac{\\sum\\limits_{i=1}^{n} |x_i - \\bar{x}|}{n}$$\n",
        "  \n",
        "**Nota:**\n",
        "1. La desviación media, también puede ser calculada a partir de la mediana.\n",
        "2. Es díficil realizar desarrollo algebraico con esta medida."
      ],
      "metadata": {
        "id": "03hIaD2eKZ6E"
      }
    },
    {
      "cell_type": "markdown",
      "source": [
        "Cuando nuestro conjunto sobre el cual realizamos el cálculo es la población, el cálculo de la desviación media es:\n",
        "$$dm = \\frac{\\sum\\limits_{i=1}^{N} |x_i-\\mu |}{N}.$$\n",
        "$\\mu:$ Media tomando como conjunto la población.\n",
        "\n",
        "$N:$ Cantidad de elementos en la población"
      ],
      "metadata": {
        "id": "GIl3IPLGQBM7"
      }
    },
    {
      "cell_type": "markdown",
      "source": [
        "#### **Ejemplo**"
      ],
      "metadata": {
        "id": "TrG17Mn7aA0u"
      }
    },
    {
      "cell_type": "markdown",
      "source": [
        "Para el seguimiento del tiempo de viaje diario de una persona desde su hogar hasta su lugar de trabajo durante una semana. Supongamos que se registran los siguientes tiempos de viaje (en minutos):\n",
        "\n",
        "* Lunes: 25 minutos.\n",
        "* Martes: 30 minutos.\n",
        "* Miércoles: 27 minutos.\n",
        "* Jueves: 35 minutos.\n",
        "* Viernes: 28 minutos."
      ],
      "metadata": {
        "id": "BImEvP74dvqS"
      }
    },
    {
      "cell_type": "code",
      "source": [
        "def mean_deviation(values : list):\n",
        "  _sum = 0\n",
        "  _mean = arithmetic_mean(values)\n",
        "  n = len(values)\n",
        "  for value in values:\n",
        "    _sum += abs(value - _mean)\n",
        "  return _sum / n"
      ],
      "metadata": {
        "id": "VyjR6vjHes12"
      },
      "execution_count": 12,
      "outputs": []
    },
    {
      "cell_type": "code",
      "source": [
        "# Datos de tiempos de viaje en minutos\n",
        "tiempos_de_viaje = [25, 30, 27, 35, 28]\n",
        "\n",
        "# Calcular la media de los tiempos de viaje\n",
        "media = sum(tiempos_de_viaje) / len(tiempos_de_viaje)\n",
        "\n",
        "# Calcular la desviación media\n",
        "desviacion_media = sum(abs(tiempo - media) for tiempo in tiempos_de_viaje) / len(tiempos_de_viaje)\n",
        "\n",
        "# Imprimir los resultados\n",
        "print(\"Tiempos de viaje:\", tiempos_de_viaje)\n",
        "print(\"Media:\", media, \"minutos\")\n",
        "print(\"Desviación Media:\", desviacion_media, \"minutos\")\n",
        "print(\"Desviación Media utilizando la función :\", mean_deviation(tiempos_de_viaje), \"minutos\")"
      ],
      "metadata": {
        "colab": {
          "base_uri": "https://localhost:8080/"
        },
        "id": "MM9yz_D4d7WV",
        "outputId": "f0769c65-8a85-4308-aa0d-ef01a6060475"
      },
      "execution_count": 15,
      "outputs": [
        {
          "output_type": "stream",
          "name": "stdout",
          "text": [
            "Tiempos de viaje: [25, 30, 27, 35, 28]\n",
            "Media: 29.0 minutos\n",
            "Desviación Media: 2.8 minutos\n",
            "Desviación Media utilizando la función : 2.8 minutos\n"
          ]
        }
      ]
    },
    {
      "cell_type": "markdown",
      "source": [
        "### **Varianza**"
      ],
      "metadata": {
        "id": "PLMo2MEzJ4uQ"
      }
    },
    {
      "cell_type": "markdown",
      "source": [
        "De acuerdo a las diferentes limitaciones de las dos medidas anteriores, tenemos en consideración otra medida llamada *la varianza*, la cual mide la variabilidad de un conjunto de datos con respecto a la media (aritmética), de este modo se define como la suma de los cuadrados de las diferencias entre cada dato y la media. De este modo entre menor sea el valor de la varianza, el grado de variación de los datos con respecto a la media es menor.\n",
        "\n",
        "En términos matemáticos, dados $x_1 , x_2 , x_3, \\ldots , x_{n-1}, x_n$ valores de una muestra, entonces la *la desviación media* se calcula por medio de la ecuación\n",
        "\n",
        "$$S^2=\\frac{\\sum\\limits_{i=1}^{n} (x_i - \\bar{x})^2}{n-1}$$\n",
        "\n",
        "Podemos notar que en este caso el denominador es $n-1$ en lugar de $n,$ este dato se considera de esta manera, ya que obtenemos una mejor estimación de la variable poblacional, esto indica en términos matemáticos que $$E(S^2)=\\sigma^2,$$\n",
        "donde $E(X)$ es la función esperanza en probabilidad."
      ],
      "metadata": {
        "id": "AY36VKeWKat5"
      }
    },
    {
      "cell_type": "markdown",
      "source": [
        "En el caso que consideremos la problación total, dados $x_1 , x_2 , x_3, \\ldots , x_{n-1}, x_n$ valores de la población, *la desviación media* se calcula por medio de la ecuación\n",
        "\n",
        "$$\\sigma^2=\\frac{\\sum\\limits_{i=1}^{n} (x_i - \\mu)^2}{N},$$\n",
        "$\\mu:$ Media tomando como conjunto la población.\n",
        "\n",
        "$N:$ Cantidad de elementos en la población."
      ],
      "metadata": {
        "id": "5tiH_Xf4ryoz"
      }
    },
    {
      "cell_type": "markdown",
      "source": [
        "<table>\n",
        "  <tbody>\n",
        "    <tr>\n",
        "      <td><strong>Ventajas</strong></td>\n",
        "      <td><strong>Desventajas</strong></td>\n",
        "    </tr>\n",
        "    <tr>\n",
        "      <td>\n",
        "        <ul>\n",
        "          <li>Es la medida de variación más utilizada.</li>\n",
        "          <li>Es posible realizar cálculos con ella.</li>\n",
        "          <li>Proporciona una medida de dispersión que tiene en cuenta todos los valores en el conjunto de datos.</li>\n",
        "          <li>Es útil para comparar la dispersión entre diferentes conjuntos de datos.</li>\n",
        "        </ul>\n",
        "      </td>\n",
        "      <td>\n",
        "        <ul>\n",
        "          <li>No es tan fácil a nivel de interpretabilidad.</li>\n",
        "          <li> Para su uso se debe acompañar con otras medidas de dispersión. </li>\n",
        "          <li>Puede ser sensible a valores atípicos o extremos, lo que puede distorsionar su valor.</li>\n",
        "          <li>La unidad de medida de la varianza es el cuadrado de la unidad original, lo que puede dificultar su interpretación.</li>\n",
        "        </ul>\n",
        "      </td>\n",
        "    </tr>\n",
        "  </tbody>\n",
        "</table>"
      ],
      "metadata": {
        "id": "UDpXEhIcsLIN"
      }
    },
    {
      "cell_type": "markdown",
      "source": [
        "#### **Propiedades de la varianza**"
      ],
      "metadata": {
        "id": "BkbncIg3KKke"
      }
    },
    {
      "cell_type": "markdown",
      "source": [
        "Algunas de las propiedades algebraicas de la varianza son:\n",
        "1. El valor de la varianza es siempre positivo o igual a cero. Así $S^2 \\geq 0,$ para cualquier conjunto de datos.\n",
        "2. Si todos los valores son iguales en el conjunto de datos la varianza es cero,así: Si $x_i=k$ para todo $i,$ entonces $S^2 = 0.$\n",
        "3. La varianza no se altera si se suma o resta una constante:\n",
        "Si $y_i=x_i \\pm k$ para todo $i,$ entonces $S_y^2 = S_x^2,$\n",
        "donde $S_x^2$ es la varianza de los datos asociados con la expresión $x_i$ y $S_y^2$ es la varianza de los datos asociados con la expresión $y_i.$\n",
        "4. Si cada uno de los datos se multiplica por una constante, el valor de la varianza sera la constante al cuadrado por la varianza de los datos iniciales.\n",
        "Si $y_i = k x_i,$ para todo $i$, entonces $S_y^2 = k^2 S_x^2.$\n",
        "(Note que otra constante que se puede considerar es $k=\\frac{1}{a}$ con $a\\neq 0$, luego si $y_i = \\frac{1}{a}x_i = k x_i$, entonces $S_y^2 = k^2 S_x^2=\\frac{1}{a^2}S_x^2.$)\n",
        "5. Un **valor aproximado** del cálculo de la varianza es:\n",
        "$$S^2 \\approx \\frac{\\sum\\limits_{i=1}^{n} x_i^2}{n}-\\bar{x}^2.$$\n",
        "**Cuidado: este es un valor aproximado, no es exactamente la varianza.**"
      ],
      "metadata": {
        "id": "Zfu8_FlhKbg1"
      }
    },
    {
      "cell_type": "markdown",
      "source": [
        "#### **Ejemplo**"
      ],
      "metadata": {
        "id": "kQrlOPT7tdGn"
      }
    },
    {
      "cell_type": "markdown",
      "source": [],
      "metadata": {
        "id": "l50KT71Ute4w"
      }
    },
    {
      "cell_type": "code",
      "source": [
        "# Datos de los tiempos de llegada por día de la semana\n",
        "tiempos_lunes = [5, 7, 6, 8, 5]\n",
        "tiempos_martes = [6, 8, 9, 7, 6]\n",
        "tiempos_miercoles = [5, 5, 7, 8, 7]\n",
        "tiempos_jueves = [8, 7, 6, 6, 6]\n",
        "tiempos_viernes = [7, 7, 7, 7.5, 6.5]\n",
        "tiempos_sabado = [5, 6, 5, 6, 8]\n",
        "tiempos_domingo = [9, 6, 7, 8, 10]\n",
        "\n",
        "# Función para calcular la varianza\n",
        "def variance(datos):\n",
        "    media = sum(datos) / len(datos)\n",
        "    varianza = sum((x - media) ** 2 for x in datos) / (len(datos) - 1)\n",
        "    return varianza\n",
        "\n",
        "# Calcular la varianza para cada día de la semana\n",
        "dias = [\"lunes\", \"martes\", \"miercoles\", \"jueves\", \"viernes\", \"sabado\", \"domingo\"]\n",
        "tiempos = [tiempos_lunes, tiempos_martes, tiempos_miercoles, tiempos_jueves, tiempos_viernes, tiempos_sabado, tiempos_domingo]\n",
        "_dict_variance = dict()\n",
        "for n in range(len(dias)):\n",
        "  print(f\"Varianza del {dias[n]}: {variance(tiempos[n])}\")"
      ],
      "metadata": {
        "colab": {
          "base_uri": "https://localhost:8080/"
        },
        "id": "s2FfDtv_wWrD",
        "outputId": "2c609845-a627-4d46-a8eb-50885226ad87"
      },
      "execution_count": 27,
      "outputs": [
        {
          "output_type": "stream",
          "name": "stdout",
          "text": [
            "Varianza del lunes: 1.7\n",
            "Varianza del martes: 1.7\n",
            "Varianza del miercoles: 1.8\n",
            "Varianza del jueves: 0.7999999999999999\n",
            "Varianza del viernes: 0.125\n",
            "Varianza del sabado: 1.5\n",
            "Varianza del domingo: 2.5\n"
          ]
        }
      ]
    },
    {
      "cell_type": "markdown",
      "source": [
        "### **Desviación estándar**"
      ],
      "metadata": {
        "id": "Gosh8UdLKPeA"
      }
    },
    {
      "cell_type": "markdown",
      "source": [
        "### **Coeficientes de variación**"
      ],
      "metadata": {
        "id": "x5BHxkAOKSe1"
      }
    },
    {
      "cell_type": "code",
      "source": [],
      "metadata": {
        "id": "cRz5gl7ZVi_s"
      },
      "execution_count": null,
      "outputs": []
    },
    {
      "cell_type": "code",
      "source": [],
      "metadata": {
        "id": "9scBnzJCVX-p"
      },
      "execution_count": null,
      "outputs": []
    },
    {
      "cell_type": "code",
      "execution_count": null,
      "metadata": {
        "id": "fxcvrv9KVLxN"
      },
      "outputs": [],
      "source": []
    }
  ]
}