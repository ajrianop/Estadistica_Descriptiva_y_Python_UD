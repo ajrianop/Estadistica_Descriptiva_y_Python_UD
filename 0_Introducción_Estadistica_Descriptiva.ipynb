{
  "nbformat": 4,
  "nbformat_minor": 0,
  "metadata": {
    "colab": {
      "provenance": [],
      "authorship_tag": "ABX9TyN0AI2HONv959iSs59Gkpd4",
      "include_colab_link": true
    },
    "kernelspec": {
      "name": "python3",
      "display_name": "Python 3"
    },
    "language_info": {
      "name": "python"
    }
  },
  "cells": [
    {
      "cell_type": "markdown",
      "metadata": {
        "id": "view-in-github",
        "colab_type": "text"
      },
      "source": [
        "<a href=\"https://colab.research.google.com/github/ajrianop/Estadistica_Descriptiva_y_Python_UD2023-3/blob/main/0_Introducci%C3%B3n_Estadistica_Descriptiva.ipynb\" target=\"_parent\"><img src=\"https://colab.research.google.com/assets/colab-badge.svg\" alt=\"Open In Colab\"/></a>"
      ]
    },
    {
      "cell_type": "markdown",
      "source": [
        "# **Introducción**\n",
        "El objetivo de este curso es proporcionar un esquema inicial sobre temas de estadística para su aplicación en investigaciones que requieran el uso de técnicas de estadística descriptiva. Esto permitirá analizar datos y llegar a conclusiones basadas en la información disponible, con la intención de guiar hacia la toma de \"buenas\" decisiones.\n",
        "\n",
        "A lo largo de este curso, se presentarán algunos métodos para abordar de manera correcta el desarrollo de un problema utilizando el conocimiento de estadística. Los temas que se tratarán incluyen:\n",
        "\n",
        "1. Organización de los datos.\n",
        "2. Presentación de los datos en forma adecuada.\n",
        "3. Estimación de parámetros y características relevantes.\n",
        "4. Análisis de los resultados obtenidos para realizar inferencias y conclusiones.\n",
        "\n",
        "Con estos conocimientos, los participantes podrán utilizar la estadística de manera efectiva en sus investigaciones y aplicarla para tomar decisiones fundamentadas."
      ],
      "metadata": {
        "id": "A_JsZD3g1EdW"
      }
    },
    {
      "cell_type": "markdown",
      "source": [
        "Para el presente curso vamos a utilizar algunas herramientas computacionales, con el fin de familiarizarnos con ellas y tener un conocimiento a la hora de enfrentarnos con problemas robustos.\n",
        "\n",
        "De este modo se enseñará un poco de lenguaje de programación en Python, para revisar algunos datos y descripciones. Para este planteamiento, será necesario tener un correo con dominio GMAIL, ya que con esta herramienta, podremos crear documentos en google colaboratory (también conocido simplemente como Colab) para poder hacer algo de analísis.\n",
        "\n",
        "También en ocasiones utilizaremos algunas herramientas de Microsoft Office como Excel, para ver los datos descritos de mejor manera."
      ],
      "metadata": {
        "id": "W7wSlBfy1J1-"
      }
    },
    {
      "cell_type": "markdown",
      "source": [
        "# **Libro guía:**\n",
        "FRANCO VIVIANA., Estadística descriptiva para ingeniería ambiental con SPSS. Editorial UNAL – Sede Palmira, 2007."
      ],
      "metadata": {
        "id": "WfughIXA2EjP"
      }
    }
  ]
}