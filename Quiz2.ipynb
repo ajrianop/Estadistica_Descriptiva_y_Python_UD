{
  "nbformat": 4,
  "nbformat_minor": 0,
  "metadata": {
    "colab": {
      "provenance": [],
      "authorship_tag": "ABX9TyMgKuqoX8fBgNcDxh+SmLNE",
      "include_colab_link": true
    },
    "kernelspec": {
      "name": "python3",
      "display_name": "Python 3"
    },
    "language_info": {
      "name": "python"
    }
  },
  "cells": [
    {
      "cell_type": "markdown",
      "metadata": {
        "id": "view-in-github",
        "colab_type": "text"
      },
      "source": [
        "<a href=\"https://colab.research.google.com/github/ajrianop/Estadistica_Descriptiva_y_Python_UD2023-3/blob/main/Quiz2.ipynb\" target=\"_parent\"><img src=\"https://colab.research.google.com/assets/colab-badge.svg\" alt=\"Open In Colab\"/></a>"
      ]
    },
    {
      "cell_type": "markdown",
      "source": [
        "#  **Quiz 2**"
      ],
      "metadata": {
        "id": "_UtRWGwZRidz"
      }
    },
    {
      "cell_type": "markdown",
      "source": [
        "## **Punto 1:**\n",
        "Nombre la medidas de tendencia central y explique una de ellas en términos matemáticos."
      ],
      "metadata": {
        "id": "ArHUqRUvR7pD"
      }
    },
    {
      "cell_type": "markdown",
      "source": [
        "Las medidas de tendencia central de un conjunto de datos, consideradas son:\n",
        "1. Media:\n",
        "  * Aritmética.\n",
        "  * Geométrica.\n",
        "  * Armónica.\n",
        "  * Cuadrática.\n",
        "  * Rango medio.\n",
        "  * Ponderada.\n",
        "2. Mediana.\n",
        "3. Moda.\n",
        "\n",
        "Unas de las descripciones más utilizadas y conocida el la media aritmética, que dada una coleccione de elementos (números) $x_1, x_2 , x_3 , \\ldots , x_n,$ se calcula sumando cada uno de los términos y dividiendo entre la cantidad:\n",
        "$$\\bar{x} = \\frac{x_1 + x_2 + x_3 + \\cdots + x_n}{n}.$$"
      ],
      "metadata": {
        "id": "Smgy0RzORzPZ"
      }
    },
    {
      "cell_type": "markdown",
      "source": [
        "## **Punto 2:**\n",
        "Dadas las notas de un curso X:\n",
        "$$3.1, 2.3, 0.1, 5.0, 4.3, 4.9, 3.0, 5.0, 5.0, 4.9.$$\n",
        "Encuentre las medidas anteriormente dadas y realice un gráfico de los datos."
      ],
      "metadata": {
        "id": "7BMv1zk5StSY"
      }
    },
    {
      "cell_type": "code",
      "execution_count": null,
      "metadata": {
        "id": "hphqjgInRdGe"
      },
      "outputs": [],
      "source": [
        "# Enunciamos las funciones a utilizar:\n"
      ]
    },
    {
      "cell_type": "code",
      "execution_count": 11,
      "metadata": {
        "id": "NWxOpdamHnb5"
      },
      "outputs": [],
      "source": [
        "def arithmetic_mean(values : list):\n",
        "  '''\n",
        "  Función que permite calcular la media aritmética\n",
        "  values --> list\n",
        "  '''\n",
        "  _sum = 0\n",
        "  n = len(values)\n",
        "\n",
        "  for value in values:\n",
        "      _sum += value  # _sum = _sum + value\n",
        "\n",
        "  return _sum / n\n",
        "\n",
        "\n",
        "def geometric_mean(values : list):\n",
        "  '''\n",
        "  Función que permite calcular la media geométrica\n",
        "  values --> list\n",
        "  '''\n",
        "  product = 1\n",
        "  n = len(values)\n",
        "\n",
        "  for value in values:\n",
        "      product *= value\n",
        "\n",
        "  return (product ** (1 / n))\n",
        "\n",
        "def harmonic_mean(values : list):\n",
        "  '''\n",
        "  Función que permite calcular la media armónica\n",
        "  values --> list\n",
        "  '''\n",
        "  _sum = 0\n",
        "  n = len(values)\n",
        "\n",
        "  for value in values:\n",
        "      _sum += 1/value  # Convierte el porcentaje a decimal\n",
        "\n",
        "  return n/_sum\n",
        "\n",
        "\n",
        "def quadratic_mean(values : list):\n",
        "  '''\n",
        "  Función que permite calcular la media cuadrática\n",
        "  values --> list\n",
        "  '''\n",
        "  _sum = 0\n",
        "  n = len(values)\n",
        "\n",
        "  for value in values:\n",
        "      _sum += value ** 2  # Convierte el porcentaje a decimal\n",
        "\n",
        "  return (_sum/n)** 0.5\n",
        "\n",
        "\n",
        "def mid_range(values : list):\n",
        "  '''\n",
        "  Función que permite calcular rango medio\n",
        "  values --> list\n",
        "  '''\n",
        "  _min = min(values)\n",
        "  _max = max(values)\n",
        "\n",
        "  return ( _min + _max )/2\n",
        "\n",
        "def median(values : list):\n",
        "  '''\n",
        "  Función que permite calcular la mediana\n",
        "  values --> list\n",
        "  '''\n",
        "  n = len(values)\n",
        "  if n % 2 == 1:\n",
        "      mediana = values[n // 2]\n",
        "  else:\n",
        "      mediana = (values[(n - 1) // 2] + values[n // 2]) / 2\n",
        "  return mediana"
      ]
    },
    {
      "cell_type": "code",
      "source": [
        "from collections import Counter\n",
        "\n",
        "def mode(values : list):\n",
        "  '''\n",
        "  Función que permite calcular la moda\n",
        "  values --> list\n",
        "  '''\n",
        "  # Se genera la clase counter que tiene un diccionario organizado de mayor a menor por cantidad de votos\n",
        "  # {key : value}  ---> key : puntuacion ,  value: cantidad de veces repetida la puntuacion\n",
        "  contador_frecuencia = Counter(values)\n",
        "  # Generar una lista de tuplas (dato , votación de ese dato)\n",
        "  modas_resultados = contador_frecuencia.most_common()\n",
        "\n",
        "  # Obtener los valores de las modas y sus frecuencias\n",
        "  modas = [moda[0] for moda in modas_resultados if moda[1] == modas_resultados[0][1]]\n",
        "  frecuencia_maxima = modas_resultados[0][1]\n",
        "  return modas , frecuencia_maxima"
      ],
      "metadata": {
        "id": "AlnkppcFlQqx"
      },
      "execution_count": 13,
      "outputs": []
    },
    {
      "cell_type": "code",
      "source": [
        "# Definimos una función con todas las medidas de tendencia central vistas en clase:\n",
        "\n",
        "def calculo_med_tend_central(values : list, comentario : str):\n",
        "  '''\n",
        "  Función que cálcula:\n",
        "  Media Aritmética\n",
        "  Media Geométrica\n",
        "  Media Armónica\n",
        "  Media Cuadrática\n",
        "  Rango Medio\n",
        "  Mediana\n",
        "  Moda\n",
        "  '''\n",
        "  _dict = dict()\n",
        "  ari_mean = arithmetic_mean(values)\n",
        "  geo_mean = geometric_mean(values)\n",
        "  har_mean = harmonic_mean(values)\n",
        "  qua_mean = quadratic_mean(values)\n",
        "  mid_range1 = mid_range(values)\n",
        "  _median = median(values)\n",
        "  _mode = mode(values)\n",
        "\n",
        "  dict_measures = {\"arithmetic_mean\" :ari_mean , \"geometric_mean\" : geo_mean, \"harmonic_mean\" : har_mean, \"quadratic_mean\" : qua_mean, \"mid_range\" : mid_range1, \"median\" : _median , \"mode = (mode , frequency)\" : _mode , \"comentario\" : comentario}\n",
        "  for i in dict_measures:\n",
        "    _dict[i] = dict_measures[i]\n",
        "\n",
        "  return _dict"
      ],
      "metadata": {
        "id": "epeLWSedR6Io"
      },
      "execution_count": 17,
      "outputs": []
    },
    {
      "cell_type": "code",
      "source": [
        "# Realizamos el cálculo de lista\n",
        "_list = [3.1, 2.3, 0.1, 5.0, 4.3, 4.9, 3.0, 5.0, 5.0, 4.9]\n",
        "\n",
        "_dict = calculo_med_tend_central(_list, 'Cálculo medidas quiz 2.')"
      ],
      "metadata": {
        "id": "eIpuVSfaRyme"
      },
      "execution_count": 18,
      "outputs": []
    },
    {
      "cell_type": "code",
      "source": [
        "import pandas as pd\n",
        "\n",
        "def dict_to_dataframe(_dict : dict):\n",
        "  for i in _dict:\n",
        "    _dict[i] = [_dict[i]]\n",
        "  df = pd.DataFrame(_dict)\n",
        "  return df\n",
        "\n",
        "# Generando la tabla en pandas\n",
        "dict_to_dataframe(_dict)"
      ],
      "metadata": {
        "colab": {
          "base_uri": "https://localhost:8080/",
          "height": 115
        },
        "id": "h1REvo51jzay",
        "outputId": "ff997345-8b49-45fa-84f3-ccbc292e33a3"
      },
      "execution_count": 19,
      "outputs": [
        {
          "output_type": "execute_result",
          "data": {
            "text/plain": [
              "   arithmetic_mean  geometric_mean  harmonic_mean  quadratic_mean  mid_range  \\\n",
              "0             3.76        2.780341       0.810937        4.067186       2.55   \n",
              "\n",
              "   median mode = (mode , frequency)               comentario  \n",
              "0     4.6                ([5.0], 3)  Cálculo medidas quiz 2.  "
            ],
            "text/html": [
              "\n",
              "  <div id=\"df-54903e58-e453-4cc2-ae0a-d8ffe3bff72e\" class=\"colab-df-container\">\n",
              "    <div>\n",
              "<style scoped>\n",
              "    .dataframe tbody tr th:only-of-type {\n",
              "        vertical-align: middle;\n",
              "    }\n",
              "\n",
              "    .dataframe tbody tr th {\n",
              "        vertical-align: top;\n",
              "    }\n",
              "\n",
              "    .dataframe thead th {\n",
              "        text-align: right;\n",
              "    }\n",
              "</style>\n",
              "<table border=\"1\" class=\"dataframe\">\n",
              "  <thead>\n",
              "    <tr style=\"text-align: right;\">\n",
              "      <th></th>\n",
              "      <th>arithmetic_mean</th>\n",
              "      <th>geometric_mean</th>\n",
              "      <th>harmonic_mean</th>\n",
              "      <th>quadratic_mean</th>\n",
              "      <th>mid_range</th>\n",
              "      <th>median</th>\n",
              "      <th>mode = (mode , frequency)</th>\n",
              "      <th>comentario</th>\n",
              "    </tr>\n",
              "  </thead>\n",
              "  <tbody>\n",
              "    <tr>\n",
              "      <th>0</th>\n",
              "      <td>3.76</td>\n",
              "      <td>2.780341</td>\n",
              "      <td>0.810937</td>\n",
              "      <td>4.067186</td>\n",
              "      <td>2.55</td>\n",
              "      <td>4.6</td>\n",
              "      <td>([5.0], 3)</td>\n",
              "      <td>Cálculo medidas quiz 2.</td>\n",
              "    </tr>\n",
              "  </tbody>\n",
              "</table>\n",
              "</div>\n",
              "    <div class=\"colab-df-buttons\">\n",
              "\n",
              "  <div class=\"colab-df-container\">\n",
              "    <button class=\"colab-df-convert\" onclick=\"convertToInteractive('df-54903e58-e453-4cc2-ae0a-d8ffe3bff72e')\"\n",
              "            title=\"Convert this dataframe to an interactive table.\"\n",
              "            style=\"display:none;\">\n",
              "\n",
              "  <svg xmlns=\"http://www.w3.org/2000/svg\" height=\"24px\" viewBox=\"0 -960 960 960\">\n",
              "    <path d=\"M120-120v-720h720v720H120Zm60-500h600v-160H180v160Zm220 220h160v-160H400v160Zm0 220h160v-160H400v160ZM180-400h160v-160H180v160Zm440 0h160v-160H620v160ZM180-180h160v-160H180v160Zm440 0h160v-160H620v160Z\"/>\n",
              "  </svg>\n",
              "    </button>\n",
              "\n",
              "  <style>\n",
              "    .colab-df-container {\n",
              "      display:flex;\n",
              "      gap: 12px;\n",
              "    }\n",
              "\n",
              "    .colab-df-convert {\n",
              "      background-color: #E8F0FE;\n",
              "      border: none;\n",
              "      border-radius: 50%;\n",
              "      cursor: pointer;\n",
              "      display: none;\n",
              "      fill: #1967D2;\n",
              "      height: 32px;\n",
              "      padding: 0 0 0 0;\n",
              "      width: 32px;\n",
              "    }\n",
              "\n",
              "    .colab-df-convert:hover {\n",
              "      background-color: #E2EBFA;\n",
              "      box-shadow: 0px 1px 2px rgba(60, 64, 67, 0.3), 0px 1px 3px 1px rgba(60, 64, 67, 0.15);\n",
              "      fill: #174EA6;\n",
              "    }\n",
              "\n",
              "    .colab-df-buttons div {\n",
              "      margin-bottom: 4px;\n",
              "    }\n",
              "\n",
              "    [theme=dark] .colab-df-convert {\n",
              "      background-color: #3B4455;\n",
              "      fill: #D2E3FC;\n",
              "    }\n",
              "\n",
              "    [theme=dark] .colab-df-convert:hover {\n",
              "      background-color: #434B5C;\n",
              "      box-shadow: 0px 1px 3px 1px rgba(0, 0, 0, 0.15);\n",
              "      filter: drop-shadow(0px 1px 2px rgba(0, 0, 0, 0.3));\n",
              "      fill: #FFFFFF;\n",
              "    }\n",
              "  </style>\n",
              "\n",
              "    <script>\n",
              "      const buttonEl =\n",
              "        document.querySelector('#df-54903e58-e453-4cc2-ae0a-d8ffe3bff72e button.colab-df-convert');\n",
              "      buttonEl.style.display =\n",
              "        google.colab.kernel.accessAllowed ? 'block' : 'none';\n",
              "\n",
              "      async function convertToInteractive(key) {\n",
              "        const element = document.querySelector('#df-54903e58-e453-4cc2-ae0a-d8ffe3bff72e');\n",
              "        const dataTable =\n",
              "          await google.colab.kernel.invokeFunction('convertToInteractive',\n",
              "                                                    [key], {});\n",
              "        if (!dataTable) return;\n",
              "\n",
              "        const docLinkHtml = 'Like what you see? Visit the ' +\n",
              "          '<a target=\"_blank\" href=https://colab.research.google.com/notebooks/data_table.ipynb>data table notebook</a>'\n",
              "          + ' to learn more about interactive tables.';\n",
              "        element.innerHTML = '';\n",
              "        dataTable['output_type'] = 'display_data';\n",
              "        await google.colab.output.renderOutput(dataTable, element);\n",
              "        const docLink = document.createElement('div');\n",
              "        docLink.innerHTML = docLinkHtml;\n",
              "        element.appendChild(docLink);\n",
              "      }\n",
              "    </script>\n",
              "  </div>\n",
              "\n",
              "    </div>\n",
              "  </div>\n"
            ]
          },
          "metadata": {},
          "execution_count": 19
        }
      ]
    },
    {
      "cell_type": "code",
      "source": [
        "# Hacemos un gráfico de barras para determinar la frecuencia de los datos.\n",
        "import matplotlib.pyplot as plt\n",
        "# Crear el histograma con 5 bins\n",
        "_bins = [0, 1 , 2 , 3 , 4 , 5]\n",
        "plt.hist(_list, bins = _bins, edgecolor='black')\n",
        "\n",
        "# Personalizar el gráfico con etiquetas y título\n",
        "plt.xlabel('Nota')\n",
        "plt.ylabel('Frecuencia en intervalo')\n",
        "plt.title('Histograma con 5 divisiones')\n",
        "\n",
        "# Mostrar el histograma\n",
        "plt.show()"
      ],
      "metadata": {
        "colab": {
          "base_uri": "https://localhost:8080/",
          "height": 472
        },
        "id": "yg7ZwkELRp-i",
        "outputId": "c6c1b1f0-585b-4b2f-8aa3-19a965137469"
      },
      "execution_count": 29,
      "outputs": [
        {
          "output_type": "display_data",
          "data": {
            "text/plain": [
              "<Figure size 640x480 with 1 Axes>"
            ],
            "image/png": "[encoded data removed]"
          },
          "metadata": {}
        }
      ]
    }
  ]
}