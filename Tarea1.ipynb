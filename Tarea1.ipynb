{
  "nbformat": 4,
  "nbformat_minor": 0,
  "metadata": {
    "colab": {
      "provenance": [],
      "authorship_tag": "ABX9TyNJIbQ8aZKppzZSr9KjW7mr",
      "include_colab_link": true
    },
    "kernelspec": {
      "name": "python3",
      "display_name": "Python 3"
    },
    "language_info": {
      "name": "python"
    }
  },
  "cells": [
    {
      "cell_type": "markdown",
      "metadata": {
        "id": "view-in-github",
        "colab_type": "text"
      },
      "source": [
        "<a href=\"https://colab.research.google.com/github/ajrianop/Estadistica_Descriptiva_y_Python_UD2023-3/blob/main/Tarea1.ipynb\" target=\"_parent\"><img src=\"https://colab.research.google.com/assets/colab-badge.svg\" alt=\"Open In Colab\"/></a>"
      ]
    },
    {
      "cell_type": "markdown",
      "source": [
        "**Tarea 1**"
      ],
      "metadata": {
        "id": "fBtpjnhc4ISf"
      }
    },
    {
      "cell_type": "markdown",
      "source": [
        "Entrega 30/09/2023"
      ],
      "metadata": {
        "id": "9MPtvgs67SQE"
      }
    },
    {
      "cell_type": "markdown",
      "source": [
        "1. Realizar el cálculo de la media aritmetica, utilizando una definición construida por ustedes, explicando el paso a paso del cálculo.\n",
        "\n",
        "Considere los datos [42, 21, 118, 111, 180, 35, 101, 4, 161, 144, 45, 55, 3, 11, 92, 195, 90, 187, 46, 16, 194, 143, 126, 93, 196, 169, 162, 131, 175, 14, 64, 172, 90, 110, 150, 37, 30, 68, 180, 180, 49, 156, 161, 197, 137, 115, 138, 139, 140, 140, 133, 76, 85, 161, 76, 100, 89, 49, 9, 170, 63, 110, 199, 61, 181, 134, 133, 42, 38, 72, 22, 81, 101, 190, 129, 132, 22, 76, 139, 191, 21, 18, 82, 176, 70, 70, 78, 6, 188, 137, 184, 51, 169, 61, 151, 52, 182, 121, 57, 133, 149, 138, 149, 57, 160, 101, 120, 108, 182, 31, 19, 96, 97, 55, 194, 106, 107, 76, 84, 188, 180, 158, 72, 163, 38, 87, 109, 153, 12, 158, 167, 76, 88, 13, 40, 55, 47, 197, 6, 51, 119, 18, 62, 163, 100, 144, 19, 148, 200, 166, 119, 81, 55, 43, 89, 192, 12, 107, 193, 198, 59, 92, 72, 171, 65, 121, 45, 114, 162, 140, 177, 178, 89, 118, 35, 99, 53, 74, 22, 66, 72, 119, 87, 139, 197, 135, 168, 68, 3, 179, 108, 13, 48, 55, 29, 144, 164, 57, 106, 110]\n",
        " e imprima cada uno de los pasos al calcula la sumatoria dato por dato."
      ],
      "metadata": {
        "id": "O9RfPiQM4KWo"
      }
    },
    {
      "cell_type": "code",
      "execution_count": 5,
      "metadata": {
        "colab": {
          "base_uri": "https://localhost:8080/"
        },
        "id": "Lqiicrw94HUH",
        "outputId": "11a208a8-1a85-49c4-e64b-1fbab6c07b51"
      },
      "outputs": [
        {
          "output_type": "stream",
          "name": "stdout",
          "text": [
            "1 + 2 = 3\n",
            "1 + 2 + 4 = 7\n"
          ]
        }
      ],
      "source": [
        "suma = 1 + 2\n",
        "print('{} + {} = {}'.format(1,2,suma))\n",
        "suma = 1 + 2 +4\n",
        "print('{} + {} + {} = {}'.format(1,2,4,suma))"
      ]
    }
  ]
}