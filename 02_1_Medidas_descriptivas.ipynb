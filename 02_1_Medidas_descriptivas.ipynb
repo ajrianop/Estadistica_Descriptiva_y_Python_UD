{
  "nbformat": 4,
  "nbformat_minor": 0,
  "metadata": {
    "colab": {
      "provenance": [],
      "collapsed_sections": [
        "XHFw1dAdxn3E",
        "nyjRL2TQtQLg",
        "S-W1l98wtLRz",
        "kr-SL67ax8Xb",
        "EV78LUEs_8WC",
        "3cQEpw8ZF_lD",
        "tog3qXJoAADS",
        "TWCl0CzPADzZ",
        "iwtIiqAofwt-"
      ],
      "authorship_tag": "ABX9TyNISt/boB/lQMJm/jGurhLI",
      "include_colab_link": true
    },
    "kernelspec": {
      "name": "python3",
      "display_name": "Python 3"
    },
    "language_info": {
      "name": "python"
    }
  },
  "cells": [
    {
      "cell_type": "markdown",
      "metadata": {
        "id": "view-in-github",
        "colab_type": "text"
      },
      "source": [
        "<a href=\"https://colab.research.google.com/github/ajrianop/Estadistica_Descriptiva_y_Python_UD2023-3/blob/main/02_1_Medidas_descriptivas.ipynb\" target=\"_parent\"><img src=\"https://colab.research.google.com/assets/colab-badge.svg\" alt=\"Open In Colab\"/></a>"
      ]
    },
    {
      "cell_type": "markdown",
      "source": [
        "# **Medidas descriptivas**"
      ],
      "metadata": {
        "id": "FgHmg2Bm-HYS"
      }
    },
    {
      "cell_type": "markdown",
      "source": [
        "En el presente capítulo se plantearan las ideas de las medidad descriptivas de tendencia central y de dispersión, las cuales juegan un rol muy importante en el entendimiento de los datos.\n",
        "\n",
        "Las medida descriptivas que vamos a trabajar a continuación son:\n",
        "1. Medidas de tendencia central:  son elementos que se utilizan para identificar un valor representativo o central en un conjunto de datos. Estas medidas proporcionan información sobre dónde se encuentra concentrada la mayor parte de la distribución de los datos y son fundamentales para comprender la estructura y características de un conjunto de datos.\n",
        "\n",
        "  Algunos ejemplos:\n",
        "  * Media.\n",
        "  * Mediana.\n",
        "  * Moda (la moda no es un elemento único, pueden existir problemas multimodal).\n",
        "2. Medidas  de dispersión o variabilidad: son elementos que indican cuánto se extienden o dispersan los valores individuales en relación con la medida de tendencia central (como la media o la mediana) en un conjunto de datos. Estas medidas proporcionan información sobre la variabilidad y la dispersión de los datos alrededor de un valor central.\n",
        "\n",
        "  Algunos ejemplos:\n",
        "  * Rango.\n",
        "  * Desviación estándar.\n",
        "  * Varianza.\n",
        "  * Coeficiente de variación.\n",
        "  * Rango intercuartil.\n",
        "3. Medidas de forma: son indicadores que se utilizan para describir la forma o la estructura de la distribución de un conjunto de datos. Estas medidas proporcionan información adicional sobre cómo los valores individuales se agrupan o distribuyen en torno a la medida de tendencia central y la dispersión. Las medidas de forma ayudan a comprender la simetría, la asimetría y la concentración de los datos en una distribución.\n",
        "\n",
        "  Algunos ejemplos:\n",
        "  * Asimetría (Skewness).\n",
        "  * Curtosis.\n",
        "4. Medidas de asociación: son herramientas utilizadas para cuantificar la relación o la dependencia entre dos o más variables en un conjunto de datos. Estas medidas permiten analizar y comprender cómo los cambios en una variable están relacionados con los cambios en otra variable, lo que es fundamental para identificar patrones, correlaciones y tendencias en los datos.\n",
        "\n",
        "  Algunos ejemplos:\n",
        "  * Coeficientes de correlación.\n",
        "  * Coeficientes de contingencia.\n",
        "  * Coeficiente de determinación (R^2).\n",
        "  * Indices de correlación de Spearman.\n",
        "  * Coeficiente de concordancia de Kendall."
      ],
      "metadata": {
        "id": "7lv7rpovBPPs"
      }
    },
    {
      "cell_type": "markdown",
      "source": [
        "## **1. Medidas de tendencia central**"
      ],
      "metadata": {
        "id": "fmNtnxE-iN3k"
      }
    },
    {
      "cell_type": "markdown",
      "source": [
        "Las medidas de tendencia central de un conjunto de datos, son valores que representan un valor central hacia el cual tienen tendencia los datos, algunos de las medidas a considerar son:\n",
        "1. Media:\n",
        "  * Aritmética.\n",
        "  * Geométrica.\n",
        "  * Armónica.\n",
        "  * Cuadrática.\n",
        "  * Rango medio.\n",
        "  * Ponderada.\n",
        "2. Mediana.\n",
        "3. Moda.\n"
      ],
      "metadata": {
        "id": "4UEctfc6imm4"
      }
    },
    {
      "cell_type": "markdown",
      "source": [
        "### **Media**"
      ],
      "metadata": {
        "id": "eEbUoIQYjGof"
      }
    },
    {
      "cell_type": "markdown",
      "source": [
        "#### **Media Aritmética, Media o Promedio (Mean or Arithmetic Mean):**"
      ],
      "metadata": {
        "id": "XHFw1dAdxn3E"
      }
    },
    {
      "cell_type": "markdown",
      "source": [
        "La **media** es un concepto estadístico utilizado para describir la tendencia central de un conjunto de datos numéricos. Se calcula sumando todos los valores de una muestra y dividiendo la suma total entre el número de valores en el conjunto.\n",
        "\n",
        "En términos matemáticos, si tienes un conjunto de datos con $n$ valores $x_1 , x_2 , x_3 , \\ldots , x_n,$ la fórmula para calcular es: $$\\bar{x} = \\frac{x_1+x_2+\\cdots+x_n}{n} = \\frac{\\sum\\limits_{i=1}^{n}x_i}{n} = \\frac{\\sum x_i}{n}.$$"
      ],
      "metadata": {
        "id": "VURRg3dAjSgX"
      }
    },
    {
      "cell_type": "markdown",
      "source": [
        "Cuando nuestro conjunto sobre el cual realizamos el cálculo es la población (el universo de eventos total) la media la caracterizamos con el símbolo:\n",
        "$$\\mu = \\frac{x_1+x_2+\\cdots+x_N}{N} = \\frac{\\sum\\limits_{i=1}^{N}x_i}{N} = \\frac{\\sum x_i}{N}$$\n",
        "$\\mu:$ Media tomando como conjunto la población.\n",
        "\n",
        "$N:$ Cantidad de elementos en la población"
      ],
      "metadata": {
        "id": "TrBXolxhn5hl"
      }
    },
    {
      "cell_type": "markdown",
      "source": [
        "**Observaciones:** La media es un valor que en general nos permite ver un valor promedio dada un población, en general debemos tener cuidado dado el contexto del problema, ya que en gran medida no siempre es muy diciente el valor de la misma. Por tal motivo es necesario siempre analizar la lógica del problema.\n",
        "\n",
        "El cálculo de la media solo tiene sentido para valores cuantitativos, pueden ser de caracter discreto o continuo.\n",
        "\n",
        "Algunas ventajas y desventajas de usar la media aritmética:\n",
        "<html>\n",
        "<head>\n",
        "<style>\n",
        "table {\n",
        "  border-collapse: collapse;\n",
        "  width: 100%;\n",
        "}\n",
        "\n",
        "th, td {\n",
        "  border: 1px solid black;\n",
        "  padding: 8px;\n",
        "  text-align: left;\n",
        "  font-size: 18px;\n",
        "}\n",
        "\n",
        "th {\n",
        "  background-color: #f2f2f2;\n",
        "}\n",
        "</style>\n",
        "</head>\n",
        "<body>\n",
        "<table border=\"1\">\n",
        "  <tr>\n",
        "    <th>Ventajas de usar la media</th>\n",
        "    <th>Desventajas de usar la media</th>\n",
        "  </tr>\n",
        "  <tr>\n",
        "    <td>Fácil de entender y calcular.</td>\n",
        "    <td>Sensible a valores atípicos (outliers), lo que puede distorsionar los resultados.</td>\n",
        "  </tr>\n",
        "  <tr>\n",
        "    <td>Utiliza todos los valores en el conjunto de datos.</td>\n",
        "    <td>No es adecuada para distribuciones asimétricas o con colas largas.</td>\n",
        "  </tr>\n",
        "  <tr>\n",
        "    <td>Es útil para representar el valor promedio o típico de un conjunto de datos.</td>\n",
        "    <td>Puede no ser representativa si el conjunto de datos contiene valores extremadamente altos o bajos.</td>\n",
        "  </tr>\n",
        "  <tr>\n",
        "    <td>Es ampliamente reconocida y utilizada en diversos campos.</td>\n",
        "    <td>Puede no ser la mejor medida de tendencia central si la distribución es bimodal o multimodal.</td>\n",
        "  </tr>\n",
        "  <tr>\n",
        "    <td>Se puede usar en análisis paramétricos y en cálculos posteriores, como desviación estándar y varianza.</td>\n",
        "    <td>No proporciona información sobre la variabilidad intrínseca de los datos.</td>\n",
        "  </tr>\n",
        "  <tr>\n",
        "    <td>Es especialmente útil cuando los datos están aproximadamente distribuidos de manera simétrica.</td>\n",
        "    <td>No es robusta ante valores atípicos, lo que puede afectar su validez en algunas situaciones.</td>\n",
        "  </tr>\n",
        "</table>\n",
        "</body>\n",
        "</html>"
      ],
      "metadata": {
        "id": "_NYIEWC2o3ej"
      }
    },
    {
      "cell_type": "markdown",
      "source": [
        "##### **Ejemplo:**"
      ],
      "metadata": {
        "id": "nyjRL2TQtQLg"
      }
    },
    {
      "cell_type": "markdown",
      "source": [
        "Ustedes como estudiantes del curso de estadística tienen un registro de la totalidad de las notas finales de cada estudiante, quieren saber cómo se comportaron las notas en general del curso según toda la población. De este modo utilizan la media como valor de medida central para ver el rendimiento promedio del curso, de tal modo ustedes programan:"
      ],
      "metadata": {
        "id": "qg_mfMzStSQs"
      }
    },
    {
      "cell_type": "code",
      "source": [
        "def arithmetic_mean(values : list):\n",
        "  '''\n",
        "  Función que permite calcular la media aritmética\n",
        "  values --> list\n",
        "  '''\n",
        "  _sum = 0\n",
        "  n = len(values)\n",
        "\n",
        "  for value in values:\n",
        "      _sum += value  # Convierte el porcentaje a decimal\n",
        "\n",
        "  return _sum / n"
      ],
      "metadata": {
        "id": "NWxOpdamHnb5"
      },
      "execution_count": 1,
      "outputs": []
    },
    {
      "cell_type": "code",
      "source": [
        "# Ejemplo de cálculo de la media de calificaciones en Python\n",
        "\n",
        "# Calificaciones de los estudiantes en el examen\n",
        "calificaciones = [85, 92, 78, 95, 88, 90, 79, 82, 91, 87]\n",
        "\n",
        "# Calcular la suma de todas las calificaciones\n",
        "suma_total = sum(calificaciones)\n",
        "\n",
        "# Calcular el número de estudiantes en la clase\n",
        "numero_de_estudiantes = len(calificaciones)\n",
        "\n",
        "# Calcular la media dividiendo la suma total entre el número de estudiantes\n",
        "media_calificaciones = suma_total / numero_de_estudiantes\n",
        "\n",
        "# Imprimir el resultado\n",
        "print(\"Calificaciones de los estudiantes:\", calificaciones)\n",
        "print(\"La media de calificaciones es:\", media_calificaciones)\n",
        "print(\"La media de calificaciones calculada con la funcion 'aritmetic_mean':\", arithmetic_mean(calificaciones))"
      ],
      "metadata": {
        "colab": {
          "base_uri": "https://localhost:8080/"
        },
        "id": "nwYLX482tmgw",
        "outputId": "82f8ef20-cde4-40c0-8fd7-138e15cc24df"
      },
      "execution_count": 2,
      "outputs": [
        {
          "output_type": "stream",
          "name": "stdout",
          "text": [
            "Calificaciones de los estudiantes: [85, 92, 78, 95, 88, 90, 79, 82, 91, 87]\n",
            "La media de calificaciones es: 86.7\n",
            "La media de calificaciones calculada con la funcion 'aritmetic_mean': 86.7\n"
          ]
        }
      ]
    },
    {
      "cell_type": "markdown",
      "source": [
        "##### **Propiedades de la media**"
      ],
      "metadata": {
        "id": "S-W1l98wtLRz"
      }
    },
    {
      "cell_type": "markdown",
      "source": [
        "1. La suma de desviaciones de los datos con respecto a la media es siempre cero.\n",
        "\n",
        "$$\\sum\\limits_{i=1}^{n} (x_i - \\bar{x}) = 0$$\n",
        "\n",
        "**Nota:** La media o valor promedio se comporta como el centro de masa de multiples objetos en una balanza común."
      ],
      "metadata": {
        "id": "tpnB8Bg6tTjw"
      }
    },
    {
      "cell_type": "markdown",
      "source": [
        "2. La suma de los cuadrados de las desviaciones con respecto a la media aritmética es menor que la suma de cuadrados de las desviaciones a partir de cualquier otro valor.\n",
        "$$\\sum\\limits_{i=1}^{n} (x_i - \\bar{x})^2 \\quad \\mathrm{adquiere\\ un\\ valor\\ mínimo.}$$\n"
      ],
      "metadata": {
        "id": "3U7UJL62vCbo"
      }
    },
    {
      "cell_type": "markdown",
      "source": [
        "3. Si todos los valores de la muestra son constante $x_i = k$ para todo $i\\in \\{1,2,\\ldots, n\\}$ entonces el valor de la media es la constante $k.$\n",
        "$$x_i = k\\quad ,\\quad \\forall i\\in\\{1,2,\\ldots, n\\}\\quad \\Rightarrow \\quad \\bar{x} = k.$$"
      ],
      "metadata": {
        "id": "Bu7kSEwAvedS"
      }
    },
    {
      "cell_type": "markdown",
      "source": [
        "4.  Si todos los valores de la muestra son afectados por la suma o resta de una constante $k$ el valor de la media sera la media suma o resta la constante.\n",
        "$$y_i = k \\pm x_i\\quad ,\\quad \\forall i\\in\\{1,2,\\ldots, n\\}\\quad \\Rightarrow \\quad \\bar{y} = k\\pm \\bar{x}.$$  "
      ],
      "metadata": {
        "id": "Fe02QYxewGyx"
      }
    },
    {
      "cell_type": "markdown",
      "source": [
        "5.  Si todos los valores de la muestra son afectados por la multiplicación o división de una constante $k$ el valor de la media sera la media suma o resta la constante.\n",
        "$$y_i = k \\cdot x_i\\quad ,\\quad \\forall i\\in\\{1,2,\\ldots, n\\}\\quad \\Rightarrow \\quad \\bar{y} = k\\cdot \\bar{x}.$$\n",
        "**Nota:** Recuerde que la división se puede escribir como un producto de un número fraccionario: $\\frac{x}{a} = \\frac{1}{a}\\cdot x = k\\cdot x$, donde $k=\\frac{1}{a}.$  "
      ],
      "metadata": {
        "id": "dGelgA4HwynY"
      }
    },
    {
      "cell_type": "markdown",
      "source": [
        "#### **Media Geométrica (Geometric Mean)**"
      ],
      "metadata": {
        "id": "kr-SL67ax8Xb"
      }
    },
    {
      "cell_type": "markdown",
      "source": [
        "La media geométrica es un concepto estadístico que se utiliza para representar la tendencia central de un conjunto de valores positivos. A diferencia de la media aritmética (promedio), que se calcula sumando los valores y dividiendo por la cantidad de valores, la media geométrica se calcula multiplicando los valores y luego tomando la raíz $n$ -ésima, donde $n$ es la cantidad de valores en el conjunto. En términos matemáticos, si tienes un conjunto de datos con $n$ valores $x_1 , x_2 , x_3 , \\ldots , x_n > 0,$ la fórmula para calcular es: $$\\bar{x}_{g} = \\sqrt[n]{x_1x_2\\cdots x_n} = \\sqrt[n]{\\prod\\limits_{i=1}^{n}x_i} = \\sqrt[n]{\\prod x_i}$$"
      ],
      "metadata": {
        "id": "6uGXbZjsyGH0"
      }
    },
    {
      "cell_type": "markdown",
      "source": [
        "Utilizando las propiedades de logaritmos y exponenciales tenemos que:\n",
        "$$\\bar{x}_{g} = a^{\\log_{a}(\\bar{x}_g)}=a^{\\frac{1}{n}\\sum\\limits_{i=1}^{n}\\log_a(x_i)}$$"
      ],
      "metadata": {
        "id": "9U-XWA0fJgYQ"
      }
    },
    {
      "cell_type": "markdown",
      "source": [
        "<html>\n",
        "<head>\n",
        "<style>\n",
        "table {\n",
        "  border-collapse: collapse;\n",
        "  width: 100%;\n",
        "}\n",
        "\n",
        "th, td {\n",
        "  border: 1px solid black;\n",
        "  padding: 8px;\n",
        "  text-align: left;\n",
        "}\n",
        "\n",
        "th {\n",
        "  background-color: #f2f2f2;\n",
        "}\n",
        "</style>\n",
        "</head>\n",
        "<body>\n",
        "\n",
        "<h6>Tabla de Ventajas y Desventajas de Usar la Media Geométrica</h6>\n",
        "\n",
        "<table>\n",
        "  <tr>\n",
        "    <th>Ventajas de usar la media geométrica</th>\n",
        "    <th>Desventajas de usar la media geométrica</th>\n",
        "  </tr>\n",
        "  <tr>\n",
        "    <td>Adecuada para datos con crecimiento exponencial o tasas de cambio constantes.</td>\n",
        "    <td>No es adecuada para datos que contienen valores negativos o cero, ya que requiere valores positivos.</td>\n",
        "  </tr>\n",
        "  <tr>\n",
        "    <td>Menos sensible a valores atípicos (outliers) que la media aritmética.</td>\n",
        "    <td>Puede ser afectada por la magnitud de los valores más pequeños en el conjunto de datos.</td>\n",
        "  </tr>\n",
        "  <tr>\n",
        "    <td>Útil para calcular tasas de crecimiento promedio a lo largo del tiempo.</td>\n",
        "    <td>No se puede usar con conjuntos de datos que contienen valores no numéricos.</td>\n",
        "  </tr>\n",
        "  <tr>\n",
        "    <td>Valora la multiplicación sucesiva de los valores y representa relaciones multiplicativas.</td>\n",
        "    <td>Puede ser más difícil de interpretar en comparación con la media aritmética, especialmente en contextos no matemáticos.</td>\n",
        "  </tr>\n",
        "  <tr>\n",
        "    <td>Apropiada para datos que siguen una distribución log-normal.</td>\n",
        "    <td>No siempre es apropiada para datos que tienen una distribución asimétrica o colas largas.</td>\n",
        "  </tr>\n",
        "</table>\n",
        "\n",
        "</body>\n",
        "</html>\n"
      ],
      "metadata": {
        "id": "yfhogjO09ANw"
      }
    },
    {
      "cell_type": "markdown",
      "source": [
        "##### **Ejemplo:**"
      ],
      "metadata": {
        "id": "jQoBord862bi"
      }
    },
    {
      "cell_type": "markdown",
      "source": [
        "Supongamos que tienes un inversor interesado en comparar el rendimiento anual de dos acciones, A y B, durante un período de 5 años. A continuación, se presentan los rendimientos anuales de ambas acciones:"
      ],
      "metadata": {
        "id": "K-j2J7wA63Wy"
      }
    },
    {
      "cell_type": "markdown",
      "source": [
        "<html>\n",
        "<head>\n",
        "  <style>\n",
        "    table {\n",
        "      border-collapse: collapse;\n",
        "      width: 50%;\n",
        "      margin: auto;\n",
        "    }\n",
        "    th, td {\n",
        "      border: 1px solid black;\n",
        "      padding: 8px;\n",
        "      text-align: center;\n",
        "    }\n",
        "    th {\n",
        "      background-color: #f2f2f2;\n",
        "    }\n",
        "  </style>\n",
        "</head>\n",
        "<body>\n",
        "\n",
        "<h6>Rendimientos Anuales de Acciones A y B</h6>\n",
        "\n",
        "<table>\n",
        "  <tr>\n",
        "    <th>Año</th>\n",
        "    <th>Acción A</th>\n",
        "    <th>Acción B</th>\n",
        "  </tr>\n",
        "  <tr>\n",
        "    <td>1</td>\n",
        "    <td>10%</td>\n",
        "    <td>8%</td>\n",
        "  </tr>\n",
        "  <tr>\n",
        "    <td>2</td>\n",
        "    <td>15%</td>\n",
        "    <td>12%</td>\n",
        "  </tr>\n",
        "  <tr>\n",
        "    <td>3</td>\n",
        "    <td>-5%</td>\n",
        "    <td>6%</td>\n",
        "  </tr>\n",
        "  <tr>\n",
        "    <td>4</td>\n",
        "    <td>20%</td>\n",
        "    <td>18%</td>\n",
        "  </tr>\n",
        "  <tr>\n",
        "    <td>5</td>\n",
        "    <td>7%</td>\n",
        "    <td>10%</td>\n",
        "  </tr>\n",
        "</table>\n",
        "\n",
        "</body>\n",
        "</html>\n"
      ],
      "metadata": {
        "id": "amEzMI4U68T6"
      }
    },
    {
      "cell_type": "code",
      "source": [
        "def geometric_mean(values : list):\n",
        "  '''\n",
        "  Función que permite calcular la media geométrica\n",
        "  values --> list\n",
        "  '''\n",
        "  product = 1\n",
        "  n = len(values)\n",
        "\n",
        "  for value in values:\n",
        "      product *= value\n",
        "\n",
        "  return (product ** (1 / n))"
      ],
      "metadata": {
        "id": "EEGaXYiuHAGR"
      },
      "execution_count": 3,
      "outputs": []
    },
    {
      "cell_type": "code",
      "source": [
        "def geometric_mean_percentage(values : list):\n",
        "  '''\n",
        "  Función que permite calcular la media geométrica\n",
        "  values --> list\n",
        "  '''\n",
        "  product = 1\n",
        "  n = len(values)\n",
        "\n",
        "  for value in values:\n",
        "      product *= (1 + value / 100)  # Convierte el porcentaje a decimal\n",
        "\n",
        "  return (product ** (1 / n)) - 1\n",
        "\n",
        "# Rendimientos anuales de las acciones A y B en porcentaje\n",
        "action_a_returns = [10, 15, -5, 20, 7]\n",
        "action_b_returns = [8, 12, 6, 18, 10]\n",
        "\n",
        "# Cálculo de la media geométrica\n",
        "geometric_mean_a = geometric_mean_percentage(action_a_returns)\n",
        "geometric_mean_b = geometric_mean_percentage(action_b_returns)\n",
        "\n",
        "# Impresión de los resultados\n",
        "print(\"Rendimientos Anuales de la Acción A:\", action_a_returns)\n",
        "print(\"Rendimientos Anuales de la Acción B:\", action_b_returns)\n",
        "print(\"Media Geométrica de la Acción A:\", geometric_mean_a)\n",
        "print(\"Media Geométrica de la Acción B:\", geometric_mean_b)\n",
        "\n",
        "# Comparación de rendimientos\n",
        "if geometric_mean_a > geometric_mean_b:\n",
        "    print(\"La Acción A tuvo un mejor rendimiento promedio.\")\n",
        "elif geometric_mean_b > geometric_mean_a:\n",
        "    print(\"La Acción B tuvo un mejor rendimiento promedio.\")\n",
        "else:\n",
        "    print(\"Ambas acciones tuvieron un rendimiento promedio similar.\")\n"
      ],
      "metadata": {
        "colab": {
          "base_uri": "https://localhost:8080/"
        },
        "id": "RLxzMA2zwokj",
        "outputId": "1b4b9f7c-dc17-47c3-e08c-9367c136ac77"
      },
      "execution_count": 4,
      "outputs": [
        {
          "output_type": "stream",
          "name": "stdout",
          "text": [
            "Rendimientos Anuales de la Acción A: [10, 15, -5, 20, 7]\n",
            "Rendimientos Anuales de la Acción B: [8, 12, 6, 18, 10]\n",
            "Media Geométrica de la Acción A: 0.09062595997213085\n",
            "Media Geométrica de la Acción B: 0.10724688503180291\n",
            "La Acción B tuvo un mejor rendimiento promedio.\n"
          ]
        }
      ]
    },
    {
      "cell_type": "markdown",
      "source": [
        "#### **Media Armónica (Harmonic Mean)**"
      ],
      "metadata": {
        "id": "EV78LUEs_8WC"
      }
    },
    {
      "cell_type": "markdown",
      "source": [
        "La media armónica es un concepto estadístico utilizado para describir la tendencia central de un conjunto de valores numéricos. A diferencia de la media aritmética (promedio) y la media geométrica, que involucran sumar o multiplicar los valores, la media armónica se calcula dividiendo el número total de valores entre la suma de los inversos de esos valores.\n",
        "\n",
        "La media armónica es especialmente útil en situaciones donde se desea tener en cuenta valores pequeños en el conjunto de datos. Por ejemplo, se utiliza en el cálculo de velocidades promedio o tasas de flujo recíproco, donde los valores pequeños tienen más peso. Sin embargo, la media armónica tiende a ser más sensible a valores atípicos (outliers) en comparación con la media aritmética.\n",
        "\n",
        "En términos matemáticos, si tienes un conjunto de datos con $n$ valores $x_1 , x_2 , x_3 , \\ldots , x_n > 0,$ la fórmula para calcular es: $$\\bar{x}_{h} = \\frac{n}{\\frac{1}{x_1}+\\frac{1}{x_2}+ \\cdots +\\frac{1}{x_n}} = \\frac{n}{\\sum\\limits_{i=1}^{n}\\frac{1}{x_i}} = \\frac{n}{\\sum\\frac{1}{x_i}},$$\n",
        "note que $x_i \\neq 0$ para todo $i \\in\\{ 1,2,\\ldots, n\\}$."
      ],
      "metadata": {
        "id": "MKyZ8MryBBxj"
      }
    },
    {
      "cell_type": "markdown",
      "source": [
        "Cuando nuestro conjunto sobre el cual realizamos el cálculo es la población (el universo de eventos total) la media geométrica la caracterizamos con el símbolo:\n",
        "$$\\mu_{h} = \\frac{N}{\\frac{1}{x_1}+\\frac{1}{x_2}+ \\cdots +\\frac{1}{x_N}} = \\frac{N}{\\sum\\limits_{i=1}^{N}\\frac{1}{x_i}} = \\frac{N}{\\sum\\frac{1}{x_i}},$$\n",
        "note que $x_i \\neq 0$ para todo $i \\in\\{ 1,2,\\ldots, N\\}$.\n",
        "\n",
        "$\\mu_{h}:$ Media armónica tomando como conjunto la población.\n",
        "\n",
        "$N:$ Cantidad de elementos en la población"
      ],
      "metadata": {
        "id": "T1pK7dqgFPr1"
      }
    },
    {
      "cell_type": "markdown",
      "source": [
        "<html>\n",
        "<head>\n",
        "<style>\n",
        "table {\n",
        "  border-collapse: collapse;\n",
        "  width: 100%;\n",
        "}\n",
        "\n",
        "th, td {\n",
        "  border: 1px solid black;\n",
        "  padding: 8px;\n",
        "  text-align: left;\n",
        "}\n",
        "\n",
        "th {\n",
        "  background-color: #f2f2f2;\n",
        "}\n",
        "</style>\n",
        "</head>\n",
        "<body>\n",
        "\n",
        "<h6>Tabla de Ventajas y Desventajas de Usar la Media Armónica</h6>\n",
        "\n",
        "<table>\n",
        "  <tr>\n",
        "    <th>Ventajas de usar la media armónica</th>\n",
        "    <th>Desventajas de usar la media armónica</th>\n",
        "  </tr>\n",
        "  <tr>\n",
        "    <td>Considera valores pequeños en el conjunto de datos, dándoles más peso en el cálculo.</td>\n",
        "    <td>Es más sensible a valores extremadamente pequeños, lo que puede afectar significativamente la media.</td>\n",
        "  </tr>\n",
        "  <tr>\n",
        "    <td>Apropiada para situaciones donde se busca representar tasas recíprocas o promedios ponderados.</td>\n",
        "    <td>Puede no ser representativa de la \"tendencia central\" en conjuntos de datos con valores muy dispersos.</td>\n",
        "  </tr>\n",
        "  <tr>\n",
        "    <td>Útil en problemas relacionados con velocidades, tasas y proporciones inversas.</td>\n",
        "    <td>No es adecuada para conjuntos de datos que contienen valores negativos o cero, ya que los inversos serían indefinidos.</td>\n",
        "  </tr>\n",
        "  <tr>\n",
        "    <td>Ofrece una alternativa cuando la media aritmética o geométrica podría no ser apropiada.</td>\n",
        "    <td>Puede no ser fácil de interpretar en comparación con la media aritmética, especialmente en contextos no matemáticos.</td>\n",
        "  </tr>\n",
        "  <tr>\n",
        "    <td>Puede tener aplicaciones en áreas como finanzas, ingeniería y ciencias naturales.</td>\n",
        "    <td>No es tan comúnmente utilizada como la media aritmética o geométrica en muchas disciplinas.</td>\n",
        "  </tr>\n",
        "</table>\n",
        "\n",
        "</body>\n",
        "</html>\n"
      ],
      "metadata": {
        "id": "XIWR5XhTJ0zd"
      }
    },
    {
      "cell_type": "markdown",
      "source": [
        "##### **Ejemplo:**"
      ],
      "metadata": {
        "id": "3cQEpw8ZF_lD"
      }
    },
    {
      "cell_type": "markdown",
      "source": [
        "Imagina que estás calculando la velocidad promedio de un viaje en el que te moviste a diferentes velocidades en distintas partes del recorrido. Quieres calcular la media armónica de las velocidades para obtener una idea de la velocidad promedio ponderada por el tiempo que pasaste a diferentes velocidades."
      ],
      "metadata": {
        "id": "pV9WKyvDG0Tv"
      }
    },
    {
      "cell_type": "code",
      "source": [
        "def harmonic_mean(values : list):\n",
        "  '''\n",
        "  Función que permite calcular la media armónica\n",
        "  values --> list\n",
        "  '''\n",
        "  _sum = 0\n",
        "  n = len(values)\n",
        "\n",
        "  for value in values:\n",
        "      _sum += 1/value  # Convierte el porcentaje a decimal\n",
        "\n",
        "  return n/_sum"
      ],
      "metadata": {
        "id": "IiHWrOZ6HDng"
      },
      "execution_count": 5,
      "outputs": []
    },
    {
      "cell_type": "code",
      "source": [
        "# Ejemplo de cálculo de la media armónica en Python\n",
        "\n",
        "# Velocidades en diferentes partes del viaje (en km/h)\n",
        "velocidades = [60, 80, 40, 70, 100]\n",
        "\n",
        "# Calcular el número de velocidades en el conjunto\n",
        "numero_de_velocidades = len(velocidades)\n",
        "\n",
        "# Calcular la suma de los inversos de las velocidades\n",
        "suma_inversos = sum(1 / v for v in velocidades)\n",
        "\n",
        "# Calcular la media armónica dividiendo el número de velocidades entre la suma de los inversos\n",
        "media_armónica = numero_de_velocidades / suma_inversos\n",
        "\n",
        "# Imprimir el resultado\n",
        "print(\"Velocidades en el viaje:\", velocidades)\n",
        "print(\"La media armónica de las velocidades es:\", media_armónica)\n",
        "print(\"La media de calificaciones calculada con la funcion 'harmonic_mean':\", harmonic_mean(velocidades))"
      ],
      "metadata": {
        "colab": {
          "base_uri": "https://localhost:8080/"
        },
        "id": "aA-O7YuXFO4c",
        "outputId": "2460428d-2488-45e5-ee88-cf87f40ead6b"
      },
      "execution_count": 6,
      "outputs": [
        {
          "output_type": "stream",
          "name": "stdout",
          "text": [
            "Velocidades en el viaje: [60, 80, 40, 70, 100]\n",
            "La media armónica de las velocidades es: 63.7329286798179\n",
            "La media de calificaciones calculada con la funcion 'harmonic_mean': 63.7329286798179\n"
          ]
        }
      ]
    },
    {
      "cell_type": "markdown",
      "source": [
        "#### **Nota:** La media aritmética, la media geométrica y la media armónica son comparables:\n",
        "$$\\bar{x}_{h}\\leq \\bar{x}_{g} \\leq \\bar{x},$$\n",
        "de este modo también se tiene que:\n",
        "$$\\mu_{h}\\leq \\mu_{g} \\leq \\mu.$$"
      ],
      "metadata": {
        "id": "YDIJdc-DIarM"
      }
    },
    {
      "cell_type": "markdown",
      "source": [
        "#### **Media Cuadrática**"
      ],
      "metadata": {
        "id": "tog3qXJoAADS"
      }
    },
    {
      "cell_type": "markdown",
      "source": [
        "La media cuadrática, también conocida como la raíz cuadrada media o RMS (Root Mean Square, en inglés), es una medida estadística utilizada para calcular la \"raíz cuadrada\" del promedio de los valores al cuadrado de un conjunto de datos numéricos. Esta medida es comúnmente utilizada en el análisis de señales y en la estadística de procesos aleatorios.\n",
        "\n",
        "La media cuadrática es útil cuando se quiere tener en cuenta tanto los valores positivos como los negativos de un conjunto de datos, y también puede ser usada para caracterizar la magnitud de fluctuaciones en una señal. Por ejemplo, en el análisis de datos eléctricos, la media cuadrática se utiliza para calcular el valor eficaz de una señal alterna, que es un indicador de su potencia real."
      ],
      "metadata": {
        "id": "_H_BRXdSKPDH"
      }
    },
    {
      "cell_type": "markdown",
      "source": [
        "En términos matemáticos, si tienes un conjunto de datos con $n$ valores $x_1 , x_2 , x_3 , \\ldots , x_n,$ la fórmula para calcular es: $$\\bar{x^2} = \\sqrt{\\frac{x_1^2+x_2^2+\\cdots+x_n^2}{n}} = \\sqrt{\\frac{\\sum\\limits_{i=1}^{n}x_i^2}{n}} = \\sqrt{\\frac{\\sum x_i^2}{n}}.$$"
      ],
      "metadata": {
        "id": "W_3Z-bp5KdKz"
      }
    },
    {
      "cell_type": "markdown",
      "source": [
        "Cuando nuestro conjunto sobre el cual realizamos el cálculo es la población (el universo de eventos total) la media la caracterizamos con el símbolo:\n",
        "$$\\mu^2 = \\sqrt{\\frac{x_1^2+x_2^2+\\cdots+x_N^2}{N}} = \\sqrt{\\frac{\\sum\\limits_{i=1}^{N}x_i^2}{N}} = \\sqrt{\\frac{\\sum x_i^2}{N}}$$\n",
        "$\\mu^2:$ Media tomando como conjunto la población.\n",
        "\n",
        "$N:$ Cantidad de elementos en la población"
      ],
      "metadata": {
        "id": "I8lR_1G5K6ba"
      }
    },
    {
      "cell_type": "markdown",
      "source": [
        "<!DOCTYPE html>\n",
        "<html>\n",
        "<head>\n",
        "<style>\n",
        "table {\n",
        "  border-collapse: collapse;\n",
        "  width: 100%;\n",
        "}\n",
        "\n",
        "th, td {\n",
        "  border: 1px solid black;\n",
        "  padding: 8px;\n",
        "  text-align: left;\n",
        "}\n",
        "\n",
        "th {\n",
        "  background-color: #f2f2f2;\n",
        "}\n",
        "</style>\n",
        "</head>\n",
        "<body>\n",
        "\n",
        "<h6>Tabla de Ventajas y Desventajas de Usar la Media Cuadrática</h6>\n",
        "\n",
        "<table>\n",
        "  <tr>\n",
        "    <th>Ventajas de usar la media cuadrática</th>\n",
        "    <th>Desventajas de usar la media cuadrática</th>\n",
        "  </tr>\n",
        "  <tr>\n",
        "    <td>Considera tanto los valores positivos como los negativos en el conjunto de datos.</td>\n",
        "    <td>Puede verse afectada por valores extremadamente grandes en el conjunto de datos, lo que podría distorsionar la medida.</td>\n",
        "  </tr>\n",
        "  <tr>\n",
        "    <td>Pondera los valores al cuadrado, lo que puede ser útil para enfocarse en la magnitud de las fluctuaciones.</td>\n",
        "    <td>No es tan intuitiva de interpretar como la media aritmética o la mediana, especialmente en contextos no técnicos.</td>\n",
        "  </tr>\n",
        "  <tr>\n",
        "    <td>Es comúnmente utilizada en análisis de señales y procesos aleatorios, donde es importante caracterizar la variabilidad y la amplitud.</td>\n",
        "    <td>Puede no ser representativa si la distribución de los datos es asimétrica o si hay valores atípicos.</td>\n",
        "  </tr>\n",
        "  <tr>\n",
        "    <td>Es útil para calcular el valor eficaz de señales alternas, que es un indicador de su potencia real.</td>\n",
        "    <td>Puede no ser la mejor elección cuando los valores absolutos de los datos son más relevantes que los cuadrados.</td>\n",
        "  </tr>\n",
        "  <tr>\n",
        "    <td>Permite comparar la magnitud promedio de diferentes conjuntos de datos, independientemente de su signo.</td>\n",
        "    <td>No es tan comúnmente utilizada en análisis estadísticos generales en comparación con la media aritmética o la mediana.</td>\n",
        "  </tr>\n",
        "</table>\n",
        "\n",
        "</body>\n",
        "</html>\n"
      ],
      "metadata": {
        "id": "x0CEUYEhLZi4"
      }
    },
    {
      "cell_type": "markdown",
      "source": [
        "##### **Ejemplo:**"
      ],
      "metadata": {
        "id": "SbtHtBtvLQv8"
      }
    },
    {
      "cell_type": "markdown",
      "source": [
        "Contexto: Análisis de Variabilidad en Temperaturas\n",
        "\n",
        "Imagina que estás realizando un análisis de la variabilidad de las temperaturas diarias en una región durante una semana. Quieres calcular la media cuadrática de las diferencias entre las temperaturas diarias y la temperatura promedio de la semana, para comprender la magnitud promedio de las fluctuaciones diarias con respecto a la temperatura promedio."
      ],
      "metadata": {
        "id": "IblI1z9DLUYR"
      }
    },
    {
      "cell_type": "code",
      "source": [
        "def quadratic_mean(values : list):\n",
        "  '''\n",
        "  Función que permite calcular la media cuadrática\n",
        "  values --> list\n",
        "  '''\n",
        "  _sum = 0\n",
        "  n = len(values)\n",
        "\n",
        "  for value in values:\n",
        "      _sum += value ** 2  # Convierte el porcentaje a decimal\n",
        "\n",
        "  return (_sum/n)** 0.5"
      ],
      "metadata": {
        "id": "dHTGy-WwOPOA"
      },
      "execution_count": 7,
      "outputs": []
    },
    {
      "cell_type": "code",
      "source": [
        "# Ejemplo de cálculo de la media cuadrática en Python\n",
        "\n",
        "# Temperaturas diarias en grados Celsius durante una semana\n",
        "temperaturas_diarias = [28, 30, 32, 29, 27, 31, 26]\n",
        "\n",
        "# Calcular la temperatura promedio de la semana\n",
        "temperatura_promedio = sum(temperaturas_diarias) / len(temperaturas_diarias)\n",
        "\n",
        "# Calcular las diferencias entre las temperaturas diarias y la temperatura promedio\n",
        "diferencias = [temp - temperatura_promedio for temp in temperaturas_diarias]\n",
        "\n",
        "# Calcular la suma de los cuadrados de las diferencias\n",
        "suma_cuadrados = sum(dif ** 2 for dif in diferencias)\n",
        "\n",
        "# Calcular la media cuadrática dividiendo la suma de los cuadrados entre el número de días\n",
        "media_cuadratica = (suma_cuadrados / len(temperaturas_diarias)) ** 0.5\n",
        "\n",
        "# Imprimir el resultado\n",
        "print(\"Temperaturas diarias:\", temperaturas_diarias)\n",
        "print(\"Temperatura promedio:\", temperatura_promedio)\n",
        "print(\"La media cuadrática de las diferencias es:\", media_cuadratica)\n",
        "print(\"La media cuadrática de las diferencias con la funcion 'quadratic_mean':\", quadratic_mean(diferencias))"
      ],
      "metadata": {
        "colab": {
          "base_uri": "https://localhost:8080/"
        },
        "id": "4JDnzJtiLUmh",
        "outputId": "7a83ec80-b7b7-4a4f-cb1c-2ca709edfea5"
      },
      "execution_count": 8,
      "outputs": [
        {
          "output_type": "stream",
          "name": "stdout",
          "text": [
            "Temperaturas diarias: [28, 30, 32, 29, 27, 31, 26]\n",
            "Temperatura promedio: 29.0\n",
            "La media cuadrática de las diferencias es: 2.0\n",
            "La media cuadrática de las diferencias con la funcion 'quadratic_mean': 2.0\n"
          ]
        }
      ]
    },
    {
      "cell_type": "markdown",
      "source": [
        "#### **Rango medio o Semirrango**"
      ],
      "metadata": {
        "id": "TWCl0CzPADzZ"
      }
    },
    {
      "cell_type": "markdown",
      "source": [
        "El rango medio se define como la media entre el valor mínimo y máximo del conjunto de datos.\n",
        "\n",
        "En términos matemáticos, si tienes un conjunto de datos con  n  valores  x1,x2,x3,…,xn,  la fórmula para calcular es:\n",
        "$$RM = \\frac{\\min\\{x_i \\mid i=1,2,\\ldots,n\\} + \\max\\{x_i \\mid i=1,2,\\ldots,n\\}}{2}$$"
      ],
      "metadata": {
        "id": "_vsGIpaoT70-"
      }
    },
    {
      "cell_type": "markdown",
      "source": [
        "En aspectos generales el rango medio no es muy representativo para describir de buena manera rasgos centrales, esto debido a que si se tienen  valores atípicos muy dispersos, esto puede llevar a una descripción de los datos medios muy alterada."
      ],
      "metadata": {
        "id": "HmqBb9oxUJLY"
      }
    },
    {
      "cell_type": "markdown",
      "source": [
        "##### **Ejemplo**"
      ],
      "metadata": {
        "id": "0jgyId1q2_rX"
      }
    },
    {
      "cell_type": "markdown",
      "source": [
        "Imagina que estás analizando la distribución de edades en un grupo de personas y deseas calcular el rango medio de las edades para tener una idea de la edad media en el grupo."
      ],
      "metadata": {
        "id": "2GW-8_Fv3ET7"
      }
    },
    {
      "cell_type": "code",
      "source": [
        "def mid_range(values : list):\n",
        "  '''\n",
        "  Función que permite calcular rango medio\n",
        "  values --> list\n",
        "  '''\n",
        "  _min = min(values)\n",
        "  _max = max(values)\n",
        "\n",
        "  return ( _min + _max )/2"
      ],
      "metadata": {
        "id": "_mgSLXji2IYQ"
      },
      "execution_count": 9,
      "outputs": []
    },
    {
      "cell_type": "code",
      "source": [
        "# Ejemplo de cálculo del rango medio en Python\n",
        "\n",
        "# Edades de las personas en el grupo\n",
        "edades = [25, 32, 18, 45, 28, 22, 38, 50]\n",
        "\n",
        "# Calcular el rango (diferencia entre la edad máxima y la edad mínima)\n",
        "rango = max(edades) - min(edades)\n",
        "\n",
        "# Calcular el rango medio dividiendo el rango entre 2 y sumándole la edad mínima\n",
        "rango_medio = (rango / 2) + min(edades)\n",
        "\n",
        "# Imprimir el resultado\n",
        "print(\"Edades de las personas:\", edades)\n",
        "print(\"El rango medio de edades es:\", rango_medio)\n",
        "print(\"El rango medio de edades con la función 'mid_range':\", mid_range(edades))"
      ],
      "metadata": {
        "colab": {
          "base_uri": "https://localhost:8080/"
        },
        "id": "counQqDN3ODP",
        "outputId": "54da750d-cc4b-4776-c7b0-33d814440cb3"
      },
      "execution_count": 10,
      "outputs": [
        {
          "output_type": "stream",
          "name": "stdout",
          "text": [
            "Edades de las personas: [25, 32, 18, 45, 28, 22, 38, 50]\n",
            "El rango medio de edades es: 34.0\n",
            "El rango medio de edades con la función 'mid_range': 34.0\n"
          ]
        }
      ]
    },
    {
      "cell_type": "markdown",
      "source": [
        "### *Ejemplo que relaciona cada una de las anteriores medidas centrales, mostrando su efectividad al agregar valores atípicos.*"
      ],
      "metadata": {
        "id": "iwtIiqAofwt-"
      }
    },
    {
      "cell_type": "markdown",
      "source": [
        "Al realizar el monitoreo de la calidad de agua en una fuente, la variable de turbidez presenta los siguientes resultados:\n",
        "\n",
        "3, 5, 4, 4, 5, 6, 10, 8, 9, 3, (UNT)\n",
        "\n",
        "iremos agregando los siguientes datos, uno por uno para calcular cada una de las medidas de tendencia central:\n",
        "14 , 150 , 360 (UNT).\n",
        "\n",
        "**La turbidez** es una medida del grado en el cual el agua pierde su transparencia debido a la presencia de partículas en suspensión. Cuantos más sólidos en suspensión haya en el agua, más sucia parecerá ésta y más alta será la turbidez. La turbidez es considerada una buena medida de la calidad del agua.\n",
        "La medida que se utilizará para medir la turbidez es **UNT (en inglés NTU)** cuya abreviación es \"Unidad Nefelométrica de Turbidez\"(en inglés \"Nephelometric Turbidity Unit\"), que se mide la turbidez de un fluido o la presencia de partículas en suspensión en el agua, cuantos más sólidos en suspensión haya en el agua, más sucia parecerá esta y más alta será la turbidez.\n",
        "\n",
        "La relación entre NTU y sólidos en suspensión es la siguiente, 1 mg/l (ppm) equivale a 3 NTU, por ejemplo, SS de 200 mg/l (ppm) son 600 NTU.\n",
        "**Nota:** Según la Organización Mundial de la Salud, la turbidez del agua para consumo humano no debe superar en ningún caso las 5 UNT."
      ],
      "metadata": {
        "id": "MzKFxjukgBQI"
      }
    },
    {
      "cell_type": "code",
      "source": [
        "def calculo_med_tend_central(values : list, comentario : str):\n",
        "  '''\n",
        "  Función que cálcula:\n",
        "  Media Aritmética\n",
        "  Media Geométrica\n",
        "  Media Armónica\n",
        "  Media Cuadrática\n",
        "  Rango Medio\n",
        "  '''\n",
        "  _dict = dict()\n",
        "  ari_mean = arithmetic_mean(values)\n",
        "  geo_mean = geometric_mean(values)\n",
        "  har_mean = harmonic_mean(values)\n",
        "  qua_mean = quadratic_mean(values)\n",
        "  mid_range1 = mid_range(values)\n",
        "  dict_measures = {\"arithmetic_mean\" :ari_mean , \"geometric_mean\" : geo_mean, \"harmonic_mean\" : har_mean, \"quadratic_mean\" : qua_mean, \"mid_range\" : mid_range1, \"comentario\" : comentario}\n",
        "  for i in dict_measures:\n",
        "    _dict[i] = dict_measures[i]\n",
        "\n",
        "  return _dict"
      ],
      "metadata": {
        "id": "nElAcoklf90U"
      },
      "execution_count": 11,
      "outputs": []
    },
    {
      "cell_type": "markdown",
      "source": [
        "Organizando la información en un dataframe utilizando pandas:"
      ],
      "metadata": {
        "id": "3kRyy0o4HBBx"
      }
    },
    {
      "cell_type": "code",
      "source": [
        "import pandas as pd\n",
        "# Lista de diccionarios con las mismas llaves\n",
        "list_of_dictionaries = []\n",
        "\n",
        "\n",
        "# Considerando la lista de medidas de turbidez\n",
        "lista_turbidez = [3, 5, 4, 4, 5, 6, 10, 8, 9, 3]\n",
        "comment0 = \"Lista inicial\"\n",
        "data = calculo_med_tend_central(lista_turbidez , comment0)\n",
        "comment0 = \"Lista inicial\"\n",
        "list_of_dictionaries.append(data)\n",
        "\n",
        "# Agregando a los datos 14 UNT\n",
        "lista_turbidez.append(14)\n",
        "# Haciendo el calculo sobre la nueva población\n",
        "comment1 = \"Agregando 14 UNT\"\n",
        "data = calculo_med_tend_central(lista_turbidez, comment1)\n",
        "list_of_dictionaries.append(data)\n",
        "\n",
        "# Agregando a los datos 150 UNT\n",
        "lista_turbidez.append(150)\n",
        "# Haciendo el calculo sobre la nueva población\n",
        "comment2 = \"Agregando 150 UNT\"\n",
        "data = calculo_med_tend_central(lista_turbidez, comment2)\n",
        "list_of_dictionaries.append(data)\n",
        "\n",
        "# Agregando a los datos 360 UNT\n",
        "lista_turbidez.append(360)\n",
        "# Haciendo el calculo sobre la nueva población\n",
        "comment3 = \"Agregando 360 UNT\"\n",
        "data = calculo_med_tend_central(lista_turbidez, comment3)\n",
        "list_of_dictionaries.append(data)\n",
        "\n",
        "# Merge the dictionaries and create a DataFrame\n",
        "merged_data = {}\n",
        "for key in list_of_dictionaries[0].keys():\n",
        "    merged_data[key] = [d[key] for d in list_of_dictionaries]\n",
        "\n",
        "df = pd.DataFrame(merged_data)\n",
        "\n",
        "# Display the DataFrame\n",
        "df"
      ],
      "metadata": {
        "colab": {
          "base_uri": "https://localhost:8080/",
          "height": 175
        },
        "id": "fd8HYC-KHFup",
        "outputId": "e26744f8-5b09-4bcd-b1fb-8a0848c50efe"
      },
      "execution_count": 12,
      "outputs": [
        {
          "output_type": "execute_result",
          "data": {
            "text/plain": [
              "   arithmetic_mean  geometric_mean  harmonic_mean  quadratic_mean  mid_range  \\\n",
              "0         5.700000        5.238158       4.832215        6.172520        6.5   \n",
              "1         6.454545        5.727858       5.138091        7.242551        8.5   \n",
              "2        18.416667        7.519122       5.587790       43.852974       76.5   \n",
              "3        44.692308       10.125310       6.045619      108.371512      181.5   \n",
              "\n",
              "          comentario  \n",
              "0      Lista inicial  \n",
              "1   Agregando 14 UNT  \n",
              "2  Agregando 150 UNT  \n",
              "3  Agregando 360 UNT  "
            ],
            "text/html": [
              "\n",
              "  <div id=\"df-8bd051fc-fdc3-4a65-8873-aac3277ea051\" class=\"colab-df-container\">\n",
              "    <div>\n",
              "<style scoped>\n",
              "    .dataframe tbody tr th:only-of-type {\n",
              "        vertical-align: middle;\n",
              "    }\n",
              "\n",
              "    .dataframe tbody tr th {\n",
              "        vertical-align: top;\n",
              "    }\n",
              "\n",
              "    .dataframe thead th {\n",
              "        text-align: right;\n",
              "    }\n",
              "</style>\n",
              "<table border=\"1\" class=\"dataframe\">\n",
              "  <thead>\n",
              "    <tr style=\"text-align: right;\">\n",
              "      <th></th>\n",
              "      <th>arithmetic_mean</th>\n",
              "      <th>geometric_mean</th>\n",
              "      <th>harmonic_mean</th>\n",
              "      <th>quadratic_mean</th>\n",
              "      <th>mid_range</th>\n",
              "      <th>comentario</th>\n",
              "    </tr>\n",
              "  </thead>\n",
              "  <tbody>\n",
              "    <tr>\n",
              "      <th>0</th>\n",
              "      <td>5.700000</td>\n",
              "      <td>5.238158</td>\n",
              "      <td>4.832215</td>\n",
              "      <td>6.172520</td>\n",
              "      <td>6.5</td>\n",
              "      <td>Lista inicial</td>\n",
              "    </tr>\n",
              "    <tr>\n",
              "      <th>1</th>\n",
              "      <td>6.454545</td>\n",
              "      <td>5.727858</td>\n",
              "      <td>5.138091</td>\n",
              "      <td>7.242551</td>\n",
              "      <td>8.5</td>\n",
              "      <td>Agregando 14 UNT</td>\n",
              "    </tr>\n",
              "    <tr>\n",
              "      <th>2</th>\n",
              "      <td>18.416667</td>\n",
              "      <td>7.519122</td>\n",
              "      <td>5.587790</td>\n",
              "      <td>43.852974</td>\n",
              "      <td>76.5</td>\n",
              "      <td>Agregando 150 UNT</td>\n",
              "    </tr>\n",
              "    <tr>\n",
              "      <th>3</th>\n",
              "      <td>44.692308</td>\n",
              "      <td>10.125310</td>\n",
              "      <td>6.045619</td>\n",
              "      <td>108.371512</td>\n",
              "      <td>181.5</td>\n",
              "      <td>Agregando 360 UNT</td>\n",
              "    </tr>\n",
              "  </tbody>\n",
              "</table>\n",
              "</div>\n",
              "    <div class=\"colab-df-buttons\">\n",
              "\n",
              "  <div class=\"colab-df-container\">\n",
              "    <button class=\"colab-df-convert\" onclick=\"convertToInteractive('df-8bd051fc-fdc3-4a65-8873-aac3277ea051')\"\n",
              "            title=\"Convert this dataframe to an interactive table.\"\n",
              "            style=\"display:none;\">\n",
              "\n",
              "  <svg xmlns=\"http://www.w3.org/2000/svg\" height=\"24px\" viewBox=\"0 -960 960 960\">\n",
              "    <path d=\"M120-120v-720h720v720H120Zm60-500h600v-160H180v160Zm220 220h160v-160H400v160Zm0 220h160v-160H400v160ZM180-400h160v-160H180v160Zm440 0h160v-160H620v160ZM180-180h160v-160H180v160Zm440 0h160v-160H620v160Z\"/>\n",
              "  </svg>\n",
              "    </button>\n",
              "\n",
              "  <style>\n",
              "    .colab-df-container {\n",
              "      display:flex;\n",
              "      gap: 12px;\n",
              "    }\n",
              "\n",
              "    .colab-df-convert {\n",
              "      background-color: #E8F0FE;\n",
              "      border: none;\n",
              "      border-radius: 50%;\n",
              "      cursor: pointer;\n",
              "      display: none;\n",
              "      fill: #1967D2;\n",
              "      height: 32px;\n",
              "      padding: 0 0 0 0;\n",
              "      width: 32px;\n",
              "    }\n",
              "\n",
              "    .colab-df-convert:hover {\n",
              "      background-color: #E2EBFA;\n",
              "      box-shadow: 0px 1px 2px rgba(60, 64, 67, 0.3), 0px 1px 3px 1px rgba(60, 64, 67, 0.15);\n",
              "      fill: #174EA6;\n",
              "    }\n",
              "\n",
              "    .colab-df-buttons div {\n",
              "      margin-bottom: 4px;\n",
              "    }\n",
              "\n",
              "    [theme=dark] .colab-df-convert {\n",
              "      background-color: #3B4455;\n",
              "      fill: #D2E3FC;\n",
              "    }\n",
              "\n",
              "    [theme=dark] .colab-df-convert:hover {\n",
              "      background-color: #434B5C;\n",
              "      box-shadow: 0px 1px 3px 1px rgba(0, 0, 0, 0.15);\n",
              "      filter: drop-shadow(0px 1px 2px rgba(0, 0, 0, 0.3));\n",
              "      fill: #FFFFFF;\n",
              "    }\n",
              "  </style>\n",
              "\n",
              "    <script>\n",
              "      const buttonEl =\n",
              "        document.querySelector('#df-8bd051fc-fdc3-4a65-8873-aac3277ea051 button.colab-df-convert');\n",
              "      buttonEl.style.display =\n",
              "        google.colab.kernel.accessAllowed ? 'block' : 'none';\n",
              "\n",
              "      async function convertToInteractive(key) {\n",
              "        const element = document.querySelector('#df-8bd051fc-fdc3-4a65-8873-aac3277ea051');\n",
              "        const dataTable =\n",
              "          await google.colab.kernel.invokeFunction('convertToInteractive',\n",
              "                                                    [key], {});\n",
              "        if (!dataTable) return;\n",
              "\n",
              "        const docLinkHtml = 'Like what you see? Visit the ' +\n",
              "          '<a target=\"_blank\" href=https://colab.research.google.com/notebooks/data_table.ipynb>data table notebook</a>'\n",
              "          + ' to learn more about interactive tables.';\n",
              "        element.innerHTML = '';\n",
              "        dataTable['output_type'] = 'display_data';\n",
              "        await google.colab.output.renderOutput(dataTable, element);\n",
              "        const docLink = document.createElement('div');\n",
              "        docLink.innerHTML = docLinkHtml;\n",
              "        element.appendChild(docLink);\n",
              "      }\n",
              "    </script>\n",
              "  </div>\n",
              "\n",
              "\n",
              "<div id=\"df-8f534f9b-09b7-406a-aca1-5b5e3d738d67\">\n",
              "  <button class=\"colab-df-quickchart\" onclick=\"quickchart('df-8f534f9b-09b7-406a-aca1-5b5e3d738d67')\"\n",
              "            title=\"Suggest charts.\"\n",
              "            style=\"display:none;\">\n",
              "\n",
              "<svg xmlns=\"http://www.w3.org/2000/svg\" height=\"24px\"viewBox=\"0 0 24 24\"\n",
              "     width=\"24px\">\n",
              "    <g>\n",
              "        <path d=\"M19 3H5c-1.1 0-2 .9-2 2v14c0 1.1.9 2 2 2h14c1.1 0 2-.9 2-2V5c0-1.1-.9-2-2-2zM9 17H7v-7h2v7zm4 0h-2V7h2v10zm4 0h-2v-4h2v4z\"/>\n",
              "    </g>\n",
              "</svg>\n",
              "  </button>\n",
              "\n",
              "<style>\n",
              "  .colab-df-quickchart {\n",
              "    background-color: #E8F0FE;\n",
              "    border: none;\n",
              "    border-radius: 50%;\n",
              "    cursor: pointer;\n",
              "    display: none;\n",
              "    fill: #1967D2;\n",
              "    height: 32px;\n",
              "    padding: 0 0 0 0;\n",
              "    width: 32px;\n",
              "  }\n",
              "\n",
              "  .colab-df-quickchart:hover {\n",
              "    background-color: #E2EBFA;\n",
              "    box-shadow: 0px 1px 2px rgba(60, 64, 67, 0.3), 0px 1px 3px 1px rgba(60, 64, 67, 0.15);\n",
              "    fill: #174EA6;\n",
              "  }\n",
              "\n",
              "  [theme=dark] .colab-df-quickchart {\n",
              "    background-color: #3B4455;\n",
              "    fill: #D2E3FC;\n",
              "  }\n",
              "\n",
              "  [theme=dark] .colab-df-quickchart:hover {\n",
              "    background-color: #434B5C;\n",
              "    box-shadow: 0px 1px 3px 1px rgba(0, 0, 0, 0.15);\n",
              "    filter: drop-shadow(0px 1px 2px rgba(0, 0, 0, 0.3));\n",
              "    fill: #FFFFFF;\n",
              "  }\n",
              "</style>\n",
              "\n",
              "  <script>\n",
              "    async function quickchart(key) {\n",
              "      const charts = await google.colab.kernel.invokeFunction(\n",
              "          'suggestCharts', [key], {});\n",
              "    }\n",
              "    (() => {\n",
              "      let quickchartButtonEl =\n",
              "        document.querySelector('#df-8f534f9b-09b7-406a-aca1-5b5e3d738d67 button');\n",
              "      quickchartButtonEl.style.display =\n",
              "        google.colab.kernel.accessAllowed ? 'block' : 'none';\n",
              "    })();\n",
              "  </script>\n",
              "</div>\n",
              "    </div>\n",
              "  </div>\n"
            ]
          },
          "metadata": {},
          "execution_count": 12
        }
      ]
    },
    {
      "cell_type": "markdown",
      "source": [
        "De acuerdo a la información planteada, a medida que se van agregando información, los valores de medidas de tendencia central van cambiando, unos de manera más significativa que otros. De este modo podemos observar que:\n",
        "* La media armónica siempre arrojada valores más pequeños que la media geométrica y esta a su vez es más pequeña que la media aritmética.\n",
        "* Ante valores atípicos grandes la media armónica se comporta de manera más estable que la media geométrica, de igual modo la media geométrica tiene un comportamiento más estable que la media aritmética.\n",
        "* La media cuadrática y el rango medio no presente alguna relación de comparación con las demás medias.\n",
        "* Ante valores atípicos grandes tanto la media aritmética, la media cuadrática y el rango medio presentan mayores alteraciones en los valores.\n",
        "* Tanto la media geométrica y la media armónica ante valores extremos muy grandes se ve menos afectada, generando así una medida más cercana a la centralidad del conjunto de los datos ante un conjunto de datos que es más heterogeneo. Por otro lado, las media aritmética generará datos más cercanos a la centralidad ante un conjunto de datos más homégeneo.\n",
        "\n",
        "**Nota:** Un conjunto de datos puede ser clasificado como homogéneo o heterogéneo según la uniformidad o diversidad de los elementos que lo componen:\n",
        "\n",
        "1. Conjunto de Datos Homogéneo:\n",
        "Un conjunto de datos se considera homogéneo cuando todos los elementos comparten características similares y pertenecen a la misma categoría o clase.\n",
        "\n",
        "2. Conjunto de Datos Heterogéneo:\n",
        "Un conjunto de datos se clasifica como heterogéneo cuando contiene elementos que son diversos en términos de tipo, naturaleza o categoría."
      ],
      "metadata": {
        "id": "ayxb5ctIKsPF"
      }
    },
    {
      "cell_type": "markdown",
      "source": [
        "#### **Media ponderada**"
      ],
      "metadata": {
        "id": "JqpAmeFkAJva"
      }
    },
    {
      "cell_type": "markdown",
      "source": [
        "La media ponderada es una medida estadística que se calcula asignando pesos diferentes a cada valor en un conjunto de datos antes de calcular la media. Los pesos reflejan la importancia relativa de cada valor en la media resultante. En otras palabras, algunos valores tienen más influencia en la media que otros según sus pesos asignados.\n",
        "\n",
        "En términos matemáticos, si tienes un conjunto de datos con $n$ valores $x_1 , x_2 , x_3 , \\ldots , x_n,$ con pesos $w_1 , w_2 , w_3 , \\ldots , w_n,$ la fórmula para calcular es: $$\\bar{x}_{p} = \\frac{w_1\\cdot x_1+w_2\\cdot x_2+\\cdots+w_n\\cdot x_n}{w_1+w_2+\\cdots+w_n} = \\frac{\\sum\\limits_{i=1}^{n}w_i\\cdot x_i}{\\sum\\limits_{i=1}^{n}w_i} = \\frac{\\sum w_i\\cdot x_i}{\\sum w_i}.$$"
      ],
      "metadata": {
        "id": "zTigun0Ud5v-"
      }
    },
    {
      "cell_type": "markdown",
      "source": [
        "#### **Utilidad**"
      ],
      "metadata": {
        "id": "B9sQNoh1fD6I"
      }
    },
    {
      "cell_type": "markdown",
      "source": [
        "La media ponderada se utiliza en una variedad de contextos donde algunos valores tienen más importancia o relevancia que otros en el cálculo de una medida de tendencia central. Algunos de los aspectos en los que se utiliza la media ponderada incluyen:\n",
        "\n",
        "1. Educación y Calificaciones: En sistemas de calificación, se puede asignar un peso a cada curso según su dificultad o créditos, y luego calcular el promedio ponderado de las calificaciones para reflejar con mayor precisión el rendimiento académico.\n",
        "\n",
        "2. Finanzas: En análisis financiero, se pueden asignar pesos a diferentes activos según su contribución al rendimiento total de una cartera de inversión. Esto permite calcular rendimientos ponderados y evaluar la influencia de cada activo en la cartera.\n",
        "\n",
        "3. Encuestas y Opiniones: En encuestas o estudios de opinión, se pueden asignar pesos a diferentes segmentos de la población para tener en cuenta la representatividad de cada grupo al calcular promedios ponderados de respuestas.\n",
        "\n",
        "4. Análisis de Datos: En análisis de datos, la media ponderada se usa para calcular medidas como índices compuestos, promedios de costos ponderados y otros indicadores que deben reflejar la importancia relativa de diferentes componentes.\n",
        "\n",
        "5. Gestión de Proyectos: En la gestión de proyectos, se pueden asignar pesos a diferentes tareas o actividades según su complejidad o impacto en el proyecto. Luego, se puede calcular el tiempo promedio ponderado para estimar la duración total del proyecto.\n",
        "\n",
        "6. Evaluación de Desempeño: En entornos empresariales, se pueden utilizar pesos para evaluar el desempeño de los empleados en diferentes áreas y calcular un promedio ponderado que refleje su contribución relativa.\n",
        "\n",
        "7. Ingeniería: En ingeniería, la media ponderada se aplica en el cálculo de propiedades físicas o químicas, como densidades y conductividades térmicas, donde diferentes materiales tienen diferentes contribuciones a la propiedad total.\n",
        "\n",
        "8. Medicina y Salud: En medicina, se pueden asignar pesos a diferentes factores de riesgo o resultados en estudios epidemiológicos para calcular un promedio ponderado que tenga en cuenta la importancia relativa de cada factor.\n",
        "\n",
        "En general, la media ponderada es útil siempre que haya una necesidad de reflejar de manera precisa la importancia relativa de diferentes valores en el cálculo de una medida de tendencia central."
      ],
      "metadata": {
        "id": "YeW09ynefHBJ"
      }
    },
    {
      "cell_type": "markdown",
      "source": [
        "#### **Ejemplo:**"
      ],
      "metadata": {
        "id": "7bz29PMEfbCe"
      }
    },
    {
      "cell_type": "markdown",
      "source": [
        "Imagina que eres un estudiante universitario y has tomado tres cursos con diferentes créditos y calificaciones. Quieres calcular tu promedio ponderado de calificaciones para tener una idea más precisa de tu rendimiento académico, considerando la carga crediticia de cada curso."
      ],
      "metadata": {
        "id": "MaBcc15KfcmY"
      }
    },
    {
      "cell_type": "code",
      "source": [
        "# Ejemplo de cálculo de la media ponderada en Python\n",
        "\n",
        "# Calificaciones de los cursos\n",
        "calificaciones = [85, 92, 78, 99, 65]\n",
        "\n",
        "# Créditos de los cursos respectivamente\n",
        "creditos = [3, 4, 2, 4, 4]\n",
        "\n",
        "# Calcular el producto de cada calificación por sus créditos correspondientes\n",
        "productos = [cal * cred for cal, cred in zip(calificaciones, creditos)]\n",
        "\n",
        "# Calcular la suma de los productos y la suma total de los créditos\n",
        "suma_productos = sum(productos)\n",
        "suma_creditos = sum(creditos)\n",
        "\n",
        "# Calcular la media ponderada dividiendo la suma de los productos entre la suma de los créditos\n",
        "media_ponderada = suma_productos / suma_creditos\n",
        "\n",
        "# Imprimir el resultado\n",
        "print(\"Calificaciones de los cursos:\", calificaciones)\n",
        "print(\"Créditos de los cursos:\", creditos)\n",
        "print(\"El promedio ponderado de calificaciones es:\", media_ponderada)\n"
      ],
      "metadata": {
        "colab": {
          "base_uri": "https://localhost:8080/"
        },
        "id": "21w1m_Qmfjyc",
        "outputId": "f5c20d92-533f-45a3-b337-f379e02d7a3f"
      },
      "execution_count": 13,
      "outputs": [
        {
          "output_type": "stream",
          "name": "stdout",
          "text": [
            "Calificaciones de los cursos: [85, 92, 78, 99, 65]\n",
            "Créditos de los cursos: [3, 4, 2, 4, 4]\n",
            "El promedio ponderado de calificaciones es: 84.41176470588235\n"
          ]
        }
      ]
    },
    {
      "cell_type": "markdown",
      "source": [
        "### **Mediana**"
      ],
      "metadata": {
        "id": "0vTcdkfFjL_1"
      }
    },
    {
      "cell_type": "markdown",
      "source": [
        "La mediana es una medida estadística de tendencia central que divide un conjunto de datos en dos partes iguales: la mitad de los valores están por encima de la mediana y la otra mitad está por debajo de ella. En otras palabras, es el valor que ocupa la posición central en un conjunto de datos ordenados de manera ascendente o descendente. Observe que este valor es muy diferente al rango medio.\n",
        "\n",
        "La mediana es especialmente útil en casos donde los datos están sesgados o tienen valores atípicos, ya que no se ve afectada por valores extremadamente grandes o pequeños. Es una medida robusta que proporciona una indicador de la \"tendencia central\" de los datos sin verse influida por valores atípicos (cosa que no ocurre de igual manera con la media aritmética)."
      ],
      "metadata": {
        "id": "gRfDepnGjTIR"
      }
    },
    {
      "cell_type": "markdown",
      "source": [
        "**¿Cómo calcular la mediana?**\n",
        "\n",
        "Para calcular la mediana en un conjunto de datos:\n",
        "\n",
        "1. Si el conjunto de datos tiene un número impar de valores, la mediana es simplemente el valor que ocupa la posición central después de ordenar los datos.\n",
        "\n",
        "2. Si el conjunto de datos tiene un número par de valores, la mediana se calcula promediando los dos valores centrales después de ordenar los datos."
      ],
      "metadata": {
        "id": "J9Jn6puUPnfe"
      }
    },
    {
      "cell_type": "markdown",
      "source": [
        "#### **Ejemplo**"
      ],
      "metadata": {
        "id": "kgYM9VrxQEj8"
      }
    },
    {
      "cell_type": "markdown",
      "source": [
        "Imagina que estás analizando las alturas de un grupo de personas y quieres calcular la mediana de las alturas para obtener una medida de tendencia central que no se vea afectada por valores atípicos."
      ],
      "metadata": {
        "id": "DTEw_jv1QG-H"
      }
    },
    {
      "cell_type": "code",
      "source": [
        "# Ejemplo de cálculo de la mediana en Python\n",
        "\n",
        "# Alturas de las personas en centímetros\n",
        "alturas = [165, 172, 158, 178, 180, 160, 150, 175, 185, 160, 170]\n",
        "\n",
        "# Ordenar las alturas de manera ascendente\n",
        "alturas.sort()\n",
        "\n",
        "# Funcion para calcular la mediana\n",
        "def median(values : list):\n",
        "  n = len(values)\n",
        "  if n % 2 == 1:\n",
        "      mediana = values[n // 2]\n",
        "  else:\n",
        "      mediana = (values[(n - 1) // 2] + values[n // 2]) / 2\n",
        "  return mediana\n",
        "# Calcular la mediana\n",
        "mediana = median(alturas)\n",
        "\n",
        "# Imprimir el resultado\n",
        "print(\"Alturas de las personas:\", alturas)\n",
        "print(\"Alturas de las personas organizadas:\", sorted(alturas))\n",
        "print(\"La mediana de las alturas es:\", mediana)\n"
      ],
      "metadata": {
        "colab": {
          "base_uri": "https://localhost:8080/"
        },
        "id": "LnSVuJnsQMKB",
        "outputId": "0636d023-362d-4b9c-8417-0b1232d65f2b"
      },
      "execution_count": 17,
      "outputs": [
        {
          "output_type": "stream",
          "name": "stdout",
          "text": [
            "Alturas de las personas: [150, 158, 160, 160, 165, 170, 172, 175, 178, 180, 185]\n",
            "Alturas de las personas organizadas: [150, 158, 160, 160, 165, 170, 172, 175, 178, 180, 185]\n",
            "La mediana de las alturas es: 170\n"
          ]
        }
      ]
    },
    {
      "cell_type": "markdown",
      "source": [
        "### **Moda**"
      ],
      "metadata": {
        "id": "_phfaEoOjMQj"
      }
    },
    {
      "cell_type": "markdown",
      "source": [
        "La moda es una medida de tendencia central que representa el valor o los valores que ocurren con mayor frecuencia en un conjunto de datos. En otras palabras, la moda es el valor que aparece con la mayor frecuencia en un conjunto de observaciones. Es especialmente útil para identificar patrones o tendencias en datos discretos y categóricos.\n",
        "\n",
        "Una característica importante de la moda es que un conjunto de datos puede tener una sola moda (unimodal) si un valor se repite más veces que cualquier otro, o múltiples modas (multimodal) si varios valores comparten la misma frecuencia máxima."
      ],
      "metadata": {
        "id": "k_cVCcUTRLtX"
      }
    },
    {
      "cell_type": "markdown",
      "source": [
        "### **Ejemplo:**"
      ],
      "metadata": {
        "id": "cHCHOo93Rbv_"
      }
    },
    {
      "cell_type": "markdown",
      "source": [
        "##### **Ejemplo 1: (unimodal)**"
      ],
      "metadata": {
        "id": "s056yw0fR9Yh"
      }
    },
    {
      "cell_type": "markdown",
      "source": [
        "Supongamos que estás analizando los resultados de una votación para elegir el número favorito de un grupo de personas. Quieres calcular la moda para identificar cuál número ha sido elegido con mayor frecuencia."
      ],
      "metadata": {
        "id": "opJ0wp_LReUz"
      }
    },
    {
      "cell_type": "code",
      "source": [
        "# Ejemplo de cálculo de la moda en Python\n",
        "\n",
        "from collections import Counter\n",
        "\n",
        "# Números de votación\n",
        "votos = [5, 7, 3, 5, 2, 7, 5, 7, 1, 5, 4, 6, 7, 5, 4, 5, 7, 8]\n",
        "\n",
        "# Calcular la moda utilizando Counter de collections\n",
        "contador_votos = Counter(votos)\n",
        "moda_resultados = contador_votos.most_common(1)\n",
        "\n",
        "# Obtener el valor de la moda\n",
        "moda = moda_resultados[0][0]\n",
        "frecuencia = moda_resultados[0][1]\n",
        "\n",
        "# Imprimir el resultado\n",
        "print(\"Números de votación:\", votos)\n",
        "print(\"La moda es:\", moda)\n",
        "print(\"Frecuencia de la moda:\", frecuencia)"
      ],
      "metadata": {
        "colab": {
          "base_uri": "https://localhost:8080/"
        },
        "id": "zMt7cz_1RlJ1",
        "outputId": "caf610dc-9342-4273-b551-d89bf3969ba9"
      },
      "execution_count": 18,
      "outputs": [
        {
          "output_type": "stream",
          "name": "stdout",
          "text": [
            "Números de votación: [5, 7, 3, 5, 2, 7, 5, 7, 1, 5, 4, 6, 7, 5, 4, 5, 7, 8]\n",
            "La moda es: 5\n",
            "Frecuencia de la moda: 6\n"
          ]
        }
      ]
    },
    {
      "cell_type": "markdown",
      "source": [
        "##### **Ejemplo 2: (multimodal)**"
      ],
      "metadata": {
        "id": "6AD7VVKOR8e5"
      }
    },
    {
      "cell_type": "markdown",
      "source": [
        "Imagina que estás analizando las puntuaciones obtenidas por un grupo de estudiantes en un examen. Quieres calcular las modas para identificar si hay más de un puntaje que se repite con la misma frecuencia máxima."
      ],
      "metadata": {
        "id": "boGsmbrGSIMJ"
      }
    },
    {
      "cell_type": "code",
      "execution_count": 34,
      "metadata": {
        "id": "uHE1-ND_98v0",
        "colab": {
          "base_uri": "https://localhost:8080/"
        },
        "outputId": "1238a3dc-ed8a-4cb5-969b-2e0f66346144"
      },
      "outputs": [
        {
          "output_type": "stream",
          "name": "stdout",
          "text": [
            "Puntuaciones en el examen: [90, 85, 92, 78, 90, 85, 90, 78, 92, 78, 85, 90, 85, 78, 100, 99]\n",
            "Las modas son: [90, 85, 78]\n",
            "Frecuencia máxima: 4\n"
          ]
        }
      ],
      "source": [
        "# Ejemplo de cálculo de modas en Python\n",
        "\n",
        "from collections import Counter\n",
        "\n",
        "# Puntuaciones en el examen\n",
        "puntuaciones = [90, 85, 92, 78, 90, 85, 90, 78, 92, 78, 85, 90, 85, 78, 100, 99]\n",
        "\n",
        "# Se genera la clase counter que tiene un diccionario organizado de mayor a menor por cantidad de votos\n",
        "# {key : value}  ---> key : puntuacion ,  value: cantidad de veces repetida la puntuacion\n",
        "contador_puntuaciones = Counter(puntuaciones)\n",
        "# Generar una lista de tuplas (dato , votación de ese dato)\n",
        "modas_resultados = contador_puntuaciones.most_common()\n",
        "\n",
        "# Obtener los valores de las modas y sus frecuencias\n",
        "modas = [moda[0] for moda in modas_resultados if moda[1] == modas_resultados[0][1]]\n",
        "frecuencia_maxima = modas_resultados[0][1]\n",
        "\n",
        "# Imprimir el resultado\n",
        "print(\"Puntuaciones en el examen:\", puntuaciones)\n",
        "print(\"Las modas son:\", modas)\n",
        "print(\"Frecuencia máxima:\", frecuencia_maxima)\n"
      ]
    }
  ]
}