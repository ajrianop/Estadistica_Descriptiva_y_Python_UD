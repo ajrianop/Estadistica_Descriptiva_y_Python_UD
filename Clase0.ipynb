{
  "nbformat": 4,
  "nbformat_minor": 0,
  "metadata": {
    "colab": {
      "provenance": [],
      "authorship_tag": "ABX9TyMzR06pp4BqOfF3MOhMd3j5",
      "include_colab_link": true
    },
    "kernelspec": {
      "name": "python3",
      "display_name": "Python 3"
    },
    "language_info": {
      "name": "python"
    }
  },
  "cells": [
    {
      "cell_type": "markdown",
      "metadata": {
        "id": "view-in-github",
        "colab_type": "text"
      },
      "source": [
        "<a href=\"https://colab.research.google.com/github/ajrianop/Estadistica_Descriptiva_y_Python_UD2023-3/blob/main/Clase0.ipynb\" target=\"_parent\"><img src=\"https://colab.research.google.com/assets/colab-badge.svg\" alt=\"Open In Colab\"/></a>"
      ]
    },
    {
      "cell_type": "code",
      "execution_count": null,
      "metadata": {
        "id": "vPps6B0CD_eg"
      },
      "outputs": [],
      "source": []
    },
    {
      "cell_type": "markdown",
      "source": [
        "# **Clase 0**"
      ],
      "metadata": {
        "id": "-eCGp-EUEkDF"
      }
    },
    {
      "cell_type": "markdown",
      "source": [
        "## **Descripción**"
      ],
      "metadata": {
        "id": "yMKuE0iIE4-G"
      }
    },
    {
      "cell_type": "markdown",
      "source": [
        "En esta sección vamos a generar código facilito"
      ],
      "metadata": {
        "id": "qzw7BX0zFSKt"
      }
    },
    {
      "cell_type": "markdown",
      "source": [
        "Planteamos una variable inicial en la memoria del equipo."
      ],
      "metadata": {
        "id": "lRxqs0r8GGBo"
      }
    },
    {
      "cell_type": "code",
      "source": [
        "x = 4"
      ],
      "metadata": {
        "id": "-YAtzHU7EwSb"
      },
      "execution_count": null,
      "outputs": []
    },
    {
      "cell_type": "markdown",
      "source": [
        "Para observar que esta guardado en la variable x, se realiza un impresión del dato:"
      ],
      "metadata": {
        "id": "eYcgIBWmGKbf"
      }
    },
    {
      "cell_type": "code",
      "source": [
        "print(x)"
      ],
      "metadata": {
        "colab": {
          "base_uri": "https://localhost:8080/"
        },
        "id": "I4cAsOLOEwbj",
        "outputId": "a469a635-f018-45e6-8a69-4704ee92123d"
      },
      "execution_count": null,
      "outputs": [
        {
          "output_type": "stream",
          "name": "stdout",
          "text": [
            "4\n"
          ]
        }
      ]
    },
    {
      "cell_type": "code",
      "source": [
        "x"
      ],
      "metadata": {
        "colab": {
          "base_uri": "https://localhost:8080/"
        },
        "id": "S14ZEPpTEwj0",
        "outputId": "1ddaf228-28ae-4838-d99c-c63ab535aa64"
      },
      "execution_count": null,
      "outputs": [
        {
          "output_type": "execute_result",
          "data": {
            "text/plain": [
              "4"
            ]
          },
          "metadata": {},
          "execution_count": 11
        }
      ]
    },
    {
      "cell_type": "markdown",
      "source": [
        "Quiero genera otra variable:"
      ],
      "metadata": {
        "id": "cWlZPmUQG5LN"
      }
    },
    {
      "cell_type": "code",
      "source": [
        "pepito = 7"
      ],
      "metadata": {
        "id": "ztbJH-slG7au"
      },
      "execution_count": null,
      "outputs": []
    },
    {
      "cell_type": "code",
      "source": [
        "type(pepito)"
      ],
      "metadata": {
        "colab": {
          "base_uri": "https://localhost:8080/"
        },
        "id": "P1o_RrCbHK4q",
        "outputId": "2518a56d-e65b-47b9-9584-95b36ec34e13"
      },
      "execution_count": null,
      "outputs": [
        {
          "output_type": "execute_result",
          "data": {
            "text/plain": [
              "int"
            ]
          },
          "metadata": {},
          "execution_count": 18
        }
      ]
    },
    {
      "cell_type": "markdown",
      "source": [
        "Conclusión: las variables hasta el momento generadas son de tipo entero --> int."
      ],
      "metadata": {
        "id": "uCsxsk23ITE-"
      }
    },
    {
      "cell_type": "markdown",
      "source": [
        "Generemos otro tipo variables: --> tipo cadena (string) str"
      ],
      "metadata": {
        "id": "R0fgFByYIbz4"
      }
    },
    {
      "cell_type": "code",
      "source": [
        "y = \"Hola\""
      ],
      "metadata": {
        "id": "mYLAQFskIjcx"
      },
      "execution_count": null,
      "outputs": []
    },
    {
      "cell_type": "code",
      "source": [
        "y"
      ],
      "metadata": {
        "colab": {
          "base_uri": "https://localhost:8080/",
          "height": 36
        },
        "id": "jmUvWFH9I0nF",
        "outputId": "0ab6597b-9314-4bb4-c2a0-abaee7dde4a3"
      },
      "execution_count": null,
      "outputs": [
        {
          "output_type": "execute_result",
          "data": {
            "text/plain": [
              "'Hola'"
            ],
            "application/vnd.google.colaboratory.intrinsic+json": {
              "type": "string"
            }
          },
          "metadata": {},
          "execution_count": 20
        }
      ]
    },
    {
      "cell_type": "markdown",
      "source": [
        "La siguiente línea, mostrara el tipo de variable que tenemos"
      ],
      "metadata": {
        "id": "4wgYM_UQJXWV"
      }
    },
    {
      "cell_type": "code",
      "source": [
        "type(y)"
      ],
      "metadata": {
        "colab": {
          "base_uri": "https://localhost:8080/"
        },
        "id": "rry_NlmuJV52",
        "outputId": "dbf74bd8-c08c-4aa0-98a7-d7e9b626b48b"
      },
      "execution_count": null,
      "outputs": [
        {
          "output_type": "execute_result",
          "data": {
            "text/plain": [
              "str"
            ]
          },
          "metadata": {},
          "execution_count": 23
        }
      ]
    },
    {
      "cell_type": "code",
      "source": [
        "z = 'mundo'"
      ],
      "metadata": {
        "id": "f4ULcdKrI_s-"
      },
      "execution_count": null,
      "outputs": []
    },
    {
      "cell_type": "code",
      "source": [
        "z"
      ],
      "metadata": {
        "colab": {
          "base_uri": "https://localhost:8080/",
          "height": 36
        },
        "id": "vFC7cdr8JC4C",
        "outputId": "58cf7a67-8dac-48d1-f941-995f4710cf7c"
      },
      "execution_count": null,
      "outputs": [
        {
          "output_type": "execute_result",
          "data": {
            "text/plain": [
              "'Hola'"
            ],
            "application/vnd.google.colaboratory.intrinsic+json": {
              "type": "string"
            }
          },
          "metadata": {},
          "execution_count": 22
        }
      ]
    },
    {
      "cell_type": "code",
      "source": [
        "type(z)"
      ],
      "metadata": {
        "colab": {
          "base_uri": "https://localhost:8080/"
        },
        "id": "thmlEqCqJj09",
        "outputId": "200b3100-54de-4317-c573-8a7dfaa254ba"
      },
      "execution_count": null,
      "outputs": [
        {
          "output_type": "execute_result",
          "data": {
            "text/plain": [
              "str"
            ]
          },
          "metadata": {},
          "execution_count": 26
        }
      ]
    },
    {
      "cell_type": "markdown",
      "source": [
        "Vamos a imprimir \"suma\" --> Concatenación de elemento de tipo cadena (string)."
      ],
      "metadata": {
        "id": "pKDgcPOvJpWG"
      }
    },
    {
      "cell_type": "code",
      "source": [
        "print(y + z)"
      ],
      "metadata": {
        "colab": {
          "base_uri": "https://localhost:8080/"
        },
        "id": "THShHarVJoZ4",
        "outputId": "e798c260-58e6-423e-89f8-be90f584e2c6"
      },
      "execution_count": null,
      "outputs": [
        {
          "output_type": "stream",
          "name": "stdout",
          "text": [
            "Holamundo\n"
          ]
        }
      ]
    },
    {
      "cell_type": "code",
      "source": [
        "print(y + \" \" + z)"
      ],
      "metadata": {
        "colab": {
          "base_uri": "https://localhost:8080/"
        },
        "id": "N9dj6UwhKIFB",
        "outputId": "fb7c8225-6136-471e-fb4c-24fd579059e6"
      },
      "execution_count": null,
      "outputs": [
        {
          "output_type": "stream",
          "name": "stdout",
          "text": [
            "Hola mundo\n"
          ]
        }
      ]
    },
    {
      "cell_type": "code",
      "source": [
        "print(\"Hola estudiantes\")"
      ],
      "metadata": {
        "colab": {
          "base_uri": "https://localhost:8080/"
        },
        "id": "8IKy2QFsJ_W6",
        "outputId": "8dffddce-b683-487e-c83a-ed0d33913f21"
      },
      "execution_count": null,
      "outputs": [
        {
          "output_type": "stream",
          "name": "stdout",
          "text": [
            "Hola estudiantes\n"
          ]
        }
      ]
    },
    {
      "cell_type": "markdown",
      "source": [
        "Observemos algunos errores con la operacion \"suma\", y además vamos **comentar** el código con error"
      ],
      "metadata": {
        "id": "guLPmoaNK5gG"
      }
    },
    {
      "cell_type": "code",
      "source": [
        "# La siguiente línea contiene un error si se descomenta\n",
        "# print(x + y)"
      ],
      "metadata": {
        "id": "PH6NQSbKK4yv"
      },
      "execution_count": null,
      "outputs": []
    },
    {
      "cell_type": "markdown",
      "source": [
        "Vamos a arreglar el error.\n",
        "Como `x` es del tipo int y `y` es del tipo str, y no toda variable de tipo string la puedo convertir en valor número, podemos operar, cambiando la variable de tipo int a str."
      ],
      "metadata": {
        "id": "70MReX0ALzfH"
      }
    },
    {
      "cell_type": "code",
      "source": [
        "print(str(x) + y)"
      ],
      "metadata": {
        "colab": {
          "base_uri": "https://localhost:8080/"
        },
        "id": "Ao2TphMJLyex",
        "outputId": "2dea8e86-0216-4cf9-9434-69c1c48d4a3f"
      },
      "execution_count": null,
      "outputs": [
        {
          "output_type": "stream",
          "name": "stdout",
          "text": [
            "4Hola\n"
          ]
        }
      ]
    },
    {
      "cell_type": "markdown",
      "source": [
        "**Tarea:**\n",
        "1. Describir que tipos de datos se tienen en python en colab.\n",
        "2. Jugar con los tipos de variables, utilice la operación suma y observe si no se genera error.\n",
        "3. Buscar las operaciones numericas que se pueden utilizar en Python."
      ],
      "metadata": {
        "id": "P_7CpLZpMjf6"
      }
    },
    {
      "cell_type": "code",
      "source": [
        "# Este elemento es de tipo str\n",
        "\"hola\""
      ],
      "metadata": {
        "id": "4hptioXGNCKk"
      },
      "execution_count": null,
      "outputs": []
    },
    {
      "cell_type": "code",
      "source": [
        "type(\"hola\")"
      ],
      "metadata": {
        "colab": {
          "base_uri": "https://localhost:8080/"
        },
        "id": "k8Kfu18qNCTx",
        "outputId": "e0f91ab4-142c-4d17-d7fc-617597237ca4"
      },
      "execution_count": null,
      "outputs": [
        {
          "output_type": "execute_result",
          "data": {
            "text/plain": [
              "str"
            ]
          },
          "metadata": {},
          "execution_count": 42
        }
      ]
    },
    {
      "cell_type": "code",
      "source": [
        "x + y"
      ],
      "metadata": {
        "colab": {
          "base_uri": "https://localhost:8080/",
          "height": 175
        },
        "id": "ayY1Dv8kN06b",
        "outputId": "8a1eb181-0d5a-4efe-839b-a458b30e7c5d"
      },
      "execution_count": null,
      "outputs": [
        {
          "output_type": "error",
          "ename": "TypeError",
          "evalue": "unsupported operand type(s) for +: 'int' and 'str'",
          "traceback": [
            "\u001b[0;31m---------------------------------------------------------------------------\u001b[0m",
            "\u001b[0;31mTypeError\u001b[0m                                 Traceback (most recent call last)",
            "\u001b[0;32m<ipython-input-43-7a5faf28ff71>\u001b[0m in \u001b[0;36m<cell line: 1>\u001b[0;34m()\u001b[0m\n\u001b[0;32m----> 1\u001b[0;31m \u001b[0mx\u001b[0m \u001b[0;34m+\u001b[0m \u001b[0my\u001b[0m\u001b[0;34m\u001b[0m\u001b[0;34m\u001b[0m\u001b[0m\n\u001b[0m",
            "\u001b[0;31mTypeError\u001b[0m: unsupported operand type(s) for +: 'int' and 'str'"
          ]
        }
      ]
    }
  ]
}