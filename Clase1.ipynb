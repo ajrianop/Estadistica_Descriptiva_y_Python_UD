{
  "nbformat": 4,
  "nbformat_minor": 0,
  "metadata": {
    "colab": {
      "provenance": [],
      "authorship_tag": "ABX9TyMjKqoJs+lkhi/kE00exCH+",
      "include_colab_link": true
    },
    "kernelspec": {
      "name": "python3",
      "display_name": "Python 3"
    },
    "language_info": {
      "name": "python"
    }
  },
  "cells": [
    {
      "cell_type": "markdown",
      "metadata": {
        "id": "view-in-github",
        "colab_type": "text"
      },
      "source": [
        "<a href=\"https://colab.research.google.com/github/ajrianop/Estadistica_Descriptiva_y_Python_UD2023-3/blob/main/Clase1.ipynb\" target=\"_parent\"><img src=\"https://colab.research.google.com/assets/colab-badge.svg\" alt=\"Open In Colab\"/></a>"
      ]
    },
    {
      "cell_type": "markdown",
      "source": [
        "# **Clase 1**"
      ],
      "metadata": {
        "id": "XRFqByUmgOV2"
      }
    },
    {
      "cell_type": "markdown",
      "source": [
        "Se escriben dos tipos de datos como lo son las tuplas y listas. Y se implementa el uso de loops utilizando `for` para construir una sumatoria $\\sum\\limits_{i=1}^{100}i$."
      ],
      "metadata": {
        "id": "ZTlXvedZaQEr"
      }
    },
    {
      "cell_type": "markdown",
      "source": [
        "**Sumatorias:**\n"
      ],
      "metadata": {
        "id": "74L8xQLWgf8B"
      }
    },
    {
      "cell_type": "markdown",
      "source": [
        "$∑\\limits_{i=0}^{n}a_i$"
      ],
      "metadata": {
        "id": "TQAHuS03gTQP"
      }
    },
    {
      "cell_type": "markdown",
      "source": [
        "Implementaremos lenguaje python en el código:"
      ],
      "metadata": {
        "id": "TM3uwgg0ltol"
      }
    },
    {
      "cell_type": "code",
      "source": [
        "# Variables\n",
        "# Algunos tipos de datos en Python:\n",
        "\n",
        "# tuplas\n",
        "a = (1, 2, 3, 4, 5, 6)"
      ],
      "metadata": {
        "id": "igcmWwVklv2-"
      },
      "execution_count": null,
      "outputs": []
    },
    {
      "cell_type": "code",
      "source": [
        "print(a)"
      ],
      "metadata": {
        "colab": {
          "base_uri": "https://localhost:8080/"
        },
        "id": "q-vXP-bDmRge",
        "outputId": "1589d4d9-e130-4561-bb01-56d2e981c98a"
      },
      "execution_count": null,
      "outputs": [
        {
          "output_type": "stream",
          "name": "stdout",
          "text": [
            "(1, 2, 3, 4, 5, 6)\n"
          ]
        }
      ]
    },
    {
      "cell_type": "code",
      "source": [
        "# a['posición']\n",
        "a[0]"
      ],
      "metadata": {
        "colab": {
          "base_uri": "https://localhost:8080/"
        },
        "id": "FkfeJPo0m6pQ",
        "outputId": "c38a6fcc-69f3-46ce-dc8e-a7c1b6efef46"
      },
      "execution_count": null,
      "outputs": [
        {
          "output_type": "execute_result",
          "data": {
            "text/plain": [
              "1"
            ]
          },
          "metadata": {},
          "execution_count": 4
        }
      ]
    },
    {
      "cell_type": "code",
      "source": [
        "print(a[0])\n",
        "print(a[3])"
      ],
      "metadata": {
        "colab": {
          "base_uri": "https://localhost:8080/"
        },
        "id": "aCDJmwc7nC9q",
        "outputId": "c0b2f688-9a5f-4b47-f693-398e5179a23b"
      },
      "execution_count": null,
      "outputs": [
        {
          "output_type": "stream",
          "name": "stdout",
          "text": [
            "1\n",
            "4\n"
          ]
        }
      ]
    },
    {
      "cell_type": "markdown",
      "source": [
        "Tarea: buscar funciones o métoos básica de python."
      ],
      "metadata": {
        "id": "4QjWAI1pmgp2"
      }
    },
    {
      "cell_type": "code",
      "source": [
        "range(6)"
      ],
      "metadata": {
        "colab": {
          "base_uri": "https://localhost:8080/"
        },
        "id": "byQ79Ms0mexC",
        "outputId": "710627f8-eb17-4631-a016-807ea6781225"
      },
      "execution_count": null,
      "outputs": [
        {
          "output_type": "execute_result",
          "data": {
            "text/plain": [
              "range(0, 6)"
            ]
          },
          "metadata": {},
          "execution_count": 6
        }
      ]
    },
    {
      "cell_type": "code",
      "source": [
        "for n in range(6):\n",
        "  print(n)"
      ],
      "metadata": {
        "colab": {
          "base_uri": "https://localhost:8080/"
        },
        "id": "uqIUlHHUnVUe",
        "outputId": "b6e98ddb-d971-4054-da2e-d86998c417d4"
      },
      "execution_count": null,
      "outputs": [
        {
          "output_type": "stream",
          "name": "stdout",
          "text": [
            "0\n",
            "1\n",
            "2\n",
            "3\n",
            "4\n",
            "5\n"
          ]
        }
      ]
    },
    {
      "cell_type": "code",
      "source": [
        "b = tuple()\n",
        "b"
      ],
      "metadata": {
        "colab": {
          "base_uri": "https://localhost:8080/"
        },
        "id": "7iiI-6fbn7kw",
        "outputId": "789173ac-afaf-4471-e47b-11a724ddc6f3"
      },
      "execution_count": null,
      "outputs": [
        {
          "output_type": "execute_result",
          "data": {
            "text/plain": [
              "()"
            ]
          },
          "metadata": {},
          "execution_count": 8
        }
      ]
    },
    {
      "cell_type": "code",
      "source": [
        "# Listas\n",
        "l = [1, 2, 3, 4, 5, 6]\n",
        "l"
      ],
      "metadata": {
        "colab": {
          "base_uri": "https://localhost:8080/"
        },
        "id": "uAXhnRCloRyO",
        "outputId": "a04ae779-8ec5-464b-8b8b-0121cb21229b"
      },
      "execution_count": null,
      "outputs": [
        {
          "output_type": "execute_result",
          "data": {
            "text/plain": [
              "[1, 2, 3, 4, 5, 6]"
            ]
          },
          "metadata": {},
          "execution_count": 9
        }
      ]
    },
    {
      "cell_type": "code",
      "source": [
        "m = list()\n",
        "m"
      ],
      "metadata": {
        "colab": {
          "base_uri": "https://localhost:8080/"
        },
        "id": "oIm3cC-rohse",
        "outputId": "d3eb68e7-24b5-4161-c8bc-3e7623a00980"
      },
      "execution_count": null,
      "outputs": [
        {
          "output_type": "execute_result",
          "data": {
            "text/plain": [
              "[]"
            ]
          },
          "metadata": {},
          "execution_count": 10
        }
      ]
    },
    {
      "cell_type": "code",
      "source": [
        "m"
      ],
      "metadata": {
        "colab": {
          "base_uri": "https://localhost:8080/"
        },
        "id": "tCnNP4_epMfG",
        "outputId": "141cf05b-ac8a-49b6-c64b-dfcefb98c76e"
      },
      "execution_count": null,
      "outputs": [
        {
          "output_type": "execute_result",
          "data": {
            "text/plain": [
              "[]"
            ]
          },
          "metadata": {},
          "execution_count": 11
        }
      ]
    },
    {
      "cell_type": "code",
      "source": [
        "m.append(\"Hola\")\n",
        "m"
      ],
      "metadata": {
        "colab": {
          "base_uri": "https://localhost:8080/"
        },
        "id": "tPqMrXHuoljd",
        "outputId": "b69c313b-cdfe-4183-c353-e36acf26e417"
      },
      "execution_count": null,
      "outputs": [
        {
          "output_type": "execute_result",
          "data": {
            "text/plain": [
              "['Hola']"
            ]
          },
          "metadata": {},
          "execution_count": 12
        }
      ]
    },
    {
      "cell_type": "code",
      "source": [
        "m"
      ],
      "metadata": {
        "colab": {
          "base_uri": "https://localhost:8080/"
        },
        "id": "Ky1QOjWwpU66",
        "outputId": "4bf08f92-c806-4ba1-f567-329a4abdb97f"
      },
      "execution_count": null,
      "outputs": [
        {
          "output_type": "execute_result",
          "data": {
            "text/plain": [
              "['Hola']"
            ]
          },
          "metadata": {},
          "execution_count": 13
        }
      ]
    },
    {
      "cell_type": "code",
      "source": [
        "m.append(2)\n",
        "m"
      ],
      "metadata": {
        "colab": {
          "base_uri": "https://localhost:8080/"
        },
        "id": "EjfQe3rrqGwU",
        "outputId": "0d3eb56a-39b5-4640-f470-361ee8dd4ab3"
      },
      "execution_count": null,
      "outputs": [
        {
          "output_type": "execute_result",
          "data": {
            "text/plain": [
              "['Hola', 2]"
            ]
          },
          "metadata": {},
          "execution_count": 14
        }
      ]
    },
    {
      "cell_type": "code",
      "source": [
        "m.append('info')"
      ],
      "metadata": {
        "id": "MzxNkGeoq29s"
      },
      "execution_count": null,
      "outputs": []
    },
    {
      "cell_type": "code",
      "source": [
        "m"
      ],
      "metadata": {
        "colab": {
          "base_uri": "https://localhost:8080/"
        },
        "id": "s_YWWNBsq5i8",
        "outputId": "02836b17-cf17-4ffd-f8c5-6bca57346df0"
      },
      "execution_count": null,
      "outputs": [
        {
          "output_type": "execute_result",
          "data": {
            "text/plain": [
              "['Hola', 2, 'info']"
            ]
          },
          "metadata": {},
          "execution_count": 16
        }
      ]
    },
    {
      "cell_type": "code",
      "source": [
        "for i in m:\n",
        "  print(i)"
      ],
      "metadata": {
        "colab": {
          "base_uri": "https://localhost:8080/"
        },
        "id": "o9VK35bTq7uV",
        "outputId": "72831875-d23d-4369-f2a7-cced0cc3ca46"
      },
      "execution_count": null,
      "outputs": [
        {
          "output_type": "stream",
          "name": "stdout",
          "text": [
            "Hola\n",
            "2\n",
            "info\n"
          ]
        }
      ]
    },
    {
      "cell_type": "code",
      "source": [
        "l = [3, 'no', True]"
      ],
      "metadata": {
        "id": "1Vrf4iP3rS1C"
      },
      "execution_count": null,
      "outputs": []
    },
    {
      "cell_type": "code",
      "source": [
        "l"
      ],
      "metadata": {
        "colab": {
          "base_uri": "https://localhost:8080/"
        },
        "id": "g7r2ju5zruG1",
        "outputId": "f5a1a8c1-1e12-4742-b831-5379be6be394"
      },
      "execution_count": null,
      "outputs": [
        {
          "output_type": "execute_result",
          "data": {
            "text/plain": [
              "[3, 'no', True]"
            ]
          },
          "metadata": {},
          "execution_count": 22
        }
      ]
    },
    {
      "cell_type": "code",
      "source": [
        "for i in range(len(l)):\n",
        "  print(m[i] , l[i])"
      ],
      "metadata": {
        "colab": {
          "base_uri": "https://localhost:8080/"
        },
        "id": "BWScjsL5rNXh",
        "outputId": "92bd0bb2-6dbc-404f-f0f7-848994997e45"
      },
      "execution_count": null,
      "outputs": [
        {
          "output_type": "stream",
          "name": "stdout",
          "text": [
            "Hola 3\n",
            "2 no\n",
            "info True\n"
          ]
        }
      ]
    },
    {
      "cell_type": "code",
      "source": [
        "for i , j in zip(m,l):\n",
        "  print(i,j)"
      ],
      "metadata": {
        "colab": {
          "base_uri": "https://localhost:8080/"
        },
        "id": "ORtN5dezr378",
        "outputId": "2b88b01a-e529-4512-ef1c-e7ab279f7e6d"
      },
      "execution_count": null,
      "outputs": [
        {
          "output_type": "stream",
          "name": "stdout",
          "text": [
            "Hola 3\n",
            "2 no\n",
            "info True\n"
          ]
        }
      ]
    },
    {
      "cell_type": "markdown",
      "source": [
        "Sumatorias:\n",
        "\n"
      ],
      "metadata": {
        "id": "exKQDHyIsS4i"
      }
    },
    {
      "cell_type": "code",
      "source": [
        "count = 0\n",
        "sum_l = ''\n",
        "for i in range(1 , 21):\n",
        "  if i == 1:\n",
        "    sum_l = str(i)\n",
        "    count = count + i\n",
        "    print(f'{sum_l} = {count}')\n",
        "  else:\n",
        "    #print(i)\n",
        "    sum_l = sum_l + '+' +str(i)\n",
        "    count = count + i\n",
        "    print(f'{sum_l} = {count}')\n",
        "\n",
        "print(f'El resultado final de sumar todos los números enteros desde el 1 hasta el 20 es : {count}')"
      ],
      "metadata": {
        "colab": {
          "base_uri": "https://localhost:8080/"
        },
        "id": "9xJfkqamtVs5",
        "outputId": "11b9fd88-2437-4d83-eda5-84bd937a8a69"
      },
      "execution_count": 3,
      "outputs": [
        {
          "output_type": "stream",
          "name": "stdout",
          "text": [
            "1 = 1\n",
            "1+2 = 3\n",
            "1+2+3 = 6\n",
            "1+2+3+4 = 10\n",
            "1+2+3+4+5 = 15\n",
            "1+2+3+4+5+6 = 21\n",
            "1+2+3+4+5+6+7 = 28\n",
            "1+2+3+4+5+6+7+8 = 36\n",
            "1+2+3+4+5+6+7+8+9 = 45\n",
            "1+2+3+4+5+6+7+8+9+10 = 55\n",
            "1+2+3+4+5+6+7+8+9+10+11 = 66\n",
            "1+2+3+4+5+6+7+8+9+10+11+12 = 78\n",
            "1+2+3+4+5+6+7+8+9+10+11+12+13 = 91\n",
            "1+2+3+4+5+6+7+8+9+10+11+12+13+14 = 105\n",
            "1+2+3+4+5+6+7+8+9+10+11+12+13+14+15 = 120\n",
            "1+2+3+4+5+6+7+8+9+10+11+12+13+14+15+16 = 136\n",
            "1+2+3+4+5+6+7+8+9+10+11+12+13+14+15+16+17 = 153\n",
            "1+2+3+4+5+6+7+8+9+10+11+12+13+14+15+16+17+18 = 171\n",
            "1+2+3+4+5+6+7+8+9+10+11+12+13+14+15+16+17+18+19 = 190\n",
            "1+2+3+4+5+6+7+8+9+10+11+12+13+14+15+16+17+18+19+20 = 210\n",
            "El resultado final de sumar todos los números enteros desde el 1 hasta el 20 es : 210\n"
          ]
        }
      ]
    },
    {
      "cell_type": "code",
      "source": [
        "count = 0\n",
        "for i in range(1, 101):\n",
        "  count = count + i\n",
        "count"
      ],
      "metadata": {
        "colab": {
          "base_uri": "https://localhost:8080/"
        },
        "id": "lImRwEc3v1HO",
        "outputId": "f58f77c2-f1ee-4c29-c86d-98f4983ecb1a"
      },
      "execution_count": null,
      "outputs": [
        {
          "output_type": "execute_result",
          "data": {
            "text/plain": [
              "5050"
            ]
          },
          "metadata": {},
          "execution_count": 39
        }
      ]
    }
  ]
}