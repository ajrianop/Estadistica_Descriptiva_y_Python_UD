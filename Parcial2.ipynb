{
  "nbformat": 4,
  "nbformat_minor": 0,
  "metadata": {
    "colab": {
      "provenance": [],
      "authorship_tag": "ABX9TyOJylyro8vmg0xvDWGbOwja",
      "include_colab_link": true
    },
    "kernelspec": {
      "name": "python3",
      "display_name": "Python 3"
    },
    "language_info": {
      "name": "python"
    }
  },
  "cells": [
    {
      "cell_type": "markdown",
      "metadata": {
        "id": "view-in-github",
        "colab_type": "text"
      },
      "source": [
        "<a href=\"https://colab.research.google.com/github/ajrianop/Estadistica_Descriptiva_y_Python_UD2023-3/blob/main/Parcial2.ipynb\" target=\"_parent\"><img src=\"https://colab.research.google.com/assets/colab-badge.svg\" alt=\"Open In Colab\"/></a>"
      ]
    },
    {
      "cell_type": "code",
      "source": [
        "# Importando librerías utiles para el desarrollo\n",
        "import pandas as pd\n",
        "import numpy as np\n",
        "import matplotlib.pyplot as plt"
      ],
      "metadata": {
        "id": "Ak_WtcGSHVvH"
      },
      "execution_count": null,
      "outputs": []
    },
    {
      "cell_type": "code",
      "source": [
        "# Funciones de distribución\n",
        "# Funciones a utilizar\n",
        "\n",
        "def arithmetic_mean(values : list):\n",
        "  '''\n",
        "  Función que permite calcular la media aritmética\n",
        "  values --> list\n",
        "  '''\n",
        "  _sum = 0\n",
        "  n = len(values)\n",
        "\n",
        "  for value in values:\n",
        "      _sum += value  # _sum = _sum + value\n",
        "\n",
        "  return _sum / n\n",
        "\n",
        "\n",
        "def geometric_mean(values : list):\n",
        "  '''\n",
        "  Función que permite calcular la media geométrica\n",
        "  values --> list\n",
        "  '''\n",
        "  product = 1\n",
        "  n = len(values)\n",
        "\n",
        "  for value in values:\n",
        "      product *= value\n",
        "\n",
        "  return (product ** (1 / n))\n",
        "\n",
        "def harmonic_mean(values : list):\n",
        "  '''\n",
        "  Función que permite calcular la media armónica\n",
        "  values --> list\n",
        "  '''\n",
        "  _sum = 0\n",
        "  n = len(values)\n",
        "\n",
        "  for value in values:\n",
        "      _sum += 1/value  # Convierte el porcentaje a decimal\n",
        "\n",
        "  return n/_sum\n",
        "\n",
        "\n",
        "def quadratic_mean(values : list):\n",
        "  '''\n",
        "  Función que permite calcular la media cuadrática\n",
        "  values --> list\n",
        "  '''\n",
        "  _sum = 0\n",
        "  n = len(values)\n",
        "\n",
        "  for value in values:\n",
        "      _sum += value ** 2  # Convierte el porcentaje a decimal\n",
        "\n",
        "  return (_sum/n)** 0.5\n",
        "\n",
        "\n",
        "def mid_range(values : list):\n",
        "  '''\n",
        "  Función que permite calcular rango medio\n",
        "  values --> list\n",
        "  '''\n",
        "  _min = min(values)\n",
        "  _max = max(values)\n",
        "\n",
        "  return ( _min + _max )/2\n",
        "\n",
        "def median(values : list):\n",
        "  '''\n",
        "  Función que permite calcular la mediana\n",
        "  values --> list\n",
        "  '''\n",
        "  n = len(values)\n",
        "  if n % 2 == 1:\n",
        "      mediana = values[n // 2]\n",
        "  else:\n",
        "      mediana = (values[(n - 1) // 2] + values[n // 2]) / 2\n",
        "  return mediana\n",
        "\n",
        "from collections import Counter\n",
        "\n",
        "def mode(values : list):\n",
        "  '''\n",
        "  Función que permite calcular la moda\n",
        "  values --> list\n",
        "  '''\n",
        "  # Se genera la clase counter que tiene un diccionario organizado de mayor a menor por cantidad de votos\n",
        "  # {key : value}  ---> key : puntuacion ,  value: cantidad de veces repetida la puntuacion\n",
        "  contador_frecuencia = Counter(values)\n",
        "  # Generar una lista de tuplas (dato , votación de ese dato)\n",
        "  modas_resultados = contador_frecuencia.most_common()\n",
        "\n",
        "  # Obtener los valores de las modas y sus frecuencias\n",
        "  modas = [moda[0] for moda in modas_resultados if moda[1] == modas_resultados[0][1]]\n",
        "  frecuencia_maxima = modas_resultados[0][1]\n",
        "  return modas , frecuencia_maxima\n",
        "\n",
        "# Medidas de dispersión\n",
        "\n",
        "def range_func(values : list):\n",
        "  '''\n",
        "  Función rango de estadística, la cual consifera punto máximo y mínimo de\n",
        "  la lista y calcula su diferencia.\n",
        "  values ---> list\n",
        "  '''\n",
        "  return max(values)-min(values)\n",
        "\n",
        "def mean_deviation(values : list):\n",
        "  '''\n",
        "  Función desviación media, la cuál permite ver que tan dispersa esta la\n",
        "  información con respecto a la media (media aritmética)\n",
        "  values ---> list\n",
        "  '''\n",
        "  _sum = 0\n",
        "  _mean = arithmetic_mean(values)\n",
        "  n = len(values)\n",
        "  for value in values:\n",
        "    _sum += abs(value - _mean)\n",
        "  return _sum / n\n",
        "\n",
        "def variance(datos):\n",
        "  '''\n",
        "  Función varianza, la cuál permite ver que tan dispersa esta la\n",
        "  información con respecto a la media (media aritmética), en este caso con el\n",
        "  cuadrado de la diferencia.\n",
        "  values ---> list\n",
        "  '''\n",
        "  media = sum(datos) / len(datos)\n",
        "  varianza = sum((x - media) ** 2 for x in datos) / (len(datos) - 1)\n",
        "  return varianza\n",
        "\n",
        "def standard_deviation(values : list):\n",
        "  '''\n",
        "  Función desviación estándar, la cuál permite ver que tan dispersa esta la\n",
        "  información con respecto a la media (media aritmética).\n",
        "  values ---> list\n",
        "  '''\n",
        "  return variance(values) ** (1/2)\n",
        "\n",
        "def coefficient_of_variation(values : list):\n",
        "  '''\n",
        "  Función de coeficientes de variación dados unos valores iniciales.\n",
        "  Note que el resultado es un porcentaje.\n",
        "  values ---> list\n",
        "  '''\n",
        "  _mean = arithmetic_mean(values)\n",
        "  _std = standard_deviation(values)\n",
        "\n",
        "  return (_std  / _mean ) * 100"
      ],
      "metadata": {
        "id": "7wk3T-cFTl2u"
      },
      "execution_count": null,
      "outputs": []
    },
    {
      "cell_type": "markdown",
      "source": [
        "## Punto 1\n",
        "Se ha registrado el número de accidentes por día en una interscción en alguna parte de la ciudad. Nos has solicitado revisemos la distribución de frecuencias dados los siguientes datos:  1, 0, 2, 3, 1, 1, 0, 2, 1, 3, 2, 1, 0, 1, 2, 2, 3, 0, 1, 1.\n",
        "\n",
        "1. Realice la tabla de frecuencias del problema y cálcule la media, mediana, desviación estándar y el coeficiente  de variación.\n",
        "2. Realice un gráfico de la frecuencia absoluta, y otro de la frecuencia relativa acumulada."
      ],
      "metadata": {
        "id": "RqLMILEvFwfZ"
      }
    },
    {
      "cell_type": "markdown",
      "source": [
        "### Solución punto 1"
      ],
      "metadata": {
        "id": "rHqapd5YXVpu"
      }
    },
    {
      "cell_type": "code",
      "source": [
        "# Función que genera el dataframe de tabla de frecuencias\n",
        "def tabla_frecuencias(lista, nombre_var):\n",
        "  '''\n",
        "  Función que genera tabla de frecuencias con parametros:\n",
        "  df ---> DataFrame\n",
        "  lista ---> list : lista de datos\n",
        "  nombre_var ---> str : nombre de las variables\n",
        "  '''\n",
        "  df1 = pd.DataFrame(lista, columns=[nombre_var])\n",
        "  # Calcular la frecuencia absoluta\n",
        "  tabla1 = df1[nombre_var].value_counts().reset_index()\n",
        "  tabla1.columns = [nombre_var, 'Frecuencia Absoluta']\n",
        "  # Ordenar por nombre_var\n",
        "  tabla1 = tabla1.sort_values(by=nombre_var)\n",
        "  # Calcular la frecuencia absoluta acumulada\n",
        "  tabla1['Frecuencia Absoluta Acumulada'] = tabla1['Frecuencia Absoluta'].cumsum()\n",
        "  total_var = len(lista)\n",
        "  tabla1['Frecuencia Relativa %'] = ( tabla1['Frecuencia Absoluta'] / total_var ) * 100\n",
        "  # Calcular la frecuencia relativa acumulada\n",
        "  tabla1['Frecuencia Relativa Acumulada %'] = tabla1['Frecuencia Relativa %'].cumsum()\n",
        "  return tabla1"
      ],
      "metadata": {
        "id": "rOaqm5v6H3bw"
      },
      "execution_count": null,
      "outputs": []
    },
    {
      "cell_type": "code",
      "source": [
        "# Se llaman los datos\n",
        "accidentes = [1, 0, 2, 3, 1, 1, 0, 2, 1, 3, 2, 1, 0, 1, 2, 2, 3, 0, 1, 1]\n",
        "# Función que genera la tabla de frecuencias\n",
        "tabla_frecuencias1 = tabla_frecuencias(accidentes, 'accidentes')\n",
        "tabla_frecuencias1"
      ],
      "metadata": {
        "colab": {
          "base_uri": "https://localhost:8080/",
          "height": 192
        },
        "id": "dSoMiGYMJidn",
        "outputId": "6964ccea-7d70-4007-c973-ea4918b1bd17"
      },
      "execution_count": null,
      "outputs": [
        {
          "output_type": "execute_result",
          "data": {
            "text/plain": [
              "   accidentes  Frecuencia Absoluta  Frecuencia Absoluta Acumulada  \\\n",
              "2           0                    4                              4   \n",
              "0           1                    8                             12   \n",
              "1           2                    5                             17   \n",
              "3           3                    3                             20   \n",
              "\n",
              "   Frecuencia Relativa %  Frecuencia Relativa Acumulada %  \n",
              "2                   20.0                             20.0  \n",
              "0                   40.0                             60.0  \n",
              "1                   25.0                             85.0  \n",
              "3                   15.0                            100.0  "
            ],
            "text/html": [
              "\n",
              "  <div id=\"df-95f7a01e-d334-4cb6-9cc5-11cb23841930\" class=\"colab-df-container\">\n",
              "    <div>\n",
              "<style scoped>\n",
              "    .dataframe tbody tr th:only-of-type {\n",
              "        vertical-align: middle;\n",
              "    }\n",
              "\n",
              "    .dataframe tbody tr th {\n",
              "        vertical-align: top;\n",
              "    }\n",
              "\n",
              "    .dataframe thead th {\n",
              "        text-align: right;\n",
              "    }\n",
              "</style>\n",
              "<table border=\"1\" class=\"dataframe\">\n",
              "  <thead>\n",
              "    <tr style=\"text-align: right;\">\n",
              "      <th></th>\n",
              "      <th>accidentes</th>\n",
              "      <th>Frecuencia Absoluta</th>\n",
              "      <th>Frecuencia Absoluta Acumulada</th>\n",
              "      <th>Frecuencia Relativa %</th>\n",
              "      <th>Frecuencia Relativa Acumulada %</th>\n",
              "    </tr>\n",
              "  </thead>\n",
              "  <tbody>\n",
              "    <tr>\n",
              "      <th>2</th>\n",
              "      <td>0</td>\n",
              "      <td>4</td>\n",
              "      <td>4</td>\n",
              "      <td>20.0</td>\n",
              "      <td>20.0</td>\n",
              "    </tr>\n",
              "    <tr>\n",
              "      <th>0</th>\n",
              "      <td>1</td>\n",
              "      <td>8</td>\n",
              "      <td>12</td>\n",
              "      <td>40.0</td>\n",
              "      <td>60.0</td>\n",
              "    </tr>\n",
              "    <tr>\n",
              "      <th>1</th>\n",
              "      <td>2</td>\n",
              "      <td>5</td>\n",
              "      <td>17</td>\n",
              "      <td>25.0</td>\n",
              "      <td>85.0</td>\n",
              "    </tr>\n",
              "    <tr>\n",
              "      <th>3</th>\n",
              "      <td>3</td>\n",
              "      <td>3</td>\n",
              "      <td>20</td>\n",
              "      <td>15.0</td>\n",
              "      <td>100.0</td>\n",
              "    </tr>\n",
              "  </tbody>\n",
              "</table>\n",
              "</div>\n",
              "    <div class=\"colab-df-buttons\">\n",
              "\n",
              "  <div class=\"colab-df-container\">\n",
              "    <button class=\"colab-df-convert\" onclick=\"convertToInteractive('df-95f7a01e-d334-4cb6-9cc5-11cb23841930')\"\n",
              "            title=\"Convert this dataframe to an interactive table.\"\n",
              "            style=\"display:none;\">\n",
              "\n",
              "  <svg xmlns=\"http://www.w3.org/2000/svg\" height=\"24px\" viewBox=\"0 -960 960 960\">\n",
              "    <path d=\"M120-120v-720h720v720H120Zm60-500h600v-160H180v160Zm220 220h160v-160H400v160Zm0 220h160v-160H400v160ZM180-400h160v-160H180v160Zm440 0h160v-160H620v160ZM180-180h160v-160H180v160Zm440 0h160v-160H620v160Z\"/>\n",
              "  </svg>\n",
              "    </button>\n",
              "\n",
              "  <style>\n",
              "    .colab-df-container {\n",
              "      display:flex;\n",
              "      gap: 12px;\n",
              "    }\n",
              "\n",
              "    .colab-df-convert {\n",
              "      background-color: #E8F0FE;\n",
              "      border: none;\n",
              "      border-radius: 50%;\n",
              "      cursor: pointer;\n",
              "      display: none;\n",
              "      fill: #1967D2;\n",
              "      height: 32px;\n",
              "      padding: 0 0 0 0;\n",
              "      width: 32px;\n",
              "    }\n",
              "\n",
              "    .colab-df-convert:hover {\n",
              "      background-color: #E2EBFA;\n",
              "      box-shadow: 0px 1px 2px rgba(60, 64, 67, 0.3), 0px 1px 3px 1px rgba(60, 64, 67, 0.15);\n",
              "      fill: #174EA6;\n",
              "    }\n",
              "\n",
              "    .colab-df-buttons div {\n",
              "      margin-bottom: 4px;\n",
              "    }\n",
              "\n",
              "    [theme=dark] .colab-df-convert {\n",
              "      background-color: #3B4455;\n",
              "      fill: #D2E3FC;\n",
              "    }\n",
              "\n",
              "    [theme=dark] .colab-df-convert:hover {\n",
              "      background-color: #434B5C;\n",
              "      box-shadow: 0px 1px 3px 1px rgba(0, 0, 0, 0.15);\n",
              "      filter: drop-shadow(0px 1px 2px rgba(0, 0, 0, 0.3));\n",
              "      fill: #FFFFFF;\n",
              "    }\n",
              "  </style>\n",
              "\n",
              "    <script>\n",
              "      const buttonEl =\n",
              "        document.querySelector('#df-95f7a01e-d334-4cb6-9cc5-11cb23841930 button.colab-df-convert');\n",
              "      buttonEl.style.display =\n",
              "        google.colab.kernel.accessAllowed ? 'block' : 'none';\n",
              "\n",
              "      async function convertToInteractive(key) {\n",
              "        const element = document.querySelector('#df-95f7a01e-d334-4cb6-9cc5-11cb23841930');\n",
              "        const dataTable =\n",
              "          await google.colab.kernel.invokeFunction('convertToInteractive',\n",
              "                                                    [key], {});\n",
              "        if (!dataTable) return;\n",
              "\n",
              "        const docLinkHtml = 'Like what you see? Visit the ' +\n",
              "          '<a target=\"_blank\" href=https://colab.research.google.com/notebooks/data_table.ipynb>data table notebook</a>'\n",
              "          + ' to learn more about interactive tables.';\n",
              "        element.innerHTML = '';\n",
              "        dataTable['output_type'] = 'display_data';\n",
              "        await google.colab.output.renderOutput(dataTable, element);\n",
              "        const docLink = document.createElement('div');\n",
              "        docLink.innerHTML = docLinkHtml;\n",
              "        element.appendChild(docLink);\n",
              "      }\n",
              "    </script>\n",
              "  </div>\n",
              "\n",
              "\n",
              "<div id=\"df-a52241df-d1d0-4f0e-a812-1595480c904b\">\n",
              "  <button class=\"colab-df-quickchart\" onclick=\"quickchart('df-a52241df-d1d0-4f0e-a812-1595480c904b')\"\n",
              "            title=\"Suggest charts.\"\n",
              "            style=\"display:none;\">\n",
              "\n",
              "<svg xmlns=\"http://www.w3.org/2000/svg\" height=\"24px\"viewBox=\"0 0 24 24\"\n",
              "     width=\"24px\">\n",
              "    <g>\n",
              "        <path d=\"M19 3H5c-1.1 0-2 .9-2 2v14c0 1.1.9 2 2 2h14c1.1 0 2-.9 2-2V5c0-1.1-.9-2-2-2zM9 17H7v-7h2v7zm4 0h-2V7h2v10zm4 0h-2v-4h2v4z\"/>\n",
              "    </g>\n",
              "</svg>\n",
              "  </button>\n",
              "\n",
              "<style>\n",
              "  .colab-df-quickchart {\n",
              "      --bg-color: #E8F0FE;\n",
              "      --fill-color: #1967D2;\n",
              "      --hover-bg-color: #E2EBFA;\n",
              "      --hover-fill-color: #174EA6;\n",
              "      --disabled-fill-color: #AAA;\n",
              "      --disabled-bg-color: #DDD;\n",
              "  }\n",
              "\n",
              "  [theme=dark] .colab-df-quickchart {\n",
              "      --bg-color: #3B4455;\n",
              "      --fill-color: #D2E3FC;\n",
              "      --hover-bg-color: #434B5C;\n",
              "      --hover-fill-color: #FFFFFF;\n",
              "      --disabled-bg-color: #3B4455;\n",
              "      --disabled-fill-color: #666;\n",
              "  }\n",
              "\n",
              "  .colab-df-quickchart {\n",
              "    background-color: var(--bg-color);\n",
              "    border: none;\n",
              "    border-radius: 50%;\n",
              "    cursor: pointer;\n",
              "    display: none;\n",
              "    fill: var(--fill-color);\n",
              "    height: 32px;\n",
              "    padding: 0;\n",
              "    width: 32px;\n",
              "  }\n",
              "\n",
              "  .colab-df-quickchart:hover {\n",
              "    background-color: var(--hover-bg-color);\n",
              "    box-shadow: 0 1px 2px rgba(60, 64, 67, 0.3), 0 1px 3px 1px rgba(60, 64, 67, 0.15);\n",
              "    fill: var(--button-hover-fill-color);\n",
              "  }\n",
              "\n",
              "  .colab-df-quickchart-complete:disabled,\n",
              "  .colab-df-quickchart-complete:disabled:hover {\n",
              "    background-color: var(--disabled-bg-color);\n",
              "    fill: var(--disabled-fill-color);\n",
              "    box-shadow: none;\n",
              "  }\n",
              "\n",
              "  .colab-df-spinner {\n",
              "    border: 2px solid var(--fill-color);\n",
              "    border-color: transparent;\n",
              "    border-bottom-color: var(--fill-color);\n",
              "    animation:\n",
              "      spin 1s steps(1) infinite;\n",
              "  }\n",
              "\n",
              "  @keyframes spin {\n",
              "    0% {\n",
              "      border-color: transparent;\n",
              "      border-bottom-color: var(--fill-color);\n",
              "      border-left-color: var(--fill-color);\n",
              "    }\n",
              "    20% {\n",
              "      border-color: transparent;\n",
              "      border-left-color: var(--fill-color);\n",
              "      border-top-color: var(--fill-color);\n",
              "    }\n",
              "    30% {\n",
              "      border-color: transparent;\n",
              "      border-left-color: var(--fill-color);\n",
              "      border-top-color: var(--fill-color);\n",
              "      border-right-color: var(--fill-color);\n",
              "    }\n",
              "    40% {\n",
              "      border-color: transparent;\n",
              "      border-right-color: var(--fill-color);\n",
              "      border-top-color: var(--fill-color);\n",
              "    }\n",
              "    60% {\n",
              "      border-color: transparent;\n",
              "      border-right-color: var(--fill-color);\n",
              "    }\n",
              "    80% {\n",
              "      border-color: transparent;\n",
              "      border-right-color: var(--fill-color);\n",
              "      border-bottom-color: var(--fill-color);\n",
              "    }\n",
              "    90% {\n",
              "      border-color: transparent;\n",
              "      border-bottom-color: var(--fill-color);\n",
              "    }\n",
              "  }\n",
              "</style>\n",
              "\n",
              "  <script>\n",
              "    async function quickchart(key) {\n",
              "      const quickchartButtonEl =\n",
              "        document.querySelector('#' + key + ' button');\n",
              "      quickchartButtonEl.disabled = true;  // To prevent multiple clicks.\n",
              "      quickchartButtonEl.classList.add('colab-df-spinner');\n",
              "      try {\n",
              "        const charts = await google.colab.kernel.invokeFunction(\n",
              "            'suggestCharts', [key], {});\n",
              "      } catch (error) {\n",
              "        console.error('Error during call to suggestCharts:', error);\n",
              "      }\n",
              "      quickchartButtonEl.classList.remove('colab-df-spinner');\n",
              "      quickchartButtonEl.classList.add('colab-df-quickchart-complete');\n",
              "    }\n",
              "    (() => {\n",
              "      let quickchartButtonEl =\n",
              "        document.querySelector('#df-a52241df-d1d0-4f0e-a812-1595480c904b button');\n",
              "      quickchartButtonEl.style.display =\n",
              "        google.colab.kernel.accessAllowed ? 'block' : 'none';\n",
              "    })();\n",
              "  </script>\n",
              "</div>\n",
              "    </div>\n",
              "  </div>\n"
            ]
          },
          "metadata": {},
          "execution_count": 5
        }
      ]
    },
    {
      "cell_type": "code",
      "source": [
        "# Definimos una función con todas las medidas de tendencia central vistas en clase:\n",
        "\n",
        "def calculo_med_tend_central(values : list, comentario : str):\n",
        "  '''\n",
        "  Función que cálcula:\n",
        "  Media Aritmética\n",
        "  Media Geométrica\n",
        "  Media Armónica\n",
        "  Media Cuadrática\n",
        "  Rango Medio\n",
        "  Mediana\n",
        "  Moda\n",
        "  '''\n",
        "  _dict = dict()\n",
        "  ari_mean = arithmetic_mean(values) #media\n",
        "  _median = median(values) # mediana\n",
        "  _standard_deviation = standard_deviation(values) #desviacion estandar\n",
        "  coef_var = coefficient_of_variation(values) #coeficiente de variación\n",
        "\n",
        "  dict_measures = {\"arithmetic_mean\" :ari_mean ,  \"median\" : _median , \"standard deviation\" : _standard_deviation , \"coefficient of variation\" : coef_var , \"comentario\" : comentario}\n",
        "  for i in dict_measures:\n",
        "    _dict[i] = dict_measures[i]\n",
        "\n",
        "  return _dict"
      ],
      "metadata": {
        "id": "ZfJy6Gg9UNpO"
      },
      "execution_count": null,
      "outputs": []
    },
    {
      "cell_type": "code",
      "source": [
        "calculo_med_tend_central(accidentes, 'Accidentes')"
      ],
      "metadata": {
        "colab": {
          "base_uri": "https://localhost:8080/"
        },
        "id": "8mEHBPTeWHfF",
        "outputId": "84afdc91-59ce-4206-e07d-e8d326e17ef9"
      },
      "execution_count": null,
      "outputs": [
        {
          "output_type": "execute_result",
          "data": {
            "text/plain": [
              "{'arithmetic_mean': 1.35,\n",
              " 'median': 2.5,\n",
              " 'standard deviation': 0.9880869341680842,\n",
              " 'coefficient of variation': 73.19162475319142,\n",
              " 'comentario': 'Accidentes'}"
            ]
          },
          "metadata": {},
          "execution_count": 7
        }
      ]
    },
    {
      "cell_type": "markdown",
      "source": [
        "### Solución punto 2"
      ],
      "metadata": {
        "id": "xYyXoL9mXZSp"
      }
    },
    {
      "cell_type": "code",
      "source": [
        "# datos a estudiar\n",
        "datos = tabla_frecuencias1['accidentes'].to_list()\n",
        "\n",
        "# frecuencia obsoluta\n",
        "frecuencia_absoluta = tabla_frecuencias1['Frecuencia Absoluta'].to_list()\n",
        "\n",
        "# frecuencia relativa acumulada\n",
        "frecuencia_relativa_acumulada = tabla_frecuencias1['Frecuencia Relativa Acumulada %'].to_list()"
      ],
      "metadata": {
        "id": "rr12JcqhXaKd"
      },
      "execution_count": null,
      "outputs": []
    },
    {
      "cell_type": "code",
      "source": [
        "# Crear el histograma de frecuencias\n",
        "plt.figure(figsize=(10, 4))\n",
        "plt.bar(datos, frecuencia_absoluta, width=0.5, alpha=0.6, align='center', label='Frecuencia Absoluta')\n",
        "plt.xlabel('Puntuación')\n",
        "plt.ylabel('Frecuencia Absoluta')\n",
        "plt.title('Histograma de Frecuencias Relativas')\n",
        "plt.legend()\n",
        "plt.grid(axis='y', linestyle='--', alpha=0.7)\n",
        "plt.show()"
      ],
      "metadata": {
        "colab": {
          "base_uri": "https://localhost:8080/",
          "height": 410
        },
        "id": "omMONupjayKj",
        "outputId": "9a8f2dda-5885-44ac-cdd5-df6f0e709cc7"
      },
      "execution_count": null,
      "outputs": [
        {
          "output_type": "display_data",
          "data": {
            "text/plain": [
              "<Figure size 1000x400 with 1 Axes>"
            ],
            "image/png": "[encoded data removed]"
          },
          "metadata": {}
        }
      ]
    },
    {
      "cell_type": "code",
      "source": [
        "# Crea gráfico de barras para las frecuencias absolutas acumuladas\n",
        "frecuencia_relativa_acumulada = tabla_frecuencias1['Frecuencia Relativa Acumulada %'].to_list()\n",
        "\n",
        "plt.figure(figsize=(10, 4))\n",
        "plt.plot(datos, frecuencia_relativa_acumulada, marker='o', linestyle='-', color='b', label='Frecuencia Relativa Acumulada %')\n",
        "plt.xlabel('Puntuación')\n",
        "plt.ylabel('Frecuencia Relativa Acumulada')\n",
        "plt.title('Ojiva de Frecuencias Relativas Acumuladas (en %)')\n",
        "plt.legend()\n",
        "plt.grid(axis='y', linestyle='--', alpha=0.7)\n",
        "plt.show()"
      ],
      "metadata": {
        "colab": {
          "base_uri": "https://localhost:8080/",
          "height": 410
        },
        "id": "qbA78G2XZ8EW",
        "outputId": "4a5d737d-a19d-4290-cb9d-155609f3dd17"
      },
      "execution_count": null,
      "outputs": [
        {
          "output_type": "display_data",
          "data": {
            "text/plain": [
              "<Figure size 1000x400 with 1 Axes>"
            ],
            "image/png": "[encoded data removed]"
          },
          "metadata": {}
        }
      ]
    },
    {
      "cell_type": "markdown",
      "source": [
        "## Punto 2\n",
        "En un proyecto de construcción de un edificio de gran altura, los ingenieros están interesados en evaluar los tiempos de construcción (en días) de estructuras similares en la misma ciudad para establecer un cronograma realista para su propio proyecto. Han recopilado datos de tiempos de construcción de 50 edificios de altura similar.\n",
        "\n",
        "Los datos recopilados son los siguientes: 185, 190, 195, 200, 210, 205, 198, 215, 202, 220, 225, 198, 205, 190, 212, 208, 195, 200, 204, 198, 213, 209, 189, 223, 205, 199, 190, 217, 202, 198, 207, 210, 225, 198, 205, 209, 211, 200, 189, 215, 207, 199, 198, 205, 212, 220, 195, 210.\n",
        "\n",
        "1. Encuentre el rango de los datos, y realice la tabla de frecuencias del problema dividiendo el intervalo de estudio en 6 partes iguales. Cálcule el valor de asímetria y kurtosis del problema (explicar como los calculo).\n",
        "2. Dado que la variable es continua, utilizar las fórmulas vistas en clase para determinar el valor mínimo los cuartiles $Q_1$, $Q_2$, $Q_3$ y el valor máximo."
      ],
      "metadata": {
        "id": "6YMqS9GWF6Tf"
      }
    },
    {
      "cell_type": "code",
      "source": [
        "# Rango de los datos\n",
        "tiempos = [185, 190, 195, 200, 210, 205, 198, 215, 202, 220, 225, 198, 205, 190, 212, 208, 195, 200, 204, 198, 213, 209, 189, 223, 205, 199, 190, 217, 202, 198, 207, 210, 225, 198, 205, 209, 211, 200, 189, 215, 207, 199, 198, 205, 212, 220, 195, 210]\n",
        "\n",
        "_min = min(tiempos)\n",
        "_max = max(tiempos)\n",
        "rango = _max - _min\n",
        "print(f'el valor mínimo es {_min} y el valor máximo es {_max}, de este modo el rango es {rango}')"
      ],
      "metadata": {
        "colab": {
          "base_uri": "https://localhost:8080/"
        },
        "id": "ErsLYH0xHTPd",
        "outputId": "09555cb7-deba-4d92-a3cb-4a3fe3233e4a"
      },
      "execution_count": null,
      "outputs": [
        {
          "output_type": "stream",
          "name": "stdout",
          "text": [
            "el valor mínimo es 185 y el valor máximo es 225, de este modo el rango es 40\n"
          ]
        }
      ]
    },
    {
      "cell_type": "markdown",
      "source": [
        "Dado que el rango es 40, y vamos a considerar 6 intervalos de estudio, tenemo que"
      ],
      "metadata": {
        "id": "HhUwot1_eCyh"
      }
    },
    {
      "cell_type": "code",
      "source": [
        "numero_particion = round(rango/6, 0)\n",
        "numero_particion"
      ],
      "metadata": {
        "colab": {
          "base_uri": "https://localhost:8080/"
        },
        "id": "zq3q1l14eiS3",
        "outputId": "a9e5a51a-c923-473f-c4cb-5a9157349650"
      },
      "execution_count": null,
      "outputs": [
        {
          "output_type": "execute_result",
          "data": {
            "text/plain": [
              "7.0"
            ]
          },
          "metadata": {},
          "execution_count": 12
        }
      ]
    },
    {
      "cell_type": "code",
      "source": [
        "val = _min\n",
        "_list = [_min]\n",
        "_bool = True\n",
        "while _bool:\n",
        "  if (val - _max) < numero_particion and (val - _max) > 0:\n",
        "    break\n",
        "  else:\n",
        "    val = val + int(numero_particion)\n",
        "    _list.append(val)\n",
        "\n",
        "# Intervalos de estudio\n",
        "_list"
      ],
      "metadata": {
        "colab": {
          "base_uri": "https://localhost:8080/"
        },
        "id": "fem7_C2ogy60",
        "outputId": "aa00a8e4-1007-4612-f3a1-e994cd556c11"
      },
      "execution_count": null,
      "outputs": [
        {
          "output_type": "execute_result",
          "data": {
            "text/plain": [
              "[185, 192, 199, 206, 213, 220, 227]"
            ]
          },
          "metadata": {},
          "execution_count": 13
        }
      ]
    },
    {
      "cell_type": "code",
      "source": [
        "# Definir los límites de los intervalos\n",
        "intervalos = _list\n",
        "\n",
        "# Crear un DataFrame vacío para la tabla de distribución de frecuencias\n",
        "tabla_frecuencias = pd.DataFrame(columns=['Intervalo de Puntuación', 'Marca de Clase', 'Frecuencia Absoluta'])\n",
        "\n",
        "# Calcular la frecuencia absoluta para cada intervalo\n",
        "frecuencia_absoluta = np.histogram(tiempos, bins=intervalos)[0]\n",
        "\n",
        "# Agregar los datos al DataFrame\n",
        "tabla_frecuencias['Intervalo de Puntuación'] = [f'{a}-{b}' for a, b in zip(intervalos[:-1], intervalos[1:])]\n",
        "tabla_frecuencias['Marca de Clase'] = [(a + b ) / 2 for a, b in zip(intervalos[:-1], intervalos[1:])]\n",
        "tabla_frecuencias['Frecuencia Absoluta'] = frecuencia_absoluta\n",
        "\n",
        "# Calcular la frecuencia absoluta acumulada\n",
        "tabla_frecuencias['Frecuencia Absoluta Acumulada'] = tabla_frecuencias['Frecuencia Absoluta'].cumsum()\n",
        "\n",
        "# Calcular la frecuencia relativa\n",
        "total_estudiantes = len(tiempos)\n",
        "tabla_frecuencias['Frecuencia Relativa'] = tabla_frecuencias['Frecuencia Absoluta'] / total_estudiantes * 100\n",
        "\n",
        "# Calcular la frecuencia relativa acumulada\n",
        "tabla_frecuencias['Frecuencia Relativa Acumulada'] = tabla_frecuencias['Frecuencia Relativa'].cumsum()\n",
        "\n",
        "# Mostrar la tabla de distribución de frecuencias\n",
        "tabla_frecuencias"
      ],
      "metadata": {
        "colab": {
          "base_uri": "https://localhost:8080/",
          "height": 255
        },
        "id": "MHc-q5-teB4G",
        "outputId": "36f22a25-0565-4ddf-b571-73249404dd92"
      },
      "execution_count": null,
      "outputs": [
        {
          "output_type": "execute_result",
          "data": {
            "text/plain": [
              "  Intervalo de Puntuación  Marca de Clase  Frecuencia Absoluta  \\\n",
              "0                 185-192           188.5                    6   \n",
              "1                 192-199           195.5                    9   \n",
              "2                 199-206           202.5                   13   \n",
              "3                 206-213           209.5                   11   \n",
              "4                 213-220           216.5                    4   \n",
              "5                 220-227           223.5                    5   \n",
              "\n",
              "   Frecuencia Absoluta Acumulada  Frecuencia Relativa  \\\n",
              "0                              6            12.500000   \n",
              "1                             15            18.750000   \n",
              "2                             28            27.083333   \n",
              "3                             39            22.916667   \n",
              "4                             43             8.333333   \n",
              "5                             48            10.416667   \n",
              "\n",
              "   Frecuencia Relativa Acumulada  \n",
              "0                      12.500000  \n",
              "1                      31.250000  \n",
              "2                      58.333333  \n",
              "3                      81.250000  \n",
              "4                      89.583333  \n",
              "5                     100.000000  "
            ],
            "text/html": [
              "\n",
              "  <div id=\"df-76a3ce00-4b65-4f43-97e0-c47c5aea71c4\" class=\"colab-df-container\">\n",
              "    <div>\n",
              "<style scoped>\n",
              "    .dataframe tbody tr th:only-of-type {\n",
              "        vertical-align: middle;\n",
              "    }\n",
              "\n",
              "    .dataframe tbody tr th {\n",
              "        vertical-align: top;\n",
              "    }\n",
              "\n",
              "    .dataframe thead th {\n",
              "        text-align: right;\n",
              "    }\n",
              "</style>\n",
              "<table border=\"1\" class=\"dataframe\">\n",
              "  <thead>\n",
              "    <tr style=\"text-align: right;\">\n",
              "      <th></th>\n",
              "      <th>Intervalo de Puntuación</th>\n",
              "      <th>Marca de Clase</th>\n",
              "      <th>Frecuencia Absoluta</th>\n",
              "      <th>Frecuencia Absoluta Acumulada</th>\n",
              "      <th>Frecuencia Relativa</th>\n",
              "      <th>Frecuencia Relativa Acumulada</th>\n",
              "    </tr>\n",
              "  </thead>\n",
              "  <tbody>\n",
              "    <tr>\n",
              "      <th>0</th>\n",
              "      <td>185-192</td>\n",
              "      <td>188.5</td>\n",
              "      <td>6</td>\n",
              "      <td>6</td>\n",
              "      <td>12.500000</td>\n",
              "      <td>12.500000</td>\n",
              "    </tr>\n",
              "    <tr>\n",
              "      <th>1</th>\n",
              "      <td>192-199</td>\n",
              "      <td>195.5</td>\n",
              "      <td>9</td>\n",
              "      <td>15</td>\n",
              "      <td>18.750000</td>\n",
              "      <td>31.250000</td>\n",
              "    </tr>\n",
              "    <tr>\n",
              "      <th>2</th>\n",
              "      <td>199-206</td>\n",
              "      <td>202.5</td>\n",
              "      <td>13</td>\n",
              "      <td>28</td>\n",
              "      <td>27.083333</td>\n",
              "      <td>58.333333</td>\n",
              "    </tr>\n",
              "    <tr>\n",
              "      <th>3</th>\n",
              "      <td>206-213</td>\n",
              "      <td>209.5</td>\n",
              "      <td>11</td>\n",
              "      <td>39</td>\n",
              "      <td>22.916667</td>\n",
              "      <td>81.250000</td>\n",
              "    </tr>\n",
              "    <tr>\n",
              "      <th>4</th>\n",
              "      <td>213-220</td>\n",
              "      <td>216.5</td>\n",
              "      <td>4</td>\n",
              "      <td>43</td>\n",
              "      <td>8.333333</td>\n",
              "      <td>89.583333</td>\n",
              "    </tr>\n",
              "    <tr>\n",
              "      <th>5</th>\n",
              "      <td>220-227</td>\n",
              "      <td>223.5</td>\n",
              "      <td>5</td>\n",
              "      <td>48</td>\n",
              "      <td>10.416667</td>\n",
              "      <td>100.000000</td>\n",
              "    </tr>\n",
              "  </tbody>\n",
              "</table>\n",
              "</div>\n",
              "    <div class=\"colab-df-buttons\">\n",
              "\n",
              "  <div class=\"colab-df-container\">\n",
              "    <button class=\"colab-df-convert\" onclick=\"convertToInteractive('df-76a3ce00-4b65-4f43-97e0-c47c5aea71c4')\"\n",
              "            title=\"Convert this dataframe to an interactive table.\"\n",
              "            style=\"display:none;\">\n",
              "\n",
              "  <svg xmlns=\"http://www.w3.org/2000/svg\" height=\"24px\" viewBox=\"0 -960 960 960\">\n",
              "    <path d=\"M120-120v-720h720v720H120Zm60-500h600v-160H180v160Zm220 220h160v-160H400v160Zm0 220h160v-160H400v160ZM180-400h160v-160H180v160Zm440 0h160v-160H620v160ZM180-180h160v-160H180v160Zm440 0h160v-160H620v160Z\"/>\n",
              "  </svg>\n",
              "    </button>\n",
              "\n",
              "  <style>\n",
              "    .colab-df-container {\n",
              "      display:flex;\n",
              "      gap: 12px;\n",
              "    }\n",
              "\n",
              "    .colab-df-convert {\n",
              "      background-color: #E8F0FE;\n",
              "      border: none;\n",
              "      border-radius: 50%;\n",
              "      cursor: pointer;\n",
              "      display: none;\n",
              "      fill: #1967D2;\n",
              "      height: 32px;\n",
              "      padding: 0 0 0 0;\n",
              "      width: 32px;\n",
              "    }\n",
              "\n",
              "    .colab-df-convert:hover {\n",
              "      background-color: #E2EBFA;\n",
              "      box-shadow: 0px 1px 2px rgba(60, 64, 67, 0.3), 0px 1px 3px 1px rgba(60, 64, 67, 0.15);\n",
              "      fill: #174EA6;\n",
              "    }\n",
              "\n",
              "    .colab-df-buttons div {\n",
              "      margin-bottom: 4px;\n",
              "    }\n",
              "\n",
              "    [theme=dark] .colab-df-convert {\n",
              "      background-color: #3B4455;\n",
              "      fill: #D2E3FC;\n",
              "    }\n",
              "\n",
              "    [theme=dark] .colab-df-convert:hover {\n",
              "      background-color: #434B5C;\n",
              "      box-shadow: 0px 1px 3px 1px rgba(0, 0, 0, 0.15);\n",
              "      filter: drop-shadow(0px 1px 2px rgba(0, 0, 0, 0.3));\n",
              "      fill: #FFFFFF;\n",
              "    }\n",
              "  </style>\n",
              "\n",
              "    <script>\n",
              "      const buttonEl =\n",
              "        document.querySelector('#df-76a3ce00-4b65-4f43-97e0-c47c5aea71c4 button.colab-df-convert');\n",
              "      buttonEl.style.display =\n",
              "        google.colab.kernel.accessAllowed ? 'block' : 'none';\n",
              "\n",
              "      async function convertToInteractive(key) {\n",
              "        const element = document.querySelector('#df-76a3ce00-4b65-4f43-97e0-c47c5aea71c4');\n",
              "        const dataTable =\n",
              "          await google.colab.kernel.invokeFunction('convertToInteractive',\n",
              "                                                    [key], {});\n",
              "        if (!dataTable) return;\n",
              "\n",
              "        const docLinkHtml = 'Like what you see? Visit the ' +\n",
              "          '<a target=\"_blank\" href=https://colab.research.google.com/notebooks/data_table.ipynb>data table notebook</a>'\n",
              "          + ' to learn more about interactive tables.';\n",
              "        element.innerHTML = '';\n",
              "        dataTable['output_type'] = 'display_data';\n",
              "        await google.colab.output.renderOutput(dataTable, element);\n",
              "        const docLink = document.createElement('div');\n",
              "        docLink.innerHTML = docLinkHtml;\n",
              "        element.appendChild(docLink);\n",
              "      }\n",
              "    </script>\n",
              "  </div>\n",
              "\n",
              "\n",
              "<div id=\"df-554cd476-6f61-4187-a8f1-e12708bda982\">\n",
              "  <button class=\"colab-df-quickchart\" onclick=\"quickchart('df-554cd476-6f61-4187-a8f1-e12708bda982')\"\n",
              "            title=\"Suggest charts.\"\n",
              "            style=\"display:none;\">\n",
              "\n",
              "<svg xmlns=\"http://www.w3.org/2000/svg\" height=\"24px\"viewBox=\"0 0 24 24\"\n",
              "     width=\"24px\">\n",
              "    <g>\n",
              "        <path d=\"M19 3H5c-1.1 0-2 .9-2 2v14c0 1.1.9 2 2 2h14c1.1 0 2-.9 2-2V5c0-1.1-.9-2-2-2zM9 17H7v-7h2v7zm4 0h-2V7h2v10zm4 0h-2v-4h2v4z\"/>\n",
              "    </g>\n",
              "</svg>\n",
              "  </button>\n",
              "\n",
              "<style>\n",
              "  .colab-df-quickchart {\n",
              "      --bg-color: #E8F0FE;\n",
              "      --fill-color: #1967D2;\n",
              "      --hover-bg-color: #E2EBFA;\n",
              "      --hover-fill-color: #174EA6;\n",
              "      --disabled-fill-color: #AAA;\n",
              "      --disabled-bg-color: #DDD;\n",
              "  }\n",
              "\n",
              "  [theme=dark] .colab-df-quickchart {\n",
              "      --bg-color: #3B4455;\n",
              "      --fill-color: #D2E3FC;\n",
              "      --hover-bg-color: #434B5C;\n",
              "      --hover-fill-color: #FFFFFF;\n",
              "      --disabled-bg-color: #3B4455;\n",
              "      --disabled-fill-color: #666;\n",
              "  }\n",
              "\n",
              "  .colab-df-quickchart {\n",
              "    background-color: var(--bg-color);\n",
              "    border: none;\n",
              "    border-radius: 50%;\n",
              "    cursor: pointer;\n",
              "    display: none;\n",
              "    fill: var(--fill-color);\n",
              "    height: 32px;\n",
              "    padding: 0;\n",
              "    width: 32px;\n",
              "  }\n",
              "\n",
              "  .colab-df-quickchart:hover {\n",
              "    background-color: var(--hover-bg-color);\n",
              "    box-shadow: 0 1px 2px rgba(60, 64, 67, 0.3), 0 1px 3px 1px rgba(60, 64, 67, 0.15);\n",
              "    fill: var(--button-hover-fill-color);\n",
              "  }\n",
              "\n",
              "  .colab-df-quickchart-complete:disabled,\n",
              "  .colab-df-quickchart-complete:disabled:hover {\n",
              "    background-color: var(--disabled-bg-color);\n",
              "    fill: var(--disabled-fill-color);\n",
              "    box-shadow: none;\n",
              "  }\n",
              "\n",
              "  .colab-df-spinner {\n",
              "    border: 2px solid var(--fill-color);\n",
              "    border-color: transparent;\n",
              "    border-bottom-color: var(--fill-color);\n",
              "    animation:\n",
              "      spin 1s steps(1) infinite;\n",
              "  }\n",
              "\n",
              "  @keyframes spin {\n",
              "    0% {\n",
              "      border-color: transparent;\n",
              "      border-bottom-color: var(--fill-color);\n",
              "      border-left-color: var(--fill-color);\n",
              "    }\n",
              "    20% {\n",
              "      border-color: transparent;\n",
              "      border-left-color: var(--fill-color);\n",
              "      border-top-color: var(--fill-color);\n",
              "    }\n",
              "    30% {\n",
              "      border-color: transparent;\n",
              "      border-left-color: var(--fill-color);\n",
              "      border-top-color: var(--fill-color);\n",
              "      border-right-color: var(--fill-color);\n",
              "    }\n",
              "    40% {\n",
              "      border-color: transparent;\n",
              "      border-right-color: var(--fill-color);\n",
              "      border-top-color: var(--fill-color);\n",
              "    }\n",
              "    60% {\n",
              "      border-color: transparent;\n",
              "      border-right-color: var(--fill-color);\n",
              "    }\n",
              "    80% {\n",
              "      border-color: transparent;\n",
              "      border-right-color: var(--fill-color);\n",
              "      border-bottom-color: var(--fill-color);\n",
              "    }\n",
              "    90% {\n",
              "      border-color: transparent;\n",
              "      border-bottom-color: var(--fill-color);\n",
              "    }\n",
              "  }\n",
              "</style>\n",
              "\n",
              "  <script>\n",
              "    async function quickchart(key) {\n",
              "      const quickchartButtonEl =\n",
              "        document.querySelector('#' + key + ' button');\n",
              "      quickchartButtonEl.disabled = true;  // To prevent multiple clicks.\n",
              "      quickchartButtonEl.classList.add('colab-df-spinner');\n",
              "      try {\n",
              "        const charts = await google.colab.kernel.invokeFunction(\n",
              "            'suggestCharts', [key], {});\n",
              "      } catch (error) {\n",
              "        console.error('Error during call to suggestCharts:', error);\n",
              "      }\n",
              "      quickchartButtonEl.classList.remove('colab-df-spinner');\n",
              "      quickchartButtonEl.classList.add('colab-df-quickchart-complete');\n",
              "    }\n",
              "    (() => {\n",
              "      let quickchartButtonEl =\n",
              "        document.querySelector('#df-554cd476-6f61-4187-a8f1-e12708bda982 button');\n",
              "      quickchartButtonEl.style.display =\n",
              "        google.colab.kernel.accessAllowed ? 'block' : 'none';\n",
              "    })();\n",
              "  </script>\n",
              "</div>\n",
              "    </div>\n",
              "  </div>\n"
            ]
          },
          "metadata": {},
          "execution_count": 14
        }
      ]
    },
    {
      "cell_type": "markdown",
      "source": [
        "Para encontrar la asimetría y la curtosis tenemos que hallar la media, la moda y la desviación estandar."
      ],
      "metadata": {
        "id": "EMAg6hyWdMi9"
      }
    },
    {
      "cell_type": "code",
      "source": [
        "media = sum(tiempos)/len(tiempos)\n",
        "moda = mode(tiempos)\n",
        "desviacion_estandar = standard_deviation(tiempos)\n",
        "\n",
        "print(f'Media : {media}')\n",
        "print(f'Moda: {moda}')\n",
        "print(f'Desviación estandar: {desviacion_estandar}')\n",
        "\n",
        "\n",
        "# Asimetría = (media - moda) / s\n",
        "asimetria = (media - moda[0][0]) / desviacion_estandar\n",
        "\n",
        "# Curtosis  = sum (x -\\bar(x))/ (ns^4)}\n",
        "tiempos_curtosis = [(x - media)**4 for x in tiempos]\n",
        "curtosis = sum(tiempos_curtosis) /(len(tiempos) * desviacion_estandar ** 4)\n",
        "\n",
        "print(f'asimetria :{asimetria} y curtosis : {curtosis}' )"
      ],
      "metadata": {
        "id": "RelStocSkQtD",
        "colab": {
          "base_uri": "https://localhost:8080/"
        },
        "outputId": "d6d387ae-407d-48c9-8919-e3f8dbc17fd2"
      },
      "execution_count": null,
      "outputs": [
        {
          "output_type": "stream",
          "name": "stdout",
          "text": [
            "Media : 204.47916666666666\n",
            "Moda: ([198], 6)\n",
            "Desviación estandar: 9.86502436255273\n",
            "asimetria :0.6567816184277594 y curtosis : 2.383014802439596\n"
          ]
        }
      ]
    },
    {
      "cell_type": "code",
      "source": [
        "tabla_frecuencias['fi * marca_clase'] = tabla_frecuencias['Frecuencia Absoluta'] * tabla_frecuencias['Marca de Clase']\n",
        "media2 = sum(tabla_frecuencias['fi * marca_clase'])/sum(tabla_frecuencias['Frecuencia Absoluta'])\n",
        "d1 = abs(13-9)\n",
        "d2 = abs(13-11)\n",
        "moda2 = 199 + (d1 /(d1+d2)) * numero_particion\n",
        "tabla_frecuencias['marca_clase-media'] = tabla_frecuencias['Marca de Clase'] - media2\n",
        "desviacion_estandar2 = ((sum(tabla_frecuencias['marca_clase-media'])) / (sum(tabla_frecuencias['Frecuencia Absoluta'])-1) )** (0.5)\n",
        "\n",
        "print(f'Media : {media2}')\n",
        "print(f'Moda: {moda2}')\n",
        "print(f'Desviación estandar: {desviacion_estandar2}')\n",
        "\n",
        "# Asimetría = (media - moda) / s\n",
        "asimetria2 = (media2 - moda2) / desviacion_estandar2\n",
        "\n",
        "# Curtosis  = sum (x -\\bar(x))/ (ns^4)}\n",
        "tabla_frecuencias['fi* (marca_clase-media)^4'] = tabla_frecuencias['Frecuencia Absoluta']* (tabla_frecuencias['marca_clase-media'])**4\n",
        "tiempos_curtosis2 = tabla_frecuencias['fi* (marca_clase-media)^4']\n",
        "curtosis2 = sum(tiempos_curtosis2) /((len(tiempos) * (desviacion_estandar2) ** 4))\n",
        "\n",
        "print(f'asimetria :{asimetria2} y curtosis : {curtosis2}' )"
      ],
      "metadata": {
        "colab": {
          "base_uri": "https://localhost:8080/"
        },
        "id": "71dsi06fn0vf",
        "outputId": "8eb98946-a87c-47da-85fa-fa72edde8cd6"
      },
      "execution_count": null,
      "outputs": [
        {
          "output_type": "stream",
          "name": "stdout",
          "text": [
            "Media : 204.39583333333334\n",
            "Moda: 203.66666666666666\n",
            "Desviación estandar: 0.45253423521602426\n",
            "asimetria :1.6112961405419561 y curtosis : 595597.2504588447\n"
          ]
        }
      ]
    },
    {
      "cell_type": "code",
      "source": [
        "# Cálculo de valor máximo , cuartil 1, 2, 3 y valor mínimo\n",
        "\n",
        "_min = min(tiempos)\n",
        "q1 = 192 + ((0.25 - 0.125)/0.1825) * numero_particion\n",
        "q2 = 199 + ((0.5 - 0.3125)/0.2708) * numero_particion\n",
        "q3 = 206 + ((0.75 - 0.5833)/0.2292) * numero_particion\n",
        "_max = max(tiempos)\n",
        "\n",
        "cuartiles = [_min , q1 , q2 , q3 , _max]\n",
        "cuartiles"
      ],
      "metadata": {
        "id": "mvNkSiLH0xci",
        "colab": {
          "base_uri": "https://localhost:8080/"
        },
        "outputId": "27f7afb5-a978-4c3f-f7da-e15c43cbdc81"
      },
      "execution_count": null,
      "outputs": [
        {
          "output_type": "execute_result",
          "data": {
            "text/plain": [
              "[185, 196.7945205479452, 203.8467503692762, 211.0911867364747, 225]"
            ]
          },
          "metadata": {},
          "execution_count": 17
        }
      ]
    },
    {
      "cell_type": "code",
      "source": [
        "# cercos\n",
        "RIC = q3 - q1\n",
        "\n",
        "c1 = q1 - 3 * RIC\n",
        "c2 = q1 - 1.5 * RIC\n",
        "c3 = q3 + 1.5 * RIC\n",
        "c4 = q3 + 3 * RIC\n",
        "cercos = [ c1 ,  c2 , q1 , q2 , q3 , c3 , c4]\n",
        "\n",
        "cercos"
      ],
      "metadata": {
        "colab": {
          "base_uri": "https://localhost:8080/"
        },
        "id": "Mg3kEcxOaeKT",
        "outputId": "389818ab-f030-4284-a4ba-a9d70b56b553"
      },
      "execution_count": null,
      "outputs": [
        {
          "output_type": "execute_result",
          "data": {
            "text/plain": [
              "[153.90452198235675,\n",
              " 175.349521265151,\n",
              " 196.7945205479452,\n",
              " 203.8467503692762,\n",
              " 211.0911867364747,\n",
              " 232.53618601926894,\n",
              " 253.98118530206315]"
            ]
          },
          "metadata": {},
          "execution_count": 22
        }
      ]
    },
    {
      "cell_type": "code",
      "source": [
        "# Cálculo de valor máximo , cuartil 1, 2, 3 y valor mínimo\n",
        "\n",
        "_min = min(tiempos)\n",
        "D1 = 185 + ((0.1 * (1) - 0)/0.125) * numero_particion\n",
        "D2 = 192 + ((0.1 * (2) - 0.125)/ 0.1875) * numero_particion\n",
        "D3 = 192 + ((0.1 * (3) - 0.125)/ 0.1875) * numero_particion\n",
        "D4 = 199 + ((0.1 * (4) - 0.3125)/ 0.2703) * numero_particion\n",
        "D5 = 199 + ((0.1 * (5) - 0.3125)/ 0.2703) * numero_particion\n",
        "D6 = 206 + ((0.1 * (6) - 0.5833)/ 0.2292) * numero_particion\n",
        "D7 = 206 + ((0.1 * (7) - 0.5833)/ 0.2292) * numero_particion\n",
        "D8 = 206 + ((0.1 * (8) - 0.5833)/ 0.2292) * numero_particion\n",
        "D9 = 220 + ((0.1 * (9) - 0.8958)/ 0.1042) * numero_particion\n",
        "_max = max(tiempos)\n",
        "\n",
        "cuartiles = [_min , D1 , D2 , D3 , D4 , D5 , D7 , D8 , D9 , _max]\n",
        "cuartiles"
      ],
      "metadata": {
        "colab": {
          "base_uri": "https://localhost:8080/"
        },
        "id": "T2elcrvaODMm",
        "outputId": "651218f5-ca10-4e40-c420-ec0c7a12cca0"
      },
      "execution_count": null,
      "outputs": [
        {
          "output_type": "execute_result",
          "data": {
            "text/plain": [
              "[185,\n",
              " 190.6,\n",
              " 194.8,\n",
              " 198.53333333333333,\n",
              " 201.2660007399186,\n",
              " 203.85571587125418,\n",
              " 209.56413612565444,\n",
              " 212.61823734729495,\n",
              " 220.28214971209212,\n",
              " 225]"
            ]
          },
          "metadata": {},
          "execution_count": 18
        }
      ]
    }
  ]
}